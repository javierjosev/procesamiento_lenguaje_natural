{
 "cells": [
  {
   "cell_type": "markdown",
   "metadata": {},
   "source": [
    "<img src=\"https://github.com/hernancontigiani/ceia_memorias_especializacion/raw/master/Figures/logoFIUBA.jpg\" width=\"500\" align=\"center\">\n",
    "\n",
    "\n",
    "# Procesamiento de lenguaje natural\n",
    "## LSTM Bot QA"
   ]
  },
  {
   "cell_type": "markdown",
   "metadata": {},
   "source": [
    "### Datos\n",
    "El objecto es utilizar datos disponibles del challenge ConvAI2 (Conversational Intelligence Challenge 2) de conversaciones en inglés. Se construirá un BOT para responder a preguntas del usuario (QA).\\\n",
    "[LINK](http://convai.io/data/)"
   ]
  },
  {
   "cell_type": "code",
   "execution_count": 1,
   "metadata": {},
   "outputs": [
    {
     "name": "stdout",
     "output_type": "stream",
     "text": [
      "Requirement already satisfied: gdown in /workspaces/procesamiento_lenguaje_natural/.venv/lib/python3.10/site-packages (5.1.0)\n",
      "Requirement already satisfied: beautifulsoup4 in /workspaces/procesamiento_lenguaje_natural/.venv/lib/python3.10/site-packages (from gdown) (4.12.3)\n",
      "Requirement already satisfied: filelock in /workspaces/procesamiento_lenguaje_natural/.venv/lib/python3.10/site-packages (from gdown) (3.13.4)\n",
      "Requirement already satisfied: requests[socks] in /workspaces/procesamiento_lenguaje_natural/.venv/lib/python3.10/site-packages (from gdown) (2.31.0)\n",
      "Requirement already satisfied: tqdm in /workspaces/procesamiento_lenguaje_natural/.venv/lib/python3.10/site-packages (from gdown) (4.66.2)\n",
      "Requirement already satisfied: soupsieve>1.2 in /workspaces/procesamiento_lenguaje_natural/.venv/lib/python3.10/site-packages (from beautifulsoup4->gdown) (2.5)\n",
      "Requirement already satisfied: charset-normalizer<4,>=2 in /workspaces/procesamiento_lenguaje_natural/.venv/lib/python3.10/site-packages (from requests[socks]->gdown) (3.3.2)\n",
      "Requirement already satisfied: idna<4,>=2.5 in /workspaces/procesamiento_lenguaje_natural/.venv/lib/python3.10/site-packages (from requests[socks]->gdown) (3.7)\n",
      "Requirement already satisfied: urllib3<3,>=1.21.1 in /workspaces/procesamiento_lenguaje_natural/.venv/lib/python3.10/site-packages (from requests[socks]->gdown) (2.2.1)\n",
      "Requirement already satisfied: certifi>=2017.4.17 in /workspaces/procesamiento_lenguaje_natural/.venv/lib/python3.10/site-packages (from requests[socks]->gdown) (2024.2.2)\n",
      "Requirement already satisfied: PySocks!=1.5.7,>=1.5.6 in /workspaces/procesamiento_lenguaje_natural/.venv/lib/python3.10/site-packages (from requests[socks]->gdown) (1.7.1)\n",
      "Note: you may need to restart the kernel to use updated packages.\n"
     ]
    }
   ],
   "source": [
    "%pip install --upgrade --no-cache-dir gdown"
   ]
  },
  {
   "cell_type": "code",
   "execution_count": 2,
   "metadata": {},
   "outputs": [],
   "source": [
    "# %pip install -U pip keras tensorflow"
   ]
  },
  {
   "cell_type": "code",
   "execution_count": 3,
   "metadata": {},
   "outputs": [
    {
     "name": "stdout",
     "output_type": "stream",
     "text": [
      "Requirement already satisfied: pydot in /workspaces/procesamiento_lenguaje_natural/.venv/lib/python3.10/site-packages (2.0.0)\n",
      "Requirement already satisfied: pyparsing>=3 in /workspaces/procesamiento_lenguaje_natural/.venv/lib/python3.10/site-packages (from pydot) (3.1.2)\n",
      "Note: you may need to restart the kernel to use updated packages.\n"
     ]
    }
   ],
   "source": [
    "%pip install pydot"
   ]
  },
  {
   "cell_type": "code",
   "execution_count": 4,
   "metadata": {},
   "outputs": [
    {
     "name": "stderr",
     "output_type": "stream",
     "text": [
      "2024-04-23 19:58:22.915266: E tensorflow/compiler/xla/stream_executor/cuda/cuda_dnn.cc:9342] Unable to register cuDNN factory: Attempting to register factory for plugin cuDNN when one has already been registered\n",
      "2024-04-23 19:58:22.915295: E tensorflow/compiler/xla/stream_executor/cuda/cuda_fft.cc:609] Unable to register cuFFT factory: Attempting to register factory for plugin cuFFT when one has already been registered\n",
      "2024-04-23 19:58:22.915315: E tensorflow/compiler/xla/stream_executor/cuda/cuda_blas.cc:1518] Unable to register cuBLAS factory: Attempting to register factory for plugin cuBLAS when one has already been registered\n",
      "2024-04-23 19:58:22.920098: I tensorflow/core/platform/cpu_feature_guard.cc:182] This TensorFlow binary is optimized to use available CPU instructions in performance-critical operations.\n",
      "To enable the following instructions: AVX2 FMA, in other operations, rebuild TensorFlow with the appropriate compiler flags.\n"
     ]
    }
   ],
   "source": [
    "import re\n",
    "\n",
    "import numpy as np\n",
    "import pandas as pd\n",
    "\n",
    "import tensorflow as tf\n",
    "from keras.preprocessing.text import one_hot\n",
    "from tensorflow.keras.utils import pad_sequences\n",
    "from keras.models import Sequential\n",
    "from keras.layers import Activation, Dropout, Dense\n",
    "from keras.layers import Flatten, LSTM, SimpleRNN\n",
    "from keras.models import Model\n",
    "from tensorflow.keras.layers import Embedding\n",
    "from sklearn.model_selection import train_test_split\n",
    "from keras.preprocessing.text import Tokenizer\n",
    "from keras.layers import Input\n",
    "from keras.utils import plot_model"
   ]
  },
  {
   "cell_type": "code",
   "execution_count": 5,
   "metadata": {},
   "outputs": [
    {
     "name": "stdout",
     "output_type": "stream",
     "text": [
      "El dataset ya se encuentra descargado\n"
     ]
    }
   ],
   "source": [
    "# Descargar la carpeta de dataset\n",
    "import os\n",
    "import gdown\n",
    "if os.access('data_volunteers.json', os.F_OK) is False:\n",
    "    url = 'https://drive.google.com/uc?id=1awUxYwImF84MIT5-jCaYAPe2QwSgS1hN&export=download'\n",
    "    output = 'data_volunteers.json'\n",
    "    gdown.download(url, output, quiet=False)\n",
    "else:\n",
    "    print(\"El dataset ya se encuentra descargado\")"
   ]
  },
  {
   "cell_type": "code",
   "execution_count": 6,
   "metadata": {},
   "outputs": [],
   "source": [
    "# dataset_file\n",
    "import json\n",
    "\n",
    "text_file = \"data_volunteers.json\"\n",
    "with open(text_file) as f:\n",
    "    data = json.load(f) # la variable data será un diccionario"
   ]
  },
  {
   "cell_type": "code",
   "execution_count": 7,
   "metadata": {},
   "outputs": [
    {
     "data": {
      "text/plain": [
       "dict_keys(['dialog', 'start_time', 'end_time', 'bot_profile', 'user_profile', 'eval_score', 'profile_match', 'participant1_id', 'participant2_id'])"
      ]
     },
     "execution_count": 7,
     "metadata": {},
     "output_type": "execute_result"
    }
   ],
   "source": [
    "# Observar los campos disponibles en cada linea del dataset\n",
    "data[0].keys()"
   ]
  },
  {
   "cell_type": "code",
   "execution_count": 8,
   "metadata": {},
   "outputs": [
    {
     "name": "stdout",
     "output_type": "stream",
     "text": [
      "Cantidad de rows utilizadas: 6033\n"
     ]
    }
   ],
   "source": [
    "chat_in = []\n",
    "chat_out = []\n",
    "\n",
    "input_sentences = []\n",
    "output_sentences = []\n",
    "output_sentences_inputs = []\n",
    "max_len = 30\n",
    "\n",
    "def clean_text(txt):\n",
    "    txt = txt.lower()    \n",
    "    txt.replace(\"\\'d\", \" had\")\n",
    "    txt.replace(\"\\'s\", \" is\")\n",
    "    txt.replace(\"\\'m\", \" am\")\n",
    "    txt.replace(\"don't\", \"do not\")\n",
    "    txt = re.sub(r'\\W+', ' ', txt)\n",
    "    \n",
    "    return txt\n",
    "\n",
    "for line in data:\n",
    "    for i in range(len(line['dialog'])-1):\n",
    "        # vamos separando el texto en \"preguntas\" (chat_in)\n",
    "        # y \"respuestas\" (chat_out)\n",
    "        chat_in = clean_text(line['dialog'][i]['text'])\n",
    "        chat_out = clean_text(line['dialog'][i+1]['text'])\n",
    "\n",
    "        if len(chat_in) >= max_len or len(chat_out) >= max_len:\n",
    "            continue\n",
    "\n",
    "        input_sentence, output = chat_in, chat_out\n",
    "        \n",
    "        # output sentence (decoder_output) tiene <eos>\n",
    "        output_sentence = output + ' <eos>'\n",
    "        # output sentence input (decoder_input) tiene <sos>\n",
    "        output_sentence_input = '<sos> ' + output\n",
    "\n",
    "        input_sentences.append(input_sentence)\n",
    "        output_sentences.append(output_sentence)\n",
    "        output_sentences_inputs.append(output_sentence_input)\n",
    "\n",
    "print(\"Cantidad de rows utilizadas:\", len(input_sentences))"
   ]
  },
  {
   "cell_type": "code",
   "execution_count": 9,
   "metadata": {},
   "outputs": [
    {
     "data": {
      "text/plain": [
       "('hi how are you ', 'not bad and you  <eos>', '<sos> not bad and you ')"
      ]
     },
     "execution_count": 9,
     "metadata": {},
     "output_type": "execute_result"
    }
   ],
   "source": [
    "input_sentences[1], output_sentences[1], output_sentences_inputs[1]"
   ]
  },
  {
   "cell_type": "markdown",
   "metadata": {},
   "source": [
    "### 2 - Preprocesamiento\n",
    "Se realiza el preprocesamiento necesario para obtener:\n",
    "- word2idx (único por emplearse solamente un idioma)\n",
    "- max_input_len\n",
    "- max_out_len, num_words_output\n",
    "- encoder_input_sequences, decoder_output_sequences, decoder_targets"
   ]
  },
  {
   "cell_type": "code",
   "execution_count": 10,
   "metadata": {},
   "outputs": [],
   "source": [
    "# Definir el tamaño máximo del vocabulario\n",
    "MAX_VOCAB_SIZE = 20000"
   ]
  },
  {
   "cell_type": "code",
   "execution_count": 11,
   "metadata": {},
   "outputs": [
    {
     "name": "stdout",
     "output_type": "stream",
     "text": [
      "Palabras en el vocabulario: 2157\n",
      "Sentencia de entrada más larga en input: 9\n",
      "Sentencia de salida más larga en output: 10\n"
     ]
    }
   ],
   "source": [
    "# Tokenizar las palabras con el Tokenizer de Keras\n",
    "# Definir una máxima cantidad de palabras a utilizar:\n",
    "# - num_words --> the maximum number of words to keep, based on word frequency.\n",
    "# - Only the most common num_words-1 words will be kept.\n",
    "from keras.preprocessing.text import Tokenizer\n",
    "\n",
    "# tokenizador de inglés, se aplica tanto para input y output\n",
    "tokenizer = Tokenizer(num_words=MAX_VOCAB_SIZE)\n",
    "tokenizer.fit_on_texts([\"<sos>\", \"<eos>\"] + input_sentences + output_sentences)\n",
    "\n",
    "input_integer_seq = tokenizer.texts_to_sequences(input_sentences)\n",
    "output_integer_seq = tokenizer.texts_to_sequences(output_sentences)\n",
    "output_input_integer_seq = tokenizer.texts_to_sequences(output_sentences_inputs)\n",
    "\n",
    "word2idx = tokenizer.word_index\n",
    "print(\"Palabras en el vocabulario:\", len(word2idx))\n",
    "\n",
    "max_input_len = max(len(sen) for sen in input_integer_seq)\n",
    "print(\"Sentencia de entrada más larga en input:\", max_input_len)\n",
    "max_out_len = max(len(sen) for sen in output_integer_seq)\n",
    "print(\"Sentencia de salida más larga en output:\", max_out_len)"
   ]
  },
  {
   "cell_type": "code",
   "execution_count": 12,
   "metadata": {},
   "outputs": [],
   "source": [
    "# Por una cuestion de limites con la VRAM, se define el tamaño máximo de las sentencias de entrada:\n",
    "max_input_len = 16\n",
    "max_out_len = 18"
   ]
  },
  {
   "cell_type": "markdown",
   "metadata": {},
   "source": [
    "A la hora de realiza padding es importante tener en cuenta que en el encoder los ceros se agregan al comienzo y en el decoder al final. Esto es porque la salida del encoder está basado en las últimas palabras de la sentencia (son las más importantes), mientras que en el decoder está basado en el comienzo de la secuencia de salida ya que es la realimentación del sistema y termina con fin de sentencia."
   ]
  },
  {
   "cell_type": "code",
   "execution_count": 13,
   "metadata": {},
   "outputs": [
    {
     "name": "stdout",
     "output_type": "stream",
     "text": [
      "Cantidad de rows del dataset: 6033\n",
      "encoder_input_sequences shape: (6033, 16)\n",
      "decoder_input_sequences shape: (6033, 18)\n"
     ]
    }
   ],
   "source": [
    "print(\"Cantidad de rows del dataset:\", len(input_integer_seq))\n",
    "\n",
    "encoder_input_sequences = pad_sequences(input_integer_seq, maxlen=max_input_len)\n",
    "print(\"encoder_input_sequences shape:\", encoder_input_sequences.shape)\n",
    "\n",
    "decoder_input_sequences = pad_sequences(output_input_integer_seq, maxlen=max_out_len, padding='post')\n",
    "print(\"decoder_input_sequences shape:\", decoder_input_sequences.shape)"
   ]
  },
  {
   "cell_type": "markdown",
   "metadata": {},
   "source": [
    "La última capa del modelo (softmax) necesita que los valores de salida\n",
    "del decoder (decoder_sequences) estén en formato OneHotEncoder.\\\n",
    "Se utiliza \"decoder_output_sequences\" con la misma estrategia con que se transformó la entrada del decoder."
   ]
  },
  {
   "cell_type": "code",
   "execution_count": 14,
   "metadata": {},
   "outputs": [
    {
     "name": "stdout",
     "output_type": "stream",
     "text": [
      "Cantidad de palabras (salida): 2158\n"
     ]
    },
    {
     "data": {
      "text/plain": [
       "(6033, 18, 2158)"
      ]
     },
     "execution_count": 14,
     "metadata": {},
     "output_type": "execute_result"
    }
   ],
   "source": [
    "from keras.utils import to_categorical\n",
    "\n",
    "# número máximo de palabras en el output. Se toma el diccionario entero\n",
    "num_words_output = min(len(word2idx) + 1, MAX_VOCAB_SIZE) \n",
    "print(f\"Cantidad de palabras (salida): {num_words_output}\")\n",
    "\n",
    "decoder_output_sequences = pad_sequences(output_integer_seq, maxlen=max_out_len, padding='post')\n",
    "decoder_targets = to_categorical(decoder_output_sequences, num_classes=num_words_output)\n",
    "decoder_targets.shape"
   ]
  },
  {
   "cell_type": "markdown",
   "metadata": {},
   "source": [
    "### 3 - Preparar los embeddings\n",
    "Utilizar los embeddings de Glove o FastText para transformar los tokens de entrada en vectores"
   ]
  },
  {
   "cell_type": "code",
   "execution_count": 15,
   "metadata": {},
   "outputs": [
    {
     "name": "stdout",
     "output_type": "stream",
     "text": [
      "Los embeddings gloveembedding.pkl ya están descargados\n"
     ]
    }
   ],
   "source": [
    "# Descargar los embeddings desde un google drive (es la forma más rápida)\n",
    "# NOTA: No hay garantía de que estos links perduren, en caso de que no estén\n",
    "# disponibles descargar de la página oficial como se explica en el siguiente bloque de código\n",
    "import os\n",
    "import gdown\n",
    "if os.access('gloveembedding.pkl', os.F_OK) is False:\n",
    "    url = 'https://drive.google.com/uc?id=1KY6avD5I1eI2dxQzMkR3WExwKwRq2g94&export=download'\n",
    "    output = 'gloveembedding.pkl'\n",
    "    gdown.download(url, output, quiet=False)\n",
    "else:\n",
    "    print(\"Los embeddings gloveembedding.pkl ya están descargados\")"
   ]
  },
  {
   "cell_type": "code",
   "execution_count": 16,
   "metadata": {},
   "outputs": [],
   "source": [
    "import logging\n",
    "import os\n",
    "from pathlib import Path\n",
    "from io import StringIO\n",
    "import pickle\n",
    "\n",
    "class WordsEmbeddings(object):\n",
    "    logger = logging.getLogger(__name__)\n",
    "\n",
    "    def __init__(self):\n",
    "        # load the embeddings\n",
    "        words_embedding_pkl = Path(self.PKL_PATH)\n",
    "        if not words_embedding_pkl.is_file():\n",
    "            words_embedding_txt = Path(self.WORD_TO_VEC_MODEL_TXT_PATH)\n",
    "            assert words_embedding_txt.is_file(), 'Words embedding not available'\n",
    "            embeddings = self.convert_model_to_pickle()\n",
    "        else:\n",
    "            embeddings = self.load_model_from_pickle()\n",
    "        self.embeddings = embeddings\n",
    "        # build the vocabulary hashmap\n",
    "        index = np.arange(self.embeddings.shape[0])\n",
    "        # Dicctionarios para traducir de embedding a IDX de la palabra\n",
    "        self.word2idx = dict(zip(self.embeddings['word'], index))\n",
    "        self.idx2word = dict(zip(index, self.embeddings['word']))\n",
    "\n",
    "    def get_words_embeddings(self, words):\n",
    "        words_idxs = self.words2idxs(words)\n",
    "        return self.embeddings[words_idxs]['embedding']\n",
    "\n",
    "    def words2idxs(self, words):\n",
    "        return np.array([self.word2idx.get(word, -1) for word in words])\n",
    "\n",
    "    def idxs2words(self, idxs):\n",
    "        return np.array([self.idx2word.get(idx, '-1') for idx in idxs])\n",
    "\n",
    "    def load_model_from_pickle(self):\n",
    "        self.logger.debug(\n",
    "            'loading words embeddings from pickle {}'.format(\n",
    "                self.PKL_PATH\n",
    "            )\n",
    "        )\n",
    "        max_bytes = 2**28 - 1 # 256MB\n",
    "        bytes_in = bytearray(0)\n",
    "        input_size = os.path.getsize(self.PKL_PATH)\n",
    "        with open(self.PKL_PATH, 'rb') as f_in:\n",
    "            for _ in range(0, input_size, max_bytes):\n",
    "                bytes_in += f_in.read(max_bytes)\n",
    "        embeddings = pickle.loads(bytes_in)\n",
    "        self.logger.debug('words embeddings loaded')\n",
    "        return embeddings\n",
    "\n",
    "    def convert_model_to_pickle(self):\n",
    "        # create a numpy strctured array:\n",
    "        # word     embedding\n",
    "        # U50      np.float32[]\n",
    "        # word_1   a, b, c\n",
    "        # word_2   d, e, f\n",
    "        # ...\n",
    "        # word_n   g, h, i\n",
    "        self.logger.debug(\n",
    "            'converting and loading words embeddings from text file {}'.format(\n",
    "                self.WORD_TO_VEC_MODEL_TXT_PATH\n",
    "            )\n",
    "        )\n",
    "        structure = [('word', np.dtype('U' + str(self.WORD_MAX_SIZE))),\n",
    "                     ('embedding', np.float32, (self.N_FEATURES,))]\n",
    "        structure = np.dtype(structure)\n",
    "        # load numpy array from disk using a generator\n",
    "        with open(self.WORD_TO_VEC_MODEL_TXT_PATH, encoding=\"utf8\") as words_embeddings_txt:\n",
    "            embeddings_gen = (\n",
    "                (line.split()[0], line.split()[1:]) for line in words_embeddings_txt\n",
    "                if len(line.split()[1:]) == self.N_FEATURES\n",
    "            )\n",
    "            embeddings = np.fromiter(embeddings_gen, structure)\n",
    "        # add a null embedding\n",
    "        null_embedding = np.array(\n",
    "            [('null_embedding', np.zeros((self.N_FEATURES,), dtype=np.float32))],\n",
    "            dtype=structure\n",
    "        )\n",
    "        embeddings = np.concatenate([embeddings, null_embedding])\n",
    "        # dump numpy array to disk using pickle\n",
    "        max_bytes = 2**28 - 1 # # 256MB\n",
    "        bytes_out = pickle.dumps(embeddings, protocol=pickle.HIGHEST_PROTOCOL)\n",
    "        with open(self.PKL_PATH, 'wb') as f_out:\n",
    "            for idx in range(0, len(bytes_out), max_bytes):\n",
    "                f_out.write(bytes_out[idx:idx+max_bytes])\n",
    "        self.logger.debug('words embeddings loaded')\n",
    "        return embeddings\n",
    "\n",
    "\n",
    "class GloveEmbeddings(WordsEmbeddings):\n",
    "    WORD_TO_VEC_MODEL_TXT_PATH = 'glove.twitter.27B.50d.txt'\n",
    "    PKL_PATH = 'gloveembedding.pkl'\n",
    "    N_FEATURES = 50\n",
    "    WORD_MAX_SIZE = 60\n",
    "\n",
    "class FasttextEmbeddings(WordsEmbeddings):\n",
    "    WORD_TO_VEC_MODEL_TXT_PATH = 'cc.en.300.vec'\n",
    "    PKL_PATH = 'fasttext.pkl'\n",
    "    N_FEATURES = 300\n",
    "    WORD_MAX_SIZE = 60"
   ]
  },
  {
   "cell_type": "code",
   "execution_count": 17,
   "metadata": {},
   "outputs": [],
   "source": [
    "# Por una cuestion de limite de VRAM se utilizarán los embeddings de Glove de dimension 50\n",
    "model_embeddings = GloveEmbeddings()"
   ]
  },
  {
   "cell_type": "code",
   "execution_count": 18,
   "metadata": {},
   "outputs": [
    {
     "name": "stdout",
     "output_type": "stream",
     "text": [
      "preparing embedding matrix...\n",
      "number of null word embeddings: 44\n"
     ]
    }
   ],
   "source": [
    "# Crear la Embedding matrix de las secuencias\n",
    "# en inglés\n",
    "\n",
    "print('preparing embedding matrix...')\n",
    "embed_dim = model_embeddings.N_FEATURES\n",
    "words_not_found = []\n",
    "\n",
    "# word_index provienen del tokenizer\n",
    "\n",
    "nb_words = min(MAX_VOCAB_SIZE, len(word2idx)) # vocab_size\n",
    "embedding_matrix = np.zeros((nb_words, embed_dim))\n",
    "for word, i in word2idx.items():\n",
    "    if i >= nb_words:\n",
    "        continue\n",
    "    embedding_vector = model_embeddings.get_words_embeddings(word)[0]\n",
    "    if (embedding_vector is not None) and len(embedding_vector) > 0:\n",
    "        \n",
    "        embedding_matrix[i] = embedding_vector\n",
    "    else:\n",
    "        # words not found in embedding index will be all-zeros.\n",
    "        words_not_found.append(word)\n",
    "\n",
    "print('number of null word embeddings:', np.sum(np.sum(embedding_matrix**2, axis=1) == 0))"
   ]
  },
  {
   "cell_type": "code",
   "execution_count": 19,
   "metadata": {},
   "outputs": [
    {
     "data": {
      "text/plain": [
       "(2157, 50)"
      ]
     },
     "execution_count": 19,
     "metadata": {},
     "output_type": "execute_result"
    }
   ],
   "source": [
    "# Dimensión de los embeddings de la secuencia en inglés\n",
    "embedding_matrix.shape"
   ]
  },
  {
   "cell_type": "markdown",
   "metadata": {},
   "source": [
    "### 4 - Entrenar el modelo\n",
    "Entrenar un modelo basado en el esquema encoder-decoder utilizando los datos generados en los puntos anteriores. Utilce como referencias los ejemplos vistos en clase."
   ]
  },
  {
   "cell_type": "code",
   "execution_count": 20,
   "metadata": {},
   "outputs": [
    {
     "name": "stderr",
     "output_type": "stream",
     "text": [
      "2024-04-23 19:58:26.762979: I tensorflow/compiler/xla/stream_executor/cuda/cuda_gpu_executor.cc:894] successful NUMA node read from SysFS had negative value (-1), but there must be at least one NUMA node, so returning NUMA node zero. See more at https://github.com/torvalds/linux/blob/v6.0/Documentation/ABI/testing/sysfs-bus-pci#L344-L355\n",
      "2024-04-23 19:58:26.766520: I tensorflow/compiler/xla/stream_executor/cuda/cuda_gpu_executor.cc:894] successful NUMA node read from SysFS had negative value (-1), but there must be at least one NUMA node, so returning NUMA node zero. See more at https://github.com/torvalds/linux/blob/v6.0/Documentation/ABI/testing/sysfs-bus-pci#L344-L355\n",
      "2024-04-23 19:58:26.766686: I tensorflow/compiler/xla/stream_executor/cuda/cuda_gpu_executor.cc:894] successful NUMA node read from SysFS had negative value (-1), but there must be at least one NUMA node, so returning NUMA node zero. See more at https://github.com/torvalds/linux/blob/v6.0/Documentation/ABI/testing/sysfs-bus-pci#L344-L355\n",
      "2024-04-23 19:58:26.767402: I tensorflow/compiler/xla/stream_executor/cuda/cuda_gpu_executor.cc:894] successful NUMA node read from SysFS had negative value (-1), but there must be at least one NUMA node, so returning NUMA node zero. See more at https://github.com/torvalds/linux/blob/v6.0/Documentation/ABI/testing/sysfs-bus-pci#L344-L355\n",
      "2024-04-23 19:58:26.767524: I tensorflow/compiler/xla/stream_executor/cuda/cuda_gpu_executor.cc:894] successful NUMA node read from SysFS had negative value (-1), but there must be at least one NUMA node, so returning NUMA node zero. See more at https://github.com/torvalds/linux/blob/v6.0/Documentation/ABI/testing/sysfs-bus-pci#L344-L355\n",
      "2024-04-23 19:58:26.767623: I tensorflow/compiler/xla/stream_executor/cuda/cuda_gpu_executor.cc:894] successful NUMA node read from SysFS had negative value (-1), but there must be at least one NUMA node, so returning NUMA node zero. See more at https://github.com/torvalds/linux/blob/v6.0/Documentation/ABI/testing/sysfs-bus-pci#L344-L355\n",
      "2024-04-23 19:58:26.817737: I tensorflow/compiler/xla/stream_executor/cuda/cuda_gpu_executor.cc:894] successful NUMA node read from SysFS had negative value (-1), but there must be at least one NUMA node, so returning NUMA node zero. See more at https://github.com/torvalds/linux/blob/v6.0/Documentation/ABI/testing/sysfs-bus-pci#L344-L355\n",
      "2024-04-23 19:58:26.817873: I tensorflow/compiler/xla/stream_executor/cuda/cuda_gpu_executor.cc:894] successful NUMA node read from SysFS had negative value (-1), but there must be at least one NUMA node, so returning NUMA node zero. See more at https://github.com/torvalds/linux/blob/v6.0/Documentation/ABI/testing/sysfs-bus-pci#L344-L355\n",
      "2024-04-23 19:58:26.817984: I tensorflow/compiler/xla/stream_executor/cuda/cuda_gpu_executor.cc:894] successful NUMA node read from SysFS had negative value (-1), but there must be at least one NUMA node, so returning NUMA node zero. See more at https://github.com/torvalds/linux/blob/v6.0/Documentation/ABI/testing/sysfs-bus-pci#L344-L355\n",
      "2024-04-23 19:58:26.818076: I tensorflow/core/common_runtime/gpu/gpu_device.cc:1886] Created device /job:localhost/replica:0/task:0/device:GPU:0 with 4232 MB memory:  -> device: 0, name: NVIDIA GeForce RTX 3060 Laptop GPU, pci bus id: 0000:01:00.0, compute capability: 8.6\n"
     ]
    },
    {
     "name": "stdout",
     "output_type": "stream",
     "text": [
      "Model: \"model\"\n",
      "__________________________________________________________________________________________________\n",
      " Layer (type)                Output Shape                 Param #   Connected to                  \n",
      "==================================================================================================\n",
      " input_1 (InputLayer)        [(None, 16)]                 0         []                            \n",
      "                                                                                                  \n",
      " input_2 (InputLayer)        [(None, 18)]                 0         []                            \n",
      "                                                                                                  \n",
      " embedding (Embedding)       (None, 16, 50)               107850    ['input_1[0][0]']             \n",
      "                                                                                                  \n",
      " embedding_1 (Embedding)     (None, 18, 128)              276224    ['input_2[0][0]']             \n",
      "                                                                                                  \n",
      " lstm (LSTM)                 [(None, 128),                91648     ['embedding[0][0]']           \n",
      "                              (None, 128),                                                        \n",
      "                              (None, 128)]                                                        \n",
      "                                                                                                  \n",
      " lstm_1 (LSTM)               [(None, 18, 128),            131584    ['embedding_1[0][0]',         \n",
      "                              (None, 128),                           'lstm[0][1]',                \n",
      "                              (None, 128)]                           'lstm[0][2]']                \n",
      "                                                                                                  \n",
      " dense (Dense)               (None, 18, 2158)             278382    ['lstm_1[0][0]']              \n",
      "                                                                                                  \n",
      "==================================================================================================\n",
      "Total params: 885688 (3.38 MB)\n",
      "Trainable params: 777838 (2.97 MB)\n",
      "Non-trainable params: 107850 (421.29 KB)\n",
      "__________________________________________________________________________________________________\n"
     ]
    }
   ],
   "source": [
    "from keras.models import Model\n",
    "from keras.layers import Input, LSTM, Dense\n",
    "\n",
    "n_units = 128\n",
    "\n",
    "# define training encoder\n",
    "encoder_inputs = Input(shape=(max_input_len))\n",
    "\n",
    "#encoder_embedding_layer = Embedding(num_words, EMBEDDING_SIZE, weights=[embedding_matrix], input_length=max_input_len)\n",
    "\n",
    "encoder_embedding_layer = Embedding(\n",
    "          input_dim=nb_words,  # definido en el Tokenizador\n",
    "          output_dim=embed_dim,  # dimensión de los embeddings utilizados\n",
    "          input_length=max_input_len, # tamaño máximo de la secuencia de entrada\n",
    "          weights=[embedding_matrix],  # matrix de embeddings\n",
    "          trainable=False)      # marcar como layer no entrenable\n",
    "\n",
    "encoder_inputs_x = encoder_embedding_layer(encoder_inputs)\n",
    "\n",
    "encoder = LSTM(n_units, return_state=True)\n",
    "encoder_outputs, state_h, state_c = encoder(encoder_inputs_x)\n",
    "encoder_states = [state_h, state_c]\n",
    "\n",
    "# define training decoder\n",
    "decoder_inputs = Input(shape=(max_out_len))\n",
    "decoder_embedding_layer = Embedding(input_dim=num_words_output, output_dim=n_units, input_length=max_out_len)\n",
    "decoder_inputs_x = decoder_embedding_layer(decoder_inputs)\n",
    "\n",
    "decoder_lstm = LSTM(n_units, return_sequences=True, return_state=True)\n",
    "decoder_outputs, _, _ = decoder_lstm(decoder_inputs_x, initial_state=encoder_states)\n",
    "\n",
    "# Dense\n",
    "decoder_dense = Dense(num_words_output, activation='softmax')\n",
    "decoder_outputs = decoder_dense(decoder_outputs)\n",
    "model = Model([encoder_inputs, decoder_inputs], decoder_outputs)\n",
    "\n",
    "model.compile(loss='categorical_crossentropy', optimizer=\"Adam\", metrics=['accuracy'])\n",
    "model.summary()"
   ]
  },
  {
   "cell_type": "code",
   "execution_count": 21,
   "metadata": {},
   "outputs": [
    {
     "data": {
      "image/png": "[encoded data removed]",
      "text/plain": [
       "<IPython.core.display.Image object>"
      ]
     },
     "execution_count": 21,
     "metadata": {},
     "output_type": "execute_result"
    }
   ],
   "source": [
    "# Modelo completo (encoder+decoder) para poder entrenar\n",
    "plot_model(model, to_file='model_plot.png', show_shapes=True, show_layer_names=True)"
   ]
  },
  {
   "cell_type": "code",
   "execution_count": 22,
   "metadata": {},
   "outputs": [
    {
     "data": {
      "image/png": "[encoded data removed]",
      "text/plain": [
       "<IPython.core.display.Image object>"
      ]
     },
     "execution_count": 22,
     "metadata": {},
     "output_type": "execute_result"
    }
   ],
   "source": [
    "# Modelo solo encoder\n",
    "\n",
    "# define inference encoder\n",
    "encoder_model = Model(encoder_inputs, encoder_states)\n",
    "\n",
    "plot_model(encoder_model, to_file='encoder_plot.png', show_shapes=True, show_layer_names=True)"
   ]
  },
  {
   "cell_type": "code",
   "execution_count": 23,
   "metadata": {},
   "outputs": [
    {
     "data": {
      "image/png": "[encoded data removed]",
      "text/plain": [
       "<IPython.core.display.Image object>"
      ]
     },
     "execution_count": 23,
     "metadata": {},
     "output_type": "execute_result"
    }
   ],
   "source": [
    "# Modelo solo decoder (para realizar inferencia)\n",
    "\n",
    "# define inference decoder\n",
    "decoder_state_input_h = Input(shape=(n_units,))\n",
    "decoder_state_input_c = Input(shape=(n_units,))\n",
    "decoder_states_inputs = [decoder_state_input_h, decoder_state_input_c]\n",
    "\n",
    "# En cada predicción habrá una sola palabra de entrada al decoder,\n",
    "# que es la realimentación de la palabra anterior\n",
    "# por lo que hay que modificar el input shape del layer de Embedding\n",
    "decoder_inputs_single = Input(shape=(1,))\n",
    "decoder_inputs_single_x = decoder_embedding_layer(decoder_inputs_single)\n",
    "\n",
    "decoder_outputs, state_h, state_c = decoder_lstm(decoder_inputs_single_x, initial_state=decoder_states_inputs)\n",
    "decoder_states = [state_h, state_c]\n",
    "decoder_outputs = decoder_dense(decoder_outputs)\n",
    "decoder_model = Model([decoder_inputs_single] + decoder_states_inputs, [decoder_outputs] + decoder_states)\n",
    "\n",
    "plot_model(decoder_model, to_file='decoder_plot.png', show_shapes=True, show_layer_names=True)"
   ]
  },
  {
   "cell_type": "code",
   "execution_count": 24,
   "metadata": {},
   "outputs": [
    {
     "name": "stdout",
     "output_type": "stream",
     "text": [
      "Epoch 1/150\n"
     ]
    },
    {
     "name": "stderr",
     "output_type": "stream",
     "text": [
      "2024-04-23 19:58:30.597933: I tensorflow/compiler/xla/stream_executor/cuda/cuda_dnn.cc:442] Loaded cuDNN version 8600\n",
      "2024-04-23 19:58:30.652404: I tensorflow/compiler/xla/service/service.cc:168] XLA service 0x7ff4449b9140 initialized for platform CUDA (this does not guarantee that XLA will be used). Devices:\n",
      "2024-04-23 19:58:30.652432: I tensorflow/compiler/xla/service/service.cc:176]   StreamExecutor device (0): NVIDIA GeForce RTX 3060 Laptop GPU, Compute Capability 8.6\n",
      "2024-04-23 19:58:30.656317: I tensorflow/compiler/mlir/tensorflow/utils/dump_mlir_util.cc:269] disabling MLIR crash reproducer, set env var `MLIR_CRASH_REPRODUCER_DIRECTORY` to enable.\n",
      "2024-04-23 19:58:30.734832: I ./tensorflow/compiler/jit/device_compiler.h:186] Compiled cluster using XLA!  This line is logged at most once for the lifetime of the process.\n"
     ]
    },
    {
     "name": "stdout",
     "output_type": "stream",
     "text": [
      "151/151 [==============================] - 6s 27ms/step - loss: 2.2055 - accuracy: 0.7153 - val_loss: 1.3298 - val_accuracy: 0.7669\n",
      "Epoch 2/150\n",
      "151/151 [==============================] - 2s 12ms/step - loss: 1.2037 - accuracy: 0.7851 - val_loss: 1.2062 - val_accuracy: 0.7983\n",
      "Epoch 3/150\n",
      "151/151 [==============================] - 2s 11ms/step - loss: 1.0825 - accuracy: 0.8073 - val_loss: 1.1185 - val_accuracy: 0.8186\n",
      "Epoch 4/150\n",
      "151/151 [==============================] - 1s 10ms/step - loss: 0.9740 - accuracy: 0.8283 - val_loss: 1.0595 - val_accuracy: 0.8289\n",
      "Epoch 5/150\n",
      "151/151 [==============================] - 2s 10ms/step - loss: 0.9044 - accuracy: 0.8410 - val_loss: 1.0223 - val_accuracy: 0.8325\n",
      "Epoch 6/150\n",
      "151/151 [==============================] - 1s 10ms/step - loss: 0.8562 - accuracy: 0.8460 - val_loss: 0.9963 - val_accuracy: 0.8365\n",
      "Epoch 7/150\n",
      "151/151 [==============================] - 2s 10ms/step - loss: 0.8192 - accuracy: 0.8500 - val_loss: 0.9759 - val_accuracy: 0.8388\n",
      "Epoch 8/150\n",
      "151/151 [==============================] - 1s 10ms/step - loss: 0.7902 - accuracy: 0.8527 - val_loss: 0.9614 - val_accuracy: 0.8401\n",
      "Epoch 9/150\n",
      "151/151 [==============================] - 1s 10ms/step - loss: 0.7643 - accuracy: 0.8558 - val_loss: 0.9503 - val_accuracy: 0.8424\n",
      "Epoch 10/150\n",
      "151/151 [==============================] - 1s 10ms/step - loss: 0.7426 - accuracy: 0.8580 - val_loss: 0.9420 - val_accuracy: 0.8429\n",
      "Epoch 11/150\n",
      "151/151 [==============================] - 2s 11ms/step - loss: 0.7230 - accuracy: 0.8603 - val_loss: 0.9347 - val_accuracy: 0.8451\n",
      "Epoch 12/150\n",
      "151/151 [==============================] - 2s 10ms/step - loss: 0.7055 - accuracy: 0.8628 - val_loss: 0.9301 - val_accuracy: 0.8450\n",
      "Epoch 13/150\n",
      "151/151 [==============================] - 1s 10ms/step - loss: 0.6892 - accuracy: 0.8643 - val_loss: 0.9229 - val_accuracy: 0.8466\n",
      "Epoch 14/150\n",
      "151/151 [==============================] - 1s 10ms/step - loss: 0.6746 - accuracy: 0.8661 - val_loss: 0.9208 - val_accuracy: 0.8466\n",
      "Epoch 15/150\n",
      "151/151 [==============================] - 2s 10ms/step - loss: 0.6611 - accuracy: 0.8676 - val_loss: 0.9179 - val_accuracy: 0.8477\n",
      "Epoch 16/150\n",
      "151/151 [==============================] - 1s 10ms/step - loss: 0.6486 - accuracy: 0.8691 - val_loss: 0.9171 - val_accuracy: 0.8482\n",
      "Epoch 17/150\n",
      "151/151 [==============================] - 1s 9ms/step - loss: 0.6363 - accuracy: 0.8701 - val_loss: 0.9149 - val_accuracy: 0.8495\n",
      "Epoch 18/150\n",
      "151/151 [==============================] - 1s 10ms/step - loss: 0.6257 - accuracy: 0.8712 - val_loss: 0.9138 - val_accuracy: 0.8499\n",
      "Epoch 19/150\n",
      "151/151 [==============================] - 1s 10ms/step - loss: 0.6144 - accuracy: 0.8724 - val_loss: 0.9142 - val_accuracy: 0.8504\n",
      "Epoch 20/150\n",
      "151/151 [==============================] - 1s 10ms/step - loss: 0.6045 - accuracy: 0.8736 - val_loss: 0.9123 - val_accuracy: 0.8509\n",
      "Epoch 21/150\n",
      "151/151 [==============================] - 1s 9ms/step - loss: 0.5947 - accuracy: 0.8748 - val_loss: 0.9135 - val_accuracy: 0.8501\n",
      "Epoch 22/150\n",
      "151/151 [==============================] - 1s 10ms/step - loss: 0.5855 - accuracy: 0.8755 - val_loss: 0.9117 - val_accuracy: 0.8511\n",
      "Epoch 23/150\n",
      "151/151 [==============================] - 1s 9ms/step - loss: 0.5764 - accuracy: 0.8769 - val_loss: 0.9180 - val_accuracy: 0.8509\n",
      "Epoch 24/150\n",
      "151/151 [==============================] - 2s 10ms/step - loss: 0.5677 - accuracy: 0.8775 - val_loss: 0.9144 - val_accuracy: 0.8521\n",
      "Epoch 25/150\n",
      "151/151 [==============================] - 1s 10ms/step - loss: 0.5598 - accuracy: 0.8788 - val_loss: 0.9175 - val_accuracy: 0.8513\n",
      "Epoch 26/150\n",
      "151/151 [==============================] - 1s 10ms/step - loss: 0.5515 - accuracy: 0.8798 - val_loss: 0.9204 - val_accuracy: 0.8512\n",
      "Epoch 27/150\n",
      "151/151 [==============================] - 1s 10ms/step - loss: 0.5442 - accuracy: 0.8805 - val_loss: 0.9203 - val_accuracy: 0.8525\n",
      "Epoch 28/150\n",
      "151/151 [==============================] - 1s 10ms/step - loss: 0.5366 - accuracy: 0.8821 - val_loss: 0.9233 - val_accuracy: 0.8513\n",
      "Epoch 29/150\n",
      "151/151 [==============================] - 2s 10ms/step - loss: 0.5289 - accuracy: 0.8835 - val_loss: 0.9245 - val_accuracy: 0.8517\n",
      "Epoch 30/150\n",
      "151/151 [==============================] - 2s 10ms/step - loss: 0.5218 - accuracy: 0.8843 - val_loss: 0.9263 - val_accuracy: 0.8516\n",
      "Epoch 31/150\n",
      "151/151 [==============================] - 1s 10ms/step - loss: 0.5154 - accuracy: 0.8853 - val_loss: 0.9307 - val_accuracy: 0.8522\n",
      "Epoch 32/150\n",
      "151/151 [==============================] - 1s 10ms/step - loss: 0.5086 - accuracy: 0.8860 - val_loss: 0.9314 - val_accuracy: 0.8526\n",
      "Epoch 33/150\n",
      "151/151 [==============================] - 1s 9ms/step - loss: 0.5024 - accuracy: 0.8876 - val_loss: 0.9355 - val_accuracy: 0.8517\n",
      "Epoch 34/150\n",
      "151/151 [==============================] - 1s 10ms/step - loss: 0.4962 - accuracy: 0.8889 - val_loss: 0.9389 - val_accuracy: 0.8525\n",
      "Epoch 35/150\n",
      "151/151 [==============================] - 1s 10ms/step - loss: 0.4904 - accuracy: 0.8889 - val_loss: 0.9422 - val_accuracy: 0.8520\n",
      "Epoch 36/150\n",
      "151/151 [==============================] - 1s 10ms/step - loss: 0.4850 - accuracy: 0.8900 - val_loss: 0.9437 - val_accuracy: 0.8519\n",
      "Epoch 37/150\n",
      "151/151 [==============================] - 1s 10ms/step - loss: 0.4793 - accuracy: 0.8909 - val_loss: 0.9464 - val_accuracy: 0.8529\n",
      "Epoch 38/150\n",
      "151/151 [==============================] - 1s 10ms/step - loss: 0.4736 - accuracy: 0.8921 - val_loss: 0.9499 - val_accuracy: 0.8512\n",
      "Epoch 39/150\n",
      "151/151 [==============================] - 1s 10ms/step - loss: 0.4685 - accuracy: 0.8929 - val_loss: 0.9538 - val_accuracy: 0.8527\n",
      "Epoch 40/150\n",
      "151/151 [==============================] - 1s 10ms/step - loss: 0.4636 - accuracy: 0.8936 - val_loss: 0.9539 - val_accuracy: 0.8520\n",
      "Epoch 41/150\n",
      "151/151 [==============================] - 1s 10ms/step - loss: 0.4585 - accuracy: 0.8943 - val_loss: 0.9571 - val_accuracy: 0.8525\n",
      "Epoch 42/150\n",
      "151/151 [==============================] - 1s 9ms/step - loss: 0.4538 - accuracy: 0.8955 - val_loss: 0.9622 - val_accuracy: 0.8530\n",
      "Epoch 43/150\n",
      "151/151 [==============================] - 1s 10ms/step - loss: 0.4494 - accuracy: 0.8955 - val_loss: 0.9646 - val_accuracy: 0.8527\n",
      "Epoch 44/150\n",
      "151/151 [==============================] - 1s 10ms/step - loss: 0.4445 - accuracy: 0.8963 - val_loss: 0.9677 - val_accuracy: 0.8533\n",
      "Epoch 45/150\n",
      "151/151 [==============================] - 1s 9ms/step - loss: 0.4403 - accuracy: 0.8974 - val_loss: 0.9743 - val_accuracy: 0.8516\n",
      "Epoch 46/150\n",
      "151/151 [==============================] - 1s 9ms/step - loss: 0.4363 - accuracy: 0.8979 - val_loss: 0.9749 - val_accuracy: 0.8528\n",
      "Epoch 47/150\n",
      "151/151 [==============================] - 1s 10ms/step - loss: 0.4320 - accuracy: 0.8990 - val_loss: 0.9790 - val_accuracy: 0.8531\n",
      "Epoch 48/150\n",
      "151/151 [==============================] - 1s 10ms/step - loss: 0.4282 - accuracy: 0.8994 - val_loss: 0.9818 - val_accuracy: 0.8516\n",
      "Epoch 49/150\n",
      "151/151 [==============================] - 1s 9ms/step - loss: 0.4245 - accuracy: 0.8995 - val_loss: 0.9865 - val_accuracy: 0.8525\n",
      "Epoch 50/150\n",
      "151/151 [==============================] - 1s 9ms/step - loss: 0.4201 - accuracy: 0.9009 - val_loss: 0.9877 - val_accuracy: 0.8522\n",
      "Epoch 51/150\n",
      "151/151 [==============================] - 2s 10ms/step - loss: 0.4165 - accuracy: 0.9010 - val_loss: 0.9940 - val_accuracy: 0.8517\n",
      "Epoch 52/150\n",
      "151/151 [==============================] - 1s 10ms/step - loss: 0.4126 - accuracy: 0.9019 - val_loss: 0.9981 - val_accuracy: 0.8528\n",
      "Epoch 53/150\n",
      "151/151 [==============================] - 1s 9ms/step - loss: 0.4091 - accuracy: 0.9027 - val_loss: 1.0027 - val_accuracy: 0.8526\n",
      "Epoch 54/150\n",
      "151/151 [==============================] - 1s 10ms/step - loss: 0.4054 - accuracy: 0.9030 - val_loss: 1.0076 - val_accuracy: 0.8517\n",
      "Epoch 55/150\n",
      "151/151 [==============================] - 1s 10ms/step - loss: 0.4018 - accuracy: 0.9038 - val_loss: 1.0092 - val_accuracy: 0.8530\n",
      "Epoch 56/150\n",
      "151/151 [==============================] - 1s 10ms/step - loss: 0.3984 - accuracy: 0.9045 - val_loss: 1.0125 - val_accuracy: 0.8524\n",
      "Epoch 57/150\n",
      "151/151 [==============================] - 1s 9ms/step - loss: 0.3948 - accuracy: 0.9055 - val_loss: 1.0184 - val_accuracy: 0.8517\n",
      "Epoch 58/150\n",
      "151/151 [==============================] - 1s 10ms/step - loss: 0.3922 - accuracy: 0.9052 - val_loss: 1.0200 - val_accuracy: 0.8520\n",
      "Epoch 59/150\n",
      "151/151 [==============================] - 2s 10ms/step - loss: 0.3889 - accuracy: 0.9057 - val_loss: 1.0270 - val_accuracy: 0.8516\n",
      "Epoch 60/150\n",
      "151/151 [==============================] - 1s 10ms/step - loss: 0.3853 - accuracy: 0.9069 - val_loss: 1.0318 - val_accuracy: 0.8513\n",
      "Epoch 61/150\n",
      "151/151 [==============================] - 1s 9ms/step - loss: 0.3822 - accuracy: 0.9073 - val_loss: 1.0332 - val_accuracy: 0.8530\n",
      "Epoch 62/150\n",
      "151/151 [==============================] - 1s 10ms/step - loss: 0.3790 - accuracy: 0.9079 - val_loss: 1.0373 - val_accuracy: 0.8525\n",
      "Epoch 63/150\n",
      "151/151 [==============================] - 1s 10ms/step - loss: 0.3760 - accuracy: 0.9079 - val_loss: 1.0419 - val_accuracy: 0.8525\n",
      "Epoch 64/150\n",
      "151/151 [==============================] - 1s 10ms/step - loss: 0.3731 - accuracy: 0.9087 - val_loss: 1.0471 - val_accuracy: 0.8512\n",
      "Epoch 65/150\n",
      "151/151 [==============================] - 1s 10ms/step - loss: 0.3700 - accuracy: 0.9094 - val_loss: 1.0525 - val_accuracy: 0.8523\n",
      "Epoch 66/150\n",
      "151/151 [==============================] - 1s 10ms/step - loss: 0.3666 - accuracy: 0.9099 - val_loss: 1.0543 - val_accuracy: 0.8502\n",
      "Epoch 67/150\n",
      "151/151 [==============================] - 1s 10ms/step - loss: 0.3637 - accuracy: 0.9101 - val_loss: 1.0590 - val_accuracy: 0.8524\n",
      "Epoch 68/150\n",
      "151/151 [==============================] - 2s 10ms/step - loss: 0.3613 - accuracy: 0.9106 - val_loss: 1.0619 - val_accuracy: 0.8509\n",
      "Epoch 69/150\n",
      "151/151 [==============================] - 1s 10ms/step - loss: 0.3578 - accuracy: 0.9120 - val_loss: 1.0677 - val_accuracy: 0.8521\n",
      "Epoch 70/150\n",
      "151/151 [==============================] - 1s 10ms/step - loss: 0.3554 - accuracy: 0.9122 - val_loss: 1.0723 - val_accuracy: 0.8516\n",
      "Epoch 71/150\n",
      "151/151 [==============================] - 1s 10ms/step - loss: 0.3525 - accuracy: 0.9123 - val_loss: 1.0777 - val_accuracy: 0.8515\n",
      "Epoch 72/150\n",
      "151/151 [==============================] - 1s 10ms/step - loss: 0.3497 - accuracy: 0.9131 - val_loss: 1.0800 - val_accuracy: 0.8507\n",
      "Epoch 73/150\n",
      "151/151 [==============================] - 1s 10ms/step - loss: 0.3467 - accuracy: 0.9136 - val_loss: 1.0868 - val_accuracy: 0.8507\n",
      "Epoch 74/150\n",
      "151/151 [==============================] - 1s 10ms/step - loss: 0.3445 - accuracy: 0.9141 - val_loss: 1.0892 - val_accuracy: 0.8509\n",
      "Epoch 75/150\n",
      "151/151 [==============================] - 1s 10ms/step - loss: 0.3418 - accuracy: 0.9143 - val_loss: 1.0974 - val_accuracy: 0.8504\n",
      "Epoch 76/150\n",
      "151/151 [==============================] - 2s 10ms/step - loss: 0.3389 - accuracy: 0.9149 - val_loss: 1.0985 - val_accuracy: 0.8512\n",
      "Epoch 77/150\n",
      "151/151 [==============================] - 2s 10ms/step - loss: 0.3367 - accuracy: 0.9153 - val_loss: 1.1034 - val_accuracy: 0.8510\n",
      "Epoch 78/150\n",
      "151/151 [==============================] - 1s 10ms/step - loss: 0.3343 - accuracy: 0.9158 - val_loss: 1.1050 - val_accuracy: 0.8496\n",
      "Epoch 79/150\n",
      "151/151 [==============================] - 1s 10ms/step - loss: 0.3318 - accuracy: 0.9159 - val_loss: 1.1091 - val_accuracy: 0.8501\n",
      "Epoch 80/150\n",
      "151/151 [==============================] - 1s 9ms/step - loss: 0.3290 - accuracy: 0.9172 - val_loss: 1.1140 - val_accuracy: 0.8500\n",
      "Epoch 81/150\n",
      "151/151 [==============================] - 1s 10ms/step - loss: 0.3265 - accuracy: 0.9175 - val_loss: 1.1182 - val_accuracy: 0.8500\n",
      "Epoch 82/150\n",
      "151/151 [==============================] - 2s 10ms/step - loss: 0.3240 - accuracy: 0.9179 - val_loss: 1.1225 - val_accuracy: 0.8505\n",
      "Epoch 83/150\n",
      "151/151 [==============================] - 1s 10ms/step - loss: 0.3216 - accuracy: 0.9185 - val_loss: 1.1291 - val_accuracy: 0.8519\n",
      "Epoch 84/150\n",
      "151/151 [==============================] - 1s 10ms/step - loss: 0.3192 - accuracy: 0.9187 - val_loss: 1.1357 - val_accuracy: 0.8490\n",
      "Epoch 85/150\n",
      "151/151 [==============================] - 1s 10ms/step - loss: 0.3174 - accuracy: 0.9193 - val_loss: 1.1371 - val_accuracy: 0.8509\n",
      "Epoch 86/150\n",
      "151/151 [==============================] - 1s 10ms/step - loss: 0.3148 - accuracy: 0.9199 - val_loss: 1.1434 - val_accuracy: 0.8498\n",
      "Epoch 87/150\n",
      "151/151 [==============================] - 1s 10ms/step - loss: 0.3126 - accuracy: 0.9204 - val_loss: 1.1477 - val_accuracy: 0.8505\n",
      "Epoch 88/150\n",
      "151/151 [==============================] - 1s 9ms/step - loss: 0.3102 - accuracy: 0.9206 - val_loss: 1.1512 - val_accuracy: 0.8495\n",
      "Epoch 89/150\n",
      "151/151 [==============================] - 1s 10ms/step - loss: 0.3080 - accuracy: 0.9216 - val_loss: 1.1548 - val_accuracy: 0.8500\n",
      "Epoch 90/150\n",
      "151/151 [==============================] - 1s 10ms/step - loss: 0.3058 - accuracy: 0.9212 - val_loss: 1.1589 - val_accuracy: 0.8495\n",
      "Epoch 91/150\n",
      "151/151 [==============================] - 1s 9ms/step - loss: 0.3035 - accuracy: 0.9218 - val_loss: 1.1680 - val_accuracy: 0.8506\n",
      "Epoch 92/150\n",
      "151/151 [==============================] - 1s 9ms/step - loss: 0.3017 - accuracy: 0.9225 - val_loss: 1.1679 - val_accuracy: 0.8498\n",
      "Epoch 93/150\n",
      "151/151 [==============================] - 1s 10ms/step - loss: 0.2994 - accuracy: 0.9231 - val_loss: 1.1700 - val_accuracy: 0.8491\n",
      "Epoch 94/150\n",
      "151/151 [==============================] - 1s 10ms/step - loss: 0.2971 - accuracy: 0.9228 - val_loss: 1.1760 - val_accuracy: 0.8489\n",
      "Epoch 95/150\n",
      "151/151 [==============================] - 1s 10ms/step - loss: 0.2948 - accuracy: 0.9237 - val_loss: 1.1801 - val_accuracy: 0.8501\n",
      "Epoch 96/150\n",
      "151/151 [==============================] - 1s 10ms/step - loss: 0.2928 - accuracy: 0.9243 - val_loss: 1.1840 - val_accuracy: 0.8494\n",
      "Epoch 97/150\n",
      "151/151 [==============================] - 1s 10ms/step - loss: 0.2907 - accuracy: 0.9250 - val_loss: 1.1890 - val_accuracy: 0.8499\n",
      "Epoch 98/150\n",
      "151/151 [==============================] - 2s 10ms/step - loss: 0.2886 - accuracy: 0.9251 - val_loss: 1.1955 - val_accuracy: 0.8490\n",
      "Epoch 99/150\n",
      "151/151 [==============================] - 1s 10ms/step - loss: 0.2865 - accuracy: 0.9259 - val_loss: 1.1972 - val_accuracy: 0.8487\n",
      "Epoch 100/150\n",
      "151/151 [==============================] - 2s 10ms/step - loss: 0.2848 - accuracy: 0.9257 - val_loss: 1.2022 - val_accuracy: 0.8494\n",
      "Epoch 101/150\n",
      "151/151 [==============================] - 1s 9ms/step - loss: 0.2829 - accuracy: 0.9264 - val_loss: 1.2081 - val_accuracy: 0.8491\n",
      "Epoch 102/150\n",
      "151/151 [==============================] - 1s 9ms/step - loss: 0.2811 - accuracy: 0.9268 - val_loss: 1.2156 - val_accuracy: 0.8490\n",
      "Epoch 103/150\n",
      "151/151 [==============================] - 1s 10ms/step - loss: 0.2785 - accuracy: 0.9274 - val_loss: 1.2190 - val_accuracy: 0.8480\n",
      "Epoch 104/150\n",
      "151/151 [==============================] - 1s 10ms/step - loss: 0.2768 - accuracy: 0.9272 - val_loss: 1.2202 - val_accuracy: 0.8486\n",
      "Epoch 105/150\n",
      "151/151 [==============================] - 1s 10ms/step - loss: 0.2746 - accuracy: 0.9283 - val_loss: 1.2249 - val_accuracy: 0.8485\n",
      "Epoch 106/150\n",
      "151/151 [==============================] - 1s 10ms/step - loss: 0.2728 - accuracy: 0.9283 - val_loss: 1.2279 - val_accuracy: 0.8488\n",
      "Epoch 107/150\n",
      "151/151 [==============================] - 1s 10ms/step - loss: 0.2710 - accuracy: 0.9288 - val_loss: 1.2328 - val_accuracy: 0.8481\n",
      "Epoch 108/150\n",
      "151/151 [==============================] - 1s 10ms/step - loss: 0.2693 - accuracy: 0.9291 - val_loss: 1.2335 - val_accuracy: 0.8470\n",
      "Epoch 109/150\n",
      "151/151 [==============================] - 1s 9ms/step - loss: 0.2673 - accuracy: 0.9294 - val_loss: 1.2371 - val_accuracy: 0.8477\n",
      "Epoch 110/150\n",
      "151/151 [==============================] - 1s 9ms/step - loss: 0.2658 - accuracy: 0.9301 - val_loss: 1.2474 - val_accuracy: 0.8485\n",
      "Epoch 111/150\n",
      "151/151 [==============================] - 1s 10ms/step - loss: 0.2638 - accuracy: 0.9308 - val_loss: 1.2452 - val_accuracy: 0.8483\n",
      "Epoch 112/150\n",
      "151/151 [==============================] - 1s 9ms/step - loss: 0.2617 - accuracy: 0.9308 - val_loss: 1.2541 - val_accuracy: 0.8484\n",
      "Epoch 113/150\n",
      "151/151 [==============================] - 1s 9ms/step - loss: 0.2603 - accuracy: 0.9307 - val_loss: 1.2528 - val_accuracy: 0.8471\n",
      "Epoch 114/150\n",
      "151/151 [==============================] - 2s 10ms/step - loss: 0.2583 - accuracy: 0.9318 - val_loss: 1.2607 - val_accuracy: 0.8489\n",
      "Epoch 115/150\n",
      "151/151 [==============================] - 1s 10ms/step - loss: 0.2566 - accuracy: 0.9322 - val_loss: 1.2625 - val_accuracy: 0.8485\n",
      "Epoch 116/150\n",
      "151/151 [==============================] - 1s 9ms/step - loss: 0.2547 - accuracy: 0.9324 - val_loss: 1.2699 - val_accuracy: 0.8483\n",
      "Epoch 117/150\n",
      "151/151 [==============================] - 1s 10ms/step - loss: 0.2532 - accuracy: 0.9330 - val_loss: 1.2742 - val_accuracy: 0.8479\n",
      "Epoch 118/150\n",
      "151/151 [==============================] - 1s 10ms/step - loss: 0.2516 - accuracy: 0.9331 - val_loss: 1.2773 - val_accuracy: 0.8482\n",
      "Epoch 119/150\n",
      "151/151 [==============================] - 1s 9ms/step - loss: 0.2497 - accuracy: 0.9336 - val_loss: 1.2810 - val_accuracy: 0.8474\n",
      "Epoch 120/150\n",
      "151/151 [==============================] - 1s 9ms/step - loss: 0.2481 - accuracy: 0.9339 - val_loss: 1.2862 - val_accuracy: 0.8468\n",
      "Epoch 121/150\n",
      "151/151 [==============================] - 1s 10ms/step - loss: 0.2464 - accuracy: 0.9346 - val_loss: 1.2887 - val_accuracy: 0.8470\n",
      "Epoch 122/150\n",
      "151/151 [==============================] - 1s 10ms/step - loss: 0.2450 - accuracy: 0.9349 - val_loss: 1.2940 - val_accuracy: 0.8471\n",
      "Epoch 123/150\n",
      "151/151 [==============================] - 1s 10ms/step - loss: 0.2432 - accuracy: 0.9353 - val_loss: 1.2965 - val_accuracy: 0.8472\n",
      "Epoch 124/150\n",
      "151/151 [==============================] - 1s 10ms/step - loss: 0.2414 - accuracy: 0.9356 - val_loss: 1.3036 - val_accuracy: 0.8465\n",
      "Epoch 125/150\n",
      "151/151 [==============================] - 1s 10ms/step - loss: 0.2401 - accuracy: 0.9359 - val_loss: 1.3047 - val_accuracy: 0.8463\n",
      "Epoch 126/150\n",
      "151/151 [==============================] - 1s 10ms/step - loss: 0.2388 - accuracy: 0.9363 - val_loss: 1.3075 - val_accuracy: 0.8469\n",
      "Epoch 127/150\n",
      "151/151 [==============================] - 1s 9ms/step - loss: 0.2369 - accuracy: 0.9365 - val_loss: 1.3112 - val_accuracy: 0.8463\n",
      "Epoch 128/150\n",
      "151/151 [==============================] - 1s 9ms/step - loss: 0.2352 - accuracy: 0.9368 - val_loss: 1.3180 - val_accuracy: 0.8471\n",
      "Epoch 129/150\n",
      "151/151 [==============================] - 1s 10ms/step - loss: 0.2332 - accuracy: 0.9381 - val_loss: 1.3200 - val_accuracy: 0.8460\n",
      "Epoch 130/150\n",
      "151/151 [==============================] - 1s 9ms/step - loss: 0.2316 - accuracy: 0.9381 - val_loss: 1.3234 - val_accuracy: 0.8453\n",
      "Epoch 131/150\n",
      "151/151 [==============================] - 1s 10ms/step - loss: 0.2307 - accuracy: 0.9382 - val_loss: 1.3312 - val_accuracy: 0.8466\n",
      "Epoch 132/150\n",
      "151/151 [==============================] - 1s 10ms/step - loss: 0.2293 - accuracy: 0.9382 - val_loss: 1.3274 - val_accuracy: 0.8452\n",
      "Epoch 133/150\n",
      "151/151 [==============================] - 1s 9ms/step - loss: 0.2275 - accuracy: 0.9390 - val_loss: 1.3397 - val_accuracy: 0.8465\n",
      "Epoch 134/150\n",
      "151/151 [==============================] - 1s 9ms/step - loss: 0.2260 - accuracy: 0.9391 - val_loss: 1.3413 - val_accuracy: 0.8453\n",
      "Epoch 135/150\n",
      "151/151 [==============================] - 1s 10ms/step - loss: 0.2246 - accuracy: 0.9393 - val_loss: 1.3447 - val_accuracy: 0.8453\n",
      "Epoch 136/150\n",
      "151/151 [==============================] - 1s 9ms/step - loss: 0.2231 - accuracy: 0.9400 - val_loss: 1.3446 - val_accuracy: 0.8454\n",
      "Epoch 137/150\n",
      "151/151 [==============================] - 1s 9ms/step - loss: 0.2219 - accuracy: 0.9403 - val_loss: 1.3514 - val_accuracy: 0.8452\n",
      "Epoch 138/150\n",
      "151/151 [==============================] - 1s 10ms/step - loss: 0.2204 - accuracy: 0.9409 - val_loss: 1.3528 - val_accuracy: 0.8464\n",
      "Epoch 139/150\n",
      "151/151 [==============================] - 1s 10ms/step - loss: 0.2188 - accuracy: 0.9407 - val_loss: 1.3581 - val_accuracy: 0.8455\n",
      "Epoch 140/150\n",
      "151/151 [==============================] - 1s 9ms/step - loss: 0.2175 - accuracy: 0.9412 - val_loss: 1.3625 - val_accuracy: 0.8455\n",
      "Epoch 141/150\n",
      "151/151 [==============================] - 1s 9ms/step - loss: 0.2158 - accuracy: 0.9415 - val_loss: 1.3697 - val_accuracy: 0.8441\n",
      "Epoch 142/150\n",
      "151/151 [==============================] - 1s 10ms/step - loss: 0.2150 - accuracy: 0.9422 - val_loss: 1.3697 - val_accuracy: 0.8454\n",
      "Epoch 143/150\n",
      "151/151 [==============================] - 1s 9ms/step - loss: 0.2136 - accuracy: 0.9426 - val_loss: 1.3693 - val_accuracy: 0.8440\n",
      "Epoch 144/150\n",
      "151/151 [==============================] - 1s 9ms/step - loss: 0.2122 - accuracy: 0.9428 - val_loss: 1.3750 - val_accuracy: 0.8451\n",
      "Epoch 145/150\n",
      "151/151 [==============================] - 1s 10ms/step - loss: 0.2104 - accuracy: 0.9433 - val_loss: 1.3803 - val_accuracy: 0.8443\n",
      "Epoch 146/150\n",
      "151/151 [==============================] - 1s 10ms/step - loss: 0.2092 - accuracy: 0.9437 - val_loss: 1.3843 - val_accuracy: 0.8438\n",
      "Epoch 147/150\n",
      "151/151 [==============================] - 1s 9ms/step - loss: 0.2078 - accuracy: 0.9438 - val_loss: 1.3883 - val_accuracy: 0.8443\n",
      "Epoch 148/150\n",
      "151/151 [==============================] - 1s 10ms/step - loss: 0.2067 - accuracy: 0.9442 - val_loss: 1.3938 - val_accuracy: 0.8443\n",
      "Epoch 149/150\n",
      "151/151 [==============================] - 1s 9ms/step - loss: 0.2056 - accuracy: 0.9442 - val_loss: 1.3934 - val_accuracy: 0.8430\n",
      "Epoch 150/150\n",
      "151/151 [==============================] - 1s 9ms/step - loss: 0.2040 - accuracy: 0.9451 - val_loss: 1.4006 - val_accuracy: 0.8441\n"
     ]
    }
   ],
   "source": [
    "hist = model.fit(\n",
    "    [encoder_input_sequences, decoder_input_sequences],\n",
    "    decoder_targets,\n",
    "    epochs=150, \n",
    "    validation_split=0.2)"
   ]
  },
  {
   "cell_type": "code",
   "execution_count": 31,
   "metadata": {},
   "outputs": [
    {
     "data": {
      "image/png": "[encoded data removed]",
      "text/plain": [
       "<Figure size 640x480 with 1 Axes>"
      ]
     },
     "metadata": {},
     "output_type": "display_data"
    }
   ],
   "source": [
    "import matplotlib.pyplot as plt\n",
    "import seaborn as sns\n",
    "\n",
    "# Entrenamiento\n",
    "epoch_count = range(1, len(hist.history['accuracy']) + 1)\n",
    "sns.lineplot(x=epoch_count,  y=hist.history['accuracy'], label='train')\n",
    "sns.lineplot(x=epoch_count,  y=hist.history['val_accuracy'], label='valid')\n",
    "plt.show()"
   ]
  },
  {
   "cell_type": "markdown",
   "metadata": {},
   "source": [
    "### 5 - Inferencia\n",
    "Experimentar el funcionamiento de su modelo. Recuerde que debe realizar la inferencia de los modelos por separado de encoder y decoder."
   ]
  },
  {
   "cell_type": "code",
   "execution_count": 32,
   "metadata": {},
   "outputs": [],
   "source": [
    "# Se arma el conversor de índice a palabra:\n",
    "idx2word = {v:k for k, v in word2idx.items()}"
   ]
  },
  {
   "cell_type": "code",
   "execution_count": 33,
   "metadata": {},
   "outputs": [],
   "source": [
    "def get_bot_answer(input_seq):\n",
    "    # Se transforma la sequencia de entrada a los estados \"h\" y \"c\" de la LSTM\n",
    "    # para enviar la primera vez al decoder\n",
    "    states_value = encoder_model.predict(input_seq)\n",
    "\n",
    "    # Se inicializa la secuencia de entrada al decoder como \"<sos>\"\n",
    "    target_seq = np.zeros((1, 1))\n",
    "    \n",
    "    #FIXME\n",
    "    #target_seq[0, 0] = word2idx['<sos>']\n",
    "    target_seq[0, 0] = word2idx['sos']\n",
    "\n",
    "    # Se obtiene el índice que finaliza la inferencia\n",
    "    #FIXME\n",
    "    #eos = word2idx['<eos>']\n",
    "    eos = word2idx['eos']\n",
    "    \n",
    "    output_sentence = []\n",
    "    for _ in range(max_out_len):\n",
    "        # Predicción del próximo elemento\n",
    "        output_tokens, h, c = decoder_model.predict([target_seq] + states_value)\n",
    "        idx = np.argmax(output_tokens[0, 0, :])\n",
    "\n",
    "        # Si es \"end of sentece <eos>\" se acaba\n",
    "        if eos == idx:\n",
    "            break\n",
    "\n",
    "        # Transformar idx a palabra\n",
    "        word = ''        \n",
    "        if idx > 0:\n",
    "            word = idx2word[idx]\n",
    "            output_sentence.append(word)\n",
    "\n",
    "        # Actualizar los estados dada la última predicción\n",
    "        states_value = [h, c]\n",
    "\n",
    "        # Actualizar secuencia de entrada con la salida (re-alimentación)\n",
    "        target_seq[0, 0] = idx\n",
    "\n",
    "    return ' '.join(output_sentence)"
   ]
  },
  {
   "cell_type": "code",
   "execution_count": 34,
   "metadata": {},
   "outputs": [
    {
     "name": "stdout",
     "output_type": "stream",
     "text": [
      "1/1 [==============================] - 0s 33ms/step\n",
      "1/1 [==============================] - 0s 15ms/step\n",
      "1/1 [==============================] - 0s 14ms/step\n",
      "1/1 [==============================] - 0s 14ms/step\n",
      "-\n",
      "Input: friday is my favourite movie\n",
      "Response: thumbs up\n"
     ]
    }
   ],
   "source": [
    "i = np.random.choice(len(input_sentences))\n",
    "input_seq = encoder_input_sequences[i:i+1]\n",
    "answer = get_bot_answer(input_seq)\n",
    "print('-')\n",
    "print('Input:', input_sentences[i])\n",
    "print('Response:', answer)"
   ]
  },
  {
   "cell_type": "code",
   "execution_count": 36,
   "metadata": {},
   "outputs": [
    {
     "name": "stdout",
     "output_type": "stream",
     "text": [
      "Input: My mother say hi.\n",
      "Representacion en vector de tokens de ids [39, 332, 114, 17]\n",
      "Padding del vector: [[  0   0   0   0   0   0   0   0   0   0   0   0  39 332 114  17]]\n",
      "Input: My mother say hi.\n",
      "1/1 [==============================] - 0s 14ms/step\n"
     ]
    },
    {
     "name": "stdout",
     "output_type": "stream",
     "text": [
      "1/1 [==============================] - 0s 17ms/step\n",
      "1/1 [==============================] - 0s 16ms/step\n",
      "1/1 [==============================] - 0s 15ms/step\n",
      "1/1 [==============================] - 0s 15ms/step\n",
      "1/1 [==============================] - 0s 15ms/step\n",
      "1/1 [==============================] - 0s 15ms/step\n",
      "1/1 [==============================] - 0s 16ms/step\n",
      "1/1 [==============================] - 0s 15ms/step\n",
      "1/1 [==============================] - 0s 14ms/step\n",
      "Response: i am a teacher i am a teacher\n"
     ]
    }
   ],
   "source": [
    "input_test = \"My mother say hi.\"\n",
    "print('Input:', input_test)\n",
    "integer_seq_test = tokenizer.texts_to_sequences([input_test])[0]\n",
    "print(\"Representacion en vector de tokens de ids\", integer_seq_test)\n",
    "encoder_sequence_test = pad_sequences([integer_seq_test], maxlen=max_input_len)\n",
    "print(\"Padding del vector:\", encoder_sequence_test)\n",
    "\n",
    "print('Input:', input_test)\n",
    "answer = get_bot_answer(encoder_sequence_test)\n",
    "print('Response:', answer)"
   ]
  },
  {
   "cell_type": "code",
   "execution_count": 41,
   "metadata": {},
   "outputs": [],
   "source": [
    "def question_bot(input_text):\n",
    "    integer_seq_test = tokenizer.texts_to_sequences([input_text])[0]\n",
    "    encoder_sequence_test = pad_sequences([integer_seq_test], maxlen=max_input_len)\n",
    "    answer = get_bot_answer(encoder_sequence_test)\n",
    "    print(answer)"
   ]
  },
  {
   "cell_type": "code",
   "execution_count": 42,
   "metadata": {},
   "outputs": [
    {
     "name": "stdout",
     "output_type": "stream",
     "text": [
      "1/1 [==============================] - 0s 32ms/step\n",
      "1/1 [==============================] - 0s 17ms/step\n",
      "1/1 [==============================] - 0s 16ms/step\n",
      "1/1 [==============================] - 0s 16ms/step\n",
      "1/1 [==============================] - 0s 15ms/step\n",
      "1/1 [==============================] - 0s 15ms/step\n",
      "1/1 [==============================] - 0s 15ms/step\n",
      "i like to read books\n"
     ]
    }
   ],
   "source": [
    "question_bot(\"Where have you been?\")"
   ]
  },
  {
   "cell_type": "code",
   "execution_count": 43,
   "metadata": {},
   "outputs": [
    {
     "name": "stdout",
     "output_type": "stream",
     "text": [
      "1/1 [==============================] - 0s 15ms/step\n",
      "1/1 [==============================] - 0s 15ms/step\n",
      "1/1 [==============================] - 0s 15ms/step\n",
      "1/1 [==============================] - 0s 14ms/step\n",
      "1/1 [==============================] - 0s 15ms/step\n",
      "1/1 [==============================] - 0s 15ms/step\n",
      "1/1 [==============================] - 0s 14ms/step\n",
      "1/1 [==============================] - 0s 15ms/step\n",
      "i like to play video games\n"
     ]
    }
   ],
   "source": [
    "question_bot(\"What can you do?\")"
   ]
  },
  {
   "cell_type": "markdown",
   "metadata": {},
   "source": []
  }
 ],
 "metadata": {
  "kernelspec": {
   "display_name": ".venv",
   "language": "python",
   "name": "python3"
  },
  "language_info": {
   "codemirror_mode": {
    "name": "ipython",
    "version": 3
   },
   "file_extension": ".py",
   "mimetype": "text/x-python",
   "name": "python",
   "nbconvert_exporter": "python",
   "pygments_lexer": "ipython3",
   "version": "3.10.12"
  }
 },
 "nbformat": 4,
 "nbformat_minor": 2
}
