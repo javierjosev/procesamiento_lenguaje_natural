{
  "cells": [
    {
      "cell_type": "markdown",
      "metadata": {
        "id": "zq6j8LsYq1Dr"
      },
      "source": [
        "### Vectorización de texto y modelo de clasificación Naïve Bayes con el dataset 20 newsgroups"
      ]
    },
    {
      "cell_type": "code",
      "execution_count": 63,
      "metadata": {
        "id": "l7cXR6CI30ry"
      },
      "outputs": [],
      "source": [
        "from sklearn.feature_extraction.text import CountVectorizer, TfidfVectorizer\n",
        "from sklearn.metrics.pairwise import cosine_similarity\n",
        "from sklearn.naive_bayes import MultinomialNB, ComplementNB\n",
        "from sklearn.metrics import f1_score\n",
        "\n",
        "# 20newsgroups por ser un dataset clásico de NLP ya viene incluido y formateado\n",
        "# en sklearn\n",
        "from sklearn.datasets import fetch_20newsgroups\n",
        "import numpy as np"
      ]
    },
    {
      "cell_type": "markdown",
      "metadata": {
        "id": "yD-pVDWV_rQc"
      },
      "source": [
        "## Carga de datos"
      ]
    },
    {
      "cell_type": "code",
      "execution_count": 64,
      "metadata": {
        "id": "Ech9qJaUo9vK"
      },
      "outputs": [],
      "source": [
        "# cargamos los datos (ya separados de forma predeterminada en train y test)\n",
        "newsgroups_train = fetch_20newsgroups(subset='train', remove=('headers', 'footers', 'quotes'))\n",
        "newsgroups_test = fetch_20newsgroups(subset='test', remove=('headers', 'footers', 'quotes'))"
      ]
    },
    {
      "cell_type": "markdown",
      "metadata": {
        "id": "UxjSI7su_uWI"
      },
      "source": [
        "## Vectorización"
      ]
    },
    {
      "cell_type": "code",
      "execution_count": 65,
      "metadata": {
        "id": "-94VP0QYCzDn"
      },
      "outputs": [],
      "source": [
        "# instanciamos un vectorizador\n",
        "# ver diferentes parámetros de instanciación en la documentación de sklearn\n",
        "tfidfvect = TfidfVectorizer()"
      ]
    },
    {
      "cell_type": "code",
      "execution_count": 66,
      "metadata": {
        "colab": {
          "base_uri": "https://localhost:8080/",
          "height": 104
        },
        "id": "ftPlyanuak8n",
        "outputId": "45a94d0e-49e7-4f7c-c806-7d5b66779dd0"
      },
      "outputs": [
        {
          "data": {
            "text/plain": [
              "'I was wondering if anyone out there could enlighten me on this car I saw\\nthe other day. It was a 2-door sports car, looked to be from the late 60s/\\nearly 70s. It was called a Bricklin. The doors were really small. In addition,\\nthe front bumper was separate from the rest of the body. This is \\nall I know. If anyone can tellme a model name, engine specs, years\\nof production, where this car is made, history, or whatever info you\\nhave on this funky looking car, please e-mail.'"
            ]
          },
          "execution_count": 66,
          "metadata": {},
          "output_type": "execute_result"
        }
      ],
      "source": [
        "# en el atributo `data` accedemos al texto\n",
        "newsgroups_train.data[0]"
      ]
    },
    {
      "cell_type": "code",
      "execution_count": 67,
      "metadata": {
        "id": "1zxcXV6aC_oL"
      },
      "outputs": [],
      "source": [
        "# con la interfaz habitual de sklearn podemos fitear el vectorizador\n",
        "# (obtener el vocabulario y calcular el vector IDF)\n",
        "# y transformar directamente los datos\n",
        "X_train = tfidfvect.fit_transform(newsgroups_train.data)\n",
        "# `X_train` la podemos denominar como la matriz documento-término"
      ]
    },
    {
      "cell_type": "code",
      "execution_count": 68,
      "metadata": {
        "colab": {
          "base_uri": "https://localhost:8080/"
        },
        "id": "4Sv7TXbda41-",
        "outputId": "dcca5de6-dac1-4d68-d284-ce7be2ed9e2f"
      },
      "outputs": [
        {
          "name": "stdout",
          "output_type": "stream",
          "text": [
            "<class 'scipy.sparse._csr.csr_matrix'>\n",
            "shape: (11314, 101631)\n",
            "cantidad de documentos: 11314\n",
            "tamaño del vocabulario (dimensionalidad de los vectores): 101631\n"
          ]
        }
      ],
      "source": [
        "# recordar que las vectorizaciones por conteos son esparsas\n",
        "# por ello sklearn convenientemente devuelve los vectores de documentos\n",
        "# como matrices esparsas\n",
        "print(type(X_train))\n",
        "print(f'shape: {X_train.shape}')\n",
        "print(f'cantidad de documentos: {X_train.shape[0]}')\n",
        "print(f'tamaño del vocabulario (dimensionalidad de los vectores): {X_train.shape[1]}')"
      ]
    },
    {
      "cell_type": "code",
      "execution_count": 69,
      "metadata": {
        "colab": {
          "base_uri": "https://localhost:8080/"
        },
        "id": "dgydNTZ2pAgR",
        "outputId": "95111464-e40c-4b57-d154-ede153739a82"
      },
      "outputs": [
        {
          "data": {
            "text/plain": [
              "25775"
            ]
          },
          "execution_count": 69,
          "metadata": {},
          "output_type": "execute_result"
        }
      ],
      "source": [
        "# una vez fiteado el vectorizador, podemos acceder a atributos como el vocabulario\n",
        "# aprendido. Es un diccionario que va de términos a índices.\n",
        "# El índice es la posición en el vector de documento.\n",
        "tfidfvect.vocabulary_['car']"
      ]
    },
    {
      "cell_type": "code",
      "execution_count": 70,
      "metadata": {
        "id": "xnTSZuvyrTcP"
      },
      "outputs": [],
      "source": [
        "# es muy útil tener el diccionario opuesto que va de índices a términos\n",
        "idx2word = {v: k for k,v in tfidfvect.vocabulary_.items()}"
      ]
    },
    {
      "cell_type": "code",
      "execution_count": 71,
      "metadata": {
        "colab": {
          "base_uri": "https://localhost:8080/"
        },
        "id": "swa-AgWrMSHM",
        "outputId": "93d09f31-4c42-4215-e750-a13c83ecf96a"
      },
      "outputs": [
        {
          "data": {
            "text/plain": [
              "array([ 7,  4,  4,  1, 14, 16, 13,  3,  2,  4])"
            ]
          },
          "execution_count": 71,
          "metadata": {},
          "output_type": "execute_result"
        }
      ],
      "source": [
        "# en `y_train` guardamos los targets que son enteros\n",
        "y_train = newsgroups_train.target\n",
        "y_train[:10]"
      ]
    },
    {
      "cell_type": "code",
      "execution_count": 72,
      "metadata": {
        "colab": {
          "base_uri": "https://localhost:8080/"
        },
        "id": "je5kxvQMDLvf",
        "outputId": "59799046-9799-406f-c4be-81c5765de58d"
      },
      "outputs": [
        {
          "name": "stdout",
          "output_type": "stream",
          "text": [
            "clases [ 0  1  2  3  4  5  6  7  8  9 10 11 12 13 14 15 16 17 18 19]\n"
          ]
        },
        {
          "data": {
            "text/plain": [
              "['alt.atheism',\n",
              " 'comp.graphics',\n",
              " 'comp.os.ms-windows.misc',\n",
              " 'comp.sys.ibm.pc.hardware',\n",
              " 'comp.sys.mac.hardware',\n",
              " 'comp.windows.x',\n",
              " 'misc.forsale',\n",
              " 'rec.autos',\n",
              " 'rec.motorcycles',\n",
              " 'rec.sport.baseball',\n",
              " 'rec.sport.hockey',\n",
              " 'sci.crypt',\n",
              " 'sci.electronics',\n",
              " 'sci.med',\n",
              " 'sci.space',\n",
              " 'soc.religion.christian',\n",
              " 'talk.politics.guns',\n",
              " 'talk.politics.mideast',\n",
              " 'talk.politics.misc',\n",
              " 'talk.religion.misc']"
            ]
          },
          "execution_count": 72,
          "metadata": {},
          "output_type": "execute_result"
        }
      ],
      "source": [
        "# hay 20 clases correspondientes a los 20 grupos de noticias\n",
        "print(f'clases {np.unique(newsgroups_test.target)}')\n",
        "newsgroups_test.target_names"
      ]
    },
    {
      "cell_type": "markdown",
      "metadata": {
        "id": "SXCICFSd_y90"
      },
      "source": [
        "## Similaridad de documentos"
      ]
    },
    {
      "cell_type": "code",
      "execution_count": 73,
      "metadata": {
        "colab": {
          "base_uri": "https://localhost:8080/"
        },
        "id": "_pki_olShnyE",
        "outputId": "b2bd8485-40c7-4923-c8a9-4ad6b735576e"
      },
      "outputs": [
        {
          "name": "stdout",
          "output_type": "stream",
          "text": [
            "THE WHITE HOUSE\n",
            "\n",
            "                  Office of the Press Secretary\n",
            "                   (Pittsburgh, Pennslyvania)\n",
            "______________________________________________________________\n",
            "For Immediate Release                         April 17, 1993     \n",
            "\n",
            "             \n",
            "                  RADIO ADDRESS TO THE NATION \n",
            "                        BY THE PRESIDENT\n",
            "             \n",
            "                Pittsburgh International Airport\n",
            "                    Pittsburgh, Pennsylvania\n",
            "             \n",
            "             \n",
            "10:06 A.M. EDT\n",
            "             \n",
            "             \n",
            "             THE PRESIDENT:  Good morning.  My voice is coming to\n",
            "you this morning through the facilities of the oldest radio\n",
            "station in America, KDKA in Pittsburgh.  I'm visiting the city to\n",
            "meet personally with citizens here to discuss my plans for jobs,\n",
            "health care and the economy.  But I wanted first to do my weekly\n",
            "broadcast with the American people. \n",
            "             \n",
            "             I'm told this station first broadcast in 1920 when\n",
            "it reported that year's presidential elections.  Over the past\n",
            "seven decades presidents have found ways to keep in touch with\n",
            "the people, from whistle-stop tours to fire-side chats to the bus\n",
            "tour that I adopted, along with Vice President Gore, in last\n",
            "year's campaign.\n",
            "             \n",
            "             Every Saturday morning I take this time to talk with\n",
            "you, my fellow Americans, about the problems on your minds and\n",
            "what I'm doing to try and solve them.  It's my way of reporting\n",
            "to you and of giving you a way to hold me accountable.\n",
            "             \n",
            "             You sent me to Washington to get our government and\n",
            "economy moving after years of paralysis and policy and a bad\n",
            "experiment with trickle-down economics.  You know how important\n",
            "it is for us to make bold, comprehensive changes in the way we do\n",
            "business.  \n",
            "             \n",
            "             We live in a competitive global economy.  Nations\n",
            "rise and fall on the skills of their workers, the competitiveness\n",
            "of their companies, the imagination of their industries, and the\n",
            "cooperative experience and spirit that exists between business,\n",
            "labor and government.  Although many of the economies of the\n",
            "industrialized world are now suffering from slow growth, they've\n",
            "made many of the smart investments and the tough choices which\n",
            "our government has for too long ignored.  That's why many of them\n",
            "have been moving ahead and too many of our people have been\n",
            "falling behind.\n",
            "             \n",
            "             We have an economy today that even when it grows is\n",
            "not producing new jobs.  We've increased the debt of our nation\n",
            "by four times over the last 12 years, and we don't have much to\n",
            "show for it.  We know that wages of most working people have\n",
            "stopped rising, that most people are working longer work weeks\n",
            "and that too many families can no longer afford the escalating\n",
            "cost of health care.\n",
            "             \n",
            "             But we also know that, given the right tools, the\n",
            "right incentives and the right encouragement, our workers and\n",
            "businesses can make the kinds of products and profits our economy\n",
            "needs to expand opportunity and to make our communities better\n",
            "places to live.\n",
            "             \n",
            "             In many critical products today Americans are the\n",
            "low cost, high quality producers.  Our task is to make sure that\n",
            "we create more of those kinds of jobs.\n",
            "             \n",
            "             Just two months ago I gave Congress my plan for\n",
            "long-term jobs and economic growth.  It changes the old\n",
            "priorities in Washington and puts our emphasis where it needs to\n",
            "be -- on people's real needs, on increasing investments and jobs\n",
            "and education, on cutting the federal deficit, on stopping the\n",
            "waste which pays no dividends, and redirecting our precious\n",
            "resources toward investment that creates jobs now and lays the\n",
            "groundwork for robust economic growth in the future.\n",
            "             \n",
            "             These new directions passed the Congress in record\n",
            "time and created a new sense of hope and opportunity in our\n",
            "country.  Then the jobs plan I presented to Congress, which would\n",
            "create hundreds of thousands of jobs, most of them in the private\n",
            "sector in 1993 and 1994, passed the House of Representatives.  It\n",
            "now has the support of a majority of the United States Senate. \n",
            "But it's been held up by a filibuster of a minority in the\n",
            "Senate, just 43 senators.  They blocked a vote that they know\n",
            "would result in the passage of our bill and the creation of jobs.\n",
            "             \n",
            "             The issue isn't politics; the issue is people. \n",
            "Millions of Americans are waiting for this legislation and\n",
            "counting on it, counting on us in Washington.  But the jobs bill\n",
            "has been grounded by gridlock.  \n",
            "             \n",
            "             I know the American people are tired of business as\n",
            "usual and politics as usual.  I know they don't want us to spin\n",
            "or wheels.  They want the recovery to get moving.  So I have\n",
            "taken a first step to break this gridlock and gone the extra\n",
            "mile.  Yesterday I offered to cut the size of this plan by 25\n",
            "percent -- from $16 billion to $12 billion.  \n",
            "             \n",
            "             It's not what I'd hoped for.  With 16 million\n",
            "Americans looking for full-time work, I simply can't let the bill\n",
            "languish when I know that even a compromise bill will mean\n",
            "hundreds of thousands of jobs for our people.  The mandate is to\n",
            "act to achieve change and move the country forward.  By taking\n",
            "this initiative in the face of an unrelenting Senate talkathon, I\n",
            "think we can respond to your mandate and achieve a significant\n",
            "portion of our original goals.\n",
            "             \n",
            "             First, we want to keep the programs as much as\n",
            "possible that are needed to generate jobs and meet human needs,\n",
            "including highway and road construction, summer jobs for young\n",
            "people, immunization for children, construction of waste water\n",
            "sites, and aid to small businesses.  We also want to keep funding\n",
            "for extended unemployment compensation benefits, for people who\n",
            "have been unemployed for a long time because the economy isn't\n",
            "creating jobs.\n",
            "             \n",
            "             Second, I've recommended that all the other programs\n",
            "in the bill be cut across-the-board by a little more than 40\n",
            "percent.\n",
            "             \n",
            "             And third, I've recommended a new element in this\n",
            "program to help us immediately start our attempt to fight against\n",
            "crime by providing $200 million for cities and towns to rehire\n",
            "police officers who lost their jobs during the recession and put\n",
            "them back to work protecting our people.  I'm also going to fight\n",
            "for a tough crime bill because the people of this country need it\n",
            "and deserve it.\n",
            "             \n",
            "             Now, the people who are filibustering this bill --\n",
            "the Republican senators -- say they won't vote for it because it\n",
            "increases deficit spending, because there's extra spending this\n",
            "year that hasn't already been approved.  That sounds reasonable,\n",
            "doesn't it?  Here's what they don't say.  This program is more\n",
            "than paid for by budget cuts over my five-year budget, and this\n",
            "budget is well within the spending limits already approved by the\n",
            "Congress this year.\n",
            "             \n",
            "             It's amazing to me that many of these same senators\n",
            "who are filibustering the bill voted during the previous\n",
            "administration for billions of dollars of the same kind of\n",
            "emergency spending, and much of it was not designed to put the\n",
            "American people to work.  \n",
            "             \n",
            "             This is not about deficit spending.  We have offered\n",
            "a plan to cut the deficit.  This is about where your priorities\n",
            "are -- on people or on politics.  \n",
            "             \n",
            "             Keep in mind that our jobs bill is paid for dollar\n",
            "for dollar.  It is paid for by budget cuts.  And it's the\n",
            "soundest investment we can now make for ourselves and our\n",
            "children.  I urge all Americans to take another look at this jobs\n",
            "and investment program; to consider again the benefits for all of\n",
            "us when we've helped make more American partners working to\n",
            "ensure the future of our nation and the strength of our economy.\n",
            "             \n",
            "             You know, if every American who wanted a job had\n",
            "one, we wouldn't have a lot of the other problems we have in this\n",
            "country today.  This bill is not a miracle, it's a modest first\n",
            "step to try to set off a job creation explosion in this country\n",
            "again.  But it's a step we ought to take.  And it is fully paid\n",
            "for over the life of our budget.\n",
            "             \n",
            "             Tell your lawmakers what you think.  Tell them how\n",
            "important the bill is.  If it passes, we'll all be winners.\n",
            "             \n",
            "             Good morning, and thank you for listening.\n"
          ]
        }
      ],
      "source": [
        "# Veamos similaridad de documentos. Tomemos algún documento\n",
        "idx = 4811\n",
        "print(newsgroups_train.data[idx])"
      ]
    },
    {
      "cell_type": "code",
      "execution_count": 74,
      "metadata": {
        "id": "Ssa9bqJ-hA_v"
      },
      "outputs": [],
      "source": [
        "# midamos la similaridad coseno con todos los documentos de train\n",
        "cossim = cosine_similarity(X_train[idx], X_train)[0]"
      ]
    },
    {
      "cell_type": "code",
      "execution_count": 75,
      "metadata": {
        "colab": {
          "base_uri": "https://localhost:8080/"
        },
        "id": "p_mDA7p3AzcQ",
        "outputId": "747a3923-4b1c-4e2b-921d-4ebf2b271b00"
      },
      "outputs": [
        {
          "data": {
            "text/plain": [
              "array([1.        , 0.70930477, 0.67474953, ..., 0.        , 0.        ,\n",
              "       0.        ])"
            ]
          },
          "execution_count": 75,
          "metadata": {},
          "output_type": "execute_result"
        }
      ],
      "source": [
        "# podemos ver los valores de similaridad ordenados de mayor a menos\n",
        "np.sort(cossim)[::-1]"
      ]
    },
    {
      "cell_type": "code",
      "execution_count": 76,
      "metadata": {
        "colab": {
          "base_uri": "https://localhost:8080/"
        },
        "id": "0OIhDA1jAryX",
        "outputId": "04ddf3ca-0741-42d7-8bbb-00bb395f7834"
      },
      "outputs": [
        {
          "data": {
            "text/plain": [
              "array([ 4811,  6635,  4253, ...,  1534, 10055,  4750])"
            ]
          },
          "execution_count": 76,
          "metadata": {},
          "output_type": "execute_result"
        }
      ],
      "source": [
        "# y a qué documentos corresponden\n",
        "np.argsort(cossim)[::-1]"
      ]
    },
    {
      "cell_type": "code",
      "execution_count": 77,
      "metadata": {
        "id": "hP7qLS4ZBLps"
      },
      "outputs": [],
      "source": [
        "# los 5 documentos más similares:\n",
        "mostsim = np.argsort(cossim)[::-1][1:6]"
      ]
    },
    {
      "cell_type": "code",
      "execution_count": 78,
      "metadata": {
        "colab": {
          "base_uri": "https://localhost:8080/",
          "height": 35
        },
        "id": "QdJLHPJACvaj",
        "outputId": "926186cf-7d4c-4bd3-927b-ad00bf7f24f9"
      },
      "outputs": [
        {
          "data": {
            "text/plain": [
              "'talk.politics.misc'"
            ]
          },
          "execution_count": 78,
          "metadata": {},
          "output_type": "execute_result"
        }
      ],
      "source": [
        "# el documento original pertenece a la clase:\n",
        "newsgroups_train.target_names[y_train[idx]]"
      ]
    },
    {
      "cell_type": "code",
      "execution_count": 79,
      "metadata": {
        "colab": {
          "base_uri": "https://localhost:8080/"
        },
        "id": "RWy_73epCbFG",
        "outputId": "daf534e5-b2a8-43d4-d05a-9c52b816cf69"
      },
      "outputs": [
        {
          "name": "stdout",
          "output_type": "stream",
          "text": [
            "talk.politics.misc\n",
            "talk.politics.misc\n",
            "talk.politics.misc\n",
            "talk.politics.misc\n",
            "talk.politics.misc\n"
          ]
        }
      ],
      "source": [
        "# y los 5 más similares son de las clases:\n",
        "for i in mostsim:\n",
        "  print(newsgroups_train.target_names[y_train[i]])"
      ]
    },
    {
      "cell_type": "markdown",
      "metadata": {
        "id": "zRoNnKwhBqzq"
      },
      "source": [
        "### Modelo de clasificación Naïve Bayes"
      ]
    },
    {
      "cell_type": "code",
      "execution_count": 80,
      "metadata": {
        "colab": {
          "base_uri": "https://localhost:8080/",
          "height": 74
        },
        "id": "TPM0thDaLk0R",
        "outputId": "bc7fdc3e-d912-4e0c-9d9e-33efc97b46fc"
      },
      "outputs": [
        {
          "data": {
            "text/html": [
              "<style>#sk-container-id-2 {color: black;}#sk-container-id-2 pre{padding: 0;}#sk-container-id-2 div.sk-toggleable {background-color: white;}#sk-container-id-2 label.sk-toggleable__label {cursor: pointer;display: block;width: 100%;margin-bottom: 0;padding: 0.3em;box-sizing: border-box;text-align: center;}#sk-container-id-2 label.sk-toggleable__label-arrow:before {content: \"▸\";float: left;margin-right: 0.25em;color: #696969;}#sk-container-id-2 label.sk-toggleable__label-arrow:hover:before {color: black;}#sk-container-id-2 div.sk-estimator:hover label.sk-toggleable__label-arrow:before {color: black;}#sk-container-id-2 div.sk-toggleable__content {max-height: 0;max-width: 0;overflow: hidden;text-align: left;background-color: #f0f8ff;}#sk-container-id-2 div.sk-toggleable__content pre {margin: 0.2em;color: black;border-radius: 0.25em;background-color: #f0f8ff;}#sk-container-id-2 input.sk-toggleable__control:checked~div.sk-toggleable__content {max-height: 200px;max-width: 100%;overflow: auto;}#sk-container-id-2 input.sk-toggleable__control:checked~label.sk-toggleable__label-arrow:before {content: \"▾\";}#sk-container-id-2 div.sk-estimator input.sk-toggleable__control:checked~label.sk-toggleable__label {background-color: #d4ebff;}#sk-container-id-2 div.sk-label input.sk-toggleable__control:checked~label.sk-toggleable__label {background-color: #d4ebff;}#sk-container-id-2 input.sk-hidden--visually {border: 0;clip: rect(1px 1px 1px 1px);clip: rect(1px, 1px, 1px, 1px);height: 1px;margin: -1px;overflow: hidden;padding: 0;position: absolute;width: 1px;}#sk-container-id-2 div.sk-estimator {font-family: monospace;background-color: #f0f8ff;border: 1px dotted black;border-radius: 0.25em;box-sizing: border-box;margin-bottom: 0.5em;}#sk-container-id-2 div.sk-estimator:hover {background-color: #d4ebff;}#sk-container-id-2 div.sk-parallel-item::after {content: \"\";width: 100%;border-bottom: 1px solid gray;flex-grow: 1;}#sk-container-id-2 div.sk-label:hover label.sk-toggleable__label {background-color: #d4ebff;}#sk-container-id-2 div.sk-serial::before {content: \"\";position: absolute;border-left: 1px solid gray;box-sizing: border-box;top: 0;bottom: 0;left: 50%;z-index: 0;}#sk-container-id-2 div.sk-serial {display: flex;flex-direction: column;align-items: center;background-color: white;padding-right: 0.2em;padding-left: 0.2em;position: relative;}#sk-container-id-2 div.sk-item {position: relative;z-index: 1;}#sk-container-id-2 div.sk-parallel {display: flex;align-items: stretch;justify-content: center;background-color: white;position: relative;}#sk-container-id-2 div.sk-item::before, #sk-container-id-2 div.sk-parallel-item::before {content: \"\";position: absolute;border-left: 1px solid gray;box-sizing: border-box;top: 0;bottom: 0;left: 50%;z-index: -1;}#sk-container-id-2 div.sk-parallel-item {display: flex;flex-direction: column;z-index: 1;position: relative;background-color: white;}#sk-container-id-2 div.sk-parallel-item:first-child::after {align-self: flex-end;width: 50%;}#sk-container-id-2 div.sk-parallel-item:last-child::after {align-self: flex-start;width: 50%;}#sk-container-id-2 div.sk-parallel-item:only-child::after {width: 0;}#sk-container-id-2 div.sk-dashed-wrapped {border: 1px dashed gray;margin: 0 0.4em 0.5em 0.4em;box-sizing: border-box;padding-bottom: 0.4em;background-color: white;}#sk-container-id-2 div.sk-label label {font-family: monospace;font-weight: bold;display: inline-block;line-height: 1.2em;}#sk-container-id-2 div.sk-label-container {text-align: center;}#sk-container-id-2 div.sk-container {/* jupyter's `normalize.less` sets `[hidden] { display: none; }` but bootstrap.min.css set `[hidden] { display: none !important; }` so we also need the `!important` here to be able to override the default hidden behavior on the sphinx rendered scikit-learn.org. See: https://github.com/scikit-learn/scikit-learn/issues/21755 */display: inline-block !important;position: relative;}#sk-container-id-2 div.sk-text-repr-fallback {display: none;}</style><div id=\"sk-container-id-2\" class=\"sk-top-container\"><div class=\"sk-text-repr-fallback\"><pre>MultinomialNB()</pre><b>In a Jupyter environment, please rerun this cell to show the HTML representation or trust the notebook. <br />On GitHub, the HTML representation is unable to render, please try loading this page with nbviewer.org.</b></div><div class=\"sk-container\" hidden><div class=\"sk-item\"><div class=\"sk-estimator sk-toggleable\"><input class=\"sk-toggleable__control sk-hidden--visually\" id=\"sk-estimator-id-2\" type=\"checkbox\" checked><label for=\"sk-estimator-id-2\" class=\"sk-toggleable__label sk-toggleable__label-arrow\">MultinomialNB</label><div class=\"sk-toggleable__content\"><pre>MultinomialNB()</pre></div></div></div></div></div>"
            ],
            "text/plain": [
              "MultinomialNB()"
            ]
          },
          "execution_count": 80,
          "metadata": {},
          "output_type": "execute_result"
        }
      ],
      "source": [
        "# es muy fácil instanciar un modelo de clasificación Naïve Bayes y entrenarlo con sklearn\n",
        "clf = MultinomialNB()\n",
        "clf.fit(X_train, y_train)"
      ]
    },
    {
      "cell_type": "code",
      "execution_count": 81,
      "metadata": {
        "id": "NrQjzM48Mu4T"
      },
      "outputs": [],
      "source": [
        "# con nuestro vectorizador ya fiteado en train, vectorizamos los textos\n",
        "# del conjunto de test\n",
        "X_test = tfidfvect.transform(newsgroups_test.data)\n",
        "y_test = newsgroups_test.target\n",
        "y_pred =  clf.predict(X_test)"
      ]
    },
    {
      "cell_type": "code",
      "execution_count": 82,
      "metadata": {
        "colab": {
          "base_uri": "https://localhost:8080/"
        },
        "id": "UkGJhetEPdA4",
        "outputId": "232ee2ce-e904-466e-be57-babc1f319029"
      },
      "outputs": [
        {
          "data": {
            "text/plain": [
              "0.5854345727938506"
            ]
          },
          "execution_count": 82,
          "metadata": {},
          "output_type": "execute_result"
        }
      ],
      "source": [
        "# el F1-score es una metrica adecuada para reportar desempeño de modelos de claificación\n",
        "# es robusta al desbalance de clases. El promediado 'macro' es el promedio de los\n",
        "# F1-score de cada clase. El promedio 'micro' es equivalente a la accuracy que no\n",
        "# es una buena métrica cuando los datasets son desbalanceados\n",
        "f1_score(y_test, y_pred, average='macro')"
      ]
    },
    {
      "cell_type": "markdown",
      "metadata": {
        "id": "McArD4rSDR2K"
      },
      "source": [
        "### Consigna del desafío 1"
      ]
    },
    {
      "cell_type": "markdown",
      "metadata": {
        "id": "lJgf6GQIIEH1"
      },
      "source": [
        "**1**. Vectorizar documentos. Tomar 5 documentos al azar y medir similaridad con el resto de los documentos.\n",
        "Estudiar los 5 documentos más similares de cada uno analizar si tiene sentido\n",
        "la similaridad según el contenido del texto y la etiqueta de clasificación.\n",
        "\n",
        "**2**. Entrenar modelos de clasificación Naïve Bayes para maximizar el desempeño de clasificación\n",
        "(f1-score macro) en el conjunto de datos de test. Considerar cambiar parámteros\n",
        "de instanciación del vectorizador y los modelos y probar modelos de Naïve Bayes Multinomial\n",
        "y ComplementNB.\n",
        "\n",
        "**3**. Transponer la matriz documento-término. De esa manera se obtiene una matriz\n",
        "término-documento que puede ser interpretada como una colección de vectorización de palabras.\n",
        "Estudiar ahora similaridad entre palabras tomando 5 palabras y estudiando sus 5 más similares.\n"
      ]
    },
    {
      "cell_type": "markdown",
      "metadata": {},
      "source": [
        "### Resolución del Desafío"
      ]
    },
    {
      "cell_type": "markdown",
      "metadata": {},
      "source": [
        "**1**. Vectorizar documentos."
      ]
    },
    {
      "cell_type": "code",
      "execution_count": 83,
      "metadata": {},
      "outputs": [
        {
          "name": "stdout",
          "output_type": "stream",
          "text": [
            "Texto: '[deleted]  I'm sorry if I'm misunderstanding your post, but DRAM *does not* have to be refreshed on *each access cycle*.  So cycle time does *not* hav'\n",
            "Clase del documento seleccionado al azar: comp.sys.ibm.pc.hardware\n",
            "Documentos con mayor cosine_similarity: \n",
            "Indice: '1416'\n",
            "Texto: 'This is an official RFD for the creation of a new newsgroup for the general discussion of the Microsoft Access RDMS.  NAME: COMP.DATABASES.ACCESS  MOD'\n",
            "Clase: comp.os.ms-windows.misc - cosine_similarity: 0.23538719866547453\n",
            "Indice: '10569'\n",
            "Texto: 'This is the 2nd Reguest for Discussion ( RFD ) for the creation of  comp.databases.ms-access   The discussion period started on April 6 and it will la'\n",
            "Clase: comp.os.ms-windows.misc - cosine_similarity: 0.22706083032657617\n",
            "Indice: '8493'\n",
            "Texto: 'Rick Anderson replied to my letter with...  ra> In article <C5ELp2.L0C@acsu.buffalo.edu>, ra> ra> >     Well, Jason, it's heretical in a few ways. The'\n",
            "Clase: talk.religion.misc - cosine_similarity: 0.22126745500731573\n",
            "Indice: '10404'\n",
            "Texto: 'What's the latest and greatest way to dim incandescent lamps ?  March '93 Circuit Cellar has part one of an article about dimming 120VAC lamps, but it'\n",
            "Clase: sci.electronics - cosine_similarity: 0.19095624869173092\n",
            "Indice: '6853'\n",
            "Texto: 'Hi,  sometime ago there are some discussions on gaining CompuServe access thru the Internet. But I seem to misplace those articles. Can someone please'\n",
            "Clase: comp.os.ms-windows.misc - cosine_similarity: 0.18886056567559237\n",
            "--------------\n",
            "Texto: 'Recurrent Volvulus     -------------------       This is regarding recurrent volvulus which our little boy  has been suffering from ever since he was'\n",
            "Clase del documento seleccionado al azar: sci.med\n",
            "Documentos con mayor cosine_similarity: \n",
            "Indice: '8135'\n",
            "Texto: 'I need advice with a situation which occurred between me and a physican which upset me.  I saw this doctor for a problem with recurring pain. He sugge'\n",
            "Clase: sci.med - cosine_similarity: 0.2689789812248995\n",
            "Indice: '7286'\n",
            "Texto: 'Accounts of Anti-Armenian Human Right Violations in Azerbaijan #008 Part A                  Prelude to Current Events in Nagorno-Karabakh \t \t\t\t\t(Part'\n",
            "Clase: talk.politics.mideast - cosine_similarity: 0.26731477335832465\n",
            "Indice: '5829'\n",
            "Texto: 'Accounts of Anti-Armenian Human Right Violations in Azerbaijan #013                  Prelude to Current Events in Nagorno-Karabakh     +--------------'\n",
            "Clase: talk.politics.mideast - cosine_similarity: 0.2665100223335544\n",
            "Indice: '3998'\n",
            "Texto: '->\tFirst I want to start right out and say that I'm a Christian.  It  ->makes sense to be one.  Have any of you read Tony Campollo's book- liar,  ->lu'\n",
            "Clase: alt.atheism - cosine_similarity: 0.25824770444033784\n",
            "Indice: '10617'\n",
            "Texto: 'I noticed several years ago that when I took analgesics fairly regularly, (motrin at the time), I seemed to get a lot of migraines.  But had forgotten'\n",
            "Clase: sci.med - cosine_similarity: 0.25745989115227386\n",
            "--------------\n",
            "Texto: 'WASHINGTON - A stark reminder of the Holocaust--a speech by Nazi  SS leader Heinrich Himmler that refers to \"the extermination of the Jewish race\"--we'\n",
            "Clase del documento seleccionado al azar: talk.politics.mideast\n",
            "Documentos con mayor cosine_similarity: \n",
            "Indice: '5778'\n",
            "Texto: 'It is appropriate to add what Himmler said other \"inferior races\"  and \"human animals\" in his speech at Posen and elsewhere:   From the speech of Reic'\n",
            "Clase: talk.politics.mideast - cosine_similarity: 0.27362623615020154\n",
            "Indice: '8224'\n",
            "Texto: 'From: Center for Policy Research <cpr> Subject: Symbiotics: Zionism-Antisemitism   Zionism and the Holocaust -------------------------- by Haim Breshe'\n",
            "Clase: talk.politics.mideast - cosine_similarity: 0.26756229186193614\n",
            "Indice: '913'\n",
            "Texto: 'The recent rise of nostalgia in this group, combined with the   incredible level of utter bullshit, has prompted me to comb   through my archives and'\n",
            "Clase: alt.atheism - cosine_similarity: 0.2647750680492033\n",
            "Indice: '1383'\n",
            "Texto: 'C'mon, you still haven't corrected yourself, 'wieneramus'. In April  1942, Hitler was preparing for the invasion of the Caucasus. A  number of Nazi'\n",
            "Clase: talk.politics.mideast - cosine_similarity: 0.24858620082146232\n",
            "Indice: '2188'\n",
            "Texto: 'Tell me, 'kmagnacca', were you high on 'Arromdian of ASALA/SDPA/ARF' when you wrote that? Humane behavior and tolerance of Turks was a legend even'\n",
            "Clase: talk.politics.mideast - cosine_similarity: 0.24366232526905662\n",
            "--------------\n",
            "Texto: 'Hey, man, you brought it up.  I agree completely, driving drunk is really stupid, and I understand and appreciate that you feel bad about it.  But DW'\n",
            "Clase del documento seleccionado al azar: rec.motorcycles\n",
            "Documentos con mayor cosine_similarity: \n",
            "Indice: '2902'\n",
            "Texto: 'You and the Beav should lighten up (esp the Beav).  I agree that DUI/DWI is serious.  We should have reasonable laws, strict enforcement, and tough s'\n",
            "Clase: rec.motorcycles - cosine_similarity: 0.32553367796455945\n",
            "Indice: '8833'\n",
            "Texto: 'Look, guy, I doubt anyone here approves of Drunk Driving, but if he's been caught and convicted and punished maybe you ought to lighten up? I mean, i'\n",
            "Clase: rec.motorcycles - cosine_similarity: 0.25442903091524594\n",
            "Indice: '10836'\n",
            "Texto: 'Archive-name: atheism/faq Alt-atheism-archive-name: faq Last-modified: 5 April 1993 Version: 1.1                      Alt.Atheism Frequently-Asked Que'\n",
            "Clase: alt.atheism - cosine_similarity: 0.23802528266680908\n",
            "Indice: '9042'\n",
            "Texto: ':In article <0096B294.AAD9C1E0@uinpla.npl.uiuc.edu> reimer@uinpla.npl.uiuc.edu   :> In article <1qkftjINNoij@cronkite.cisco.com>, pitargue@cisco.com ('\n",
            "Clase: talk.politics.guns - cosine_similarity: 0.23292289429193938\n",
            "Indice: '913'\n",
            "Texto: 'The recent rise of nostalgia in this group, combined with the   incredible level of utter bullshit, has prompted me to comb   through my archives and'\n",
            "Clase: alt.atheism - cosine_similarity: 0.232042129425887\n",
            "--------------\n",
            "Texto: 'I am in the market for a 24-bit graphics card for a PC (ISA bus), and was wondering if anyone had any comments (good? bad? otherwise?) regarding the'\n",
            "Clase del documento seleccionado al azar: comp.graphics\n",
            "Documentos con mayor cosine_similarity: \n",
            "Indice: '4752'\n",
            "Texto: 'I recently purchased a Diamond Stealth 24 Video card and received the wrong drivers.  Does anyone know where I can ftp the windows video drivers for t'\n",
            "Clase: comp.os.ms-windows.misc - cosine_similarity: 0.31202351426861635\n",
            "Indice: '8650'\n",
            "Texto: 'My brother is in the market for a high-performance video card that supports VESA local bus with 1-2MB RAM.  Does anyone have suggestions/ideas on:'\n",
            "Clase: comp.sys.ibm.pc.hardware - cosine_similarity: 0.2874943508886037\n",
            "Indice: '5946'\n",
            "Texto: 'Hi,   I am looking to buy an accelerated video card for my 486 DX 50 with\t ISA bus.  I have a 14\" SVGA NI monitor.  I'm currently running DOS 5.0 and'\n",
            "Clase: comp.sys.ibm.pc.hardware - cosine_similarity: 0.2826252628459245\n",
            "Indice: '8744'\n",
            "Texto: 'To those interested in the new ATI Ultra Cards:  I had posted some questions regarding the new ATI Ultra Pro cards and had asked confirmation of some'\n",
            "Clase: comp.os.ms-windows.misc - cosine_similarity: 0.27500840579797464\n",
            "Indice: '3332'\n",
            "Texto: 'The Adaptec 1540-series use bus mastering.  This means that the CPU doesn't sit waiting for data bytes, it can go off and do other computing - if yo'\n",
            "Clase: comp.sys.ibm.pc.hardware - cosine_similarity: 0.2524602917499636\n",
            "--------------\n"
          ]
        }
      ],
      "source": [
        "import random\n",
        "\n",
        "rnd_idxs = random.sample(range(0, len(newsgroups_train.data)), 5)\n",
        "\n",
        "for idx in rnd_idxs:\n",
        "    # similaridad coseno con todos los documentos de train\n",
        "    cos_sim = cosine_similarity(X_train[idx], X_train)[0]\n",
        "    # los 5 documentos más similares:\n",
        "    most_sim_indices = np.argsort(cos_sim)[::-1][1:6]\n",
        "    # demo del texto elegido:\n",
        "    selected_text_demo = newsgroups_train.data[idx][:150].replace(\"\\n\", \" \").strip()\n",
        "    print(f\"Texto: '{selected_text_demo}'\")\n",
        "    # el documento original pertenece a la clase:\n",
        "    print(f\"Clase del documento seleccionado al azar: {newsgroups_train.target_names[y_train[idx]]}\")\n",
        "    # y los 5 más similares son de las clases:\n",
        "    print(\"Documentos con mayor cosine_similarity: \")\n",
        "    for i in most_sim_indices:\n",
        "        print(f\"Indice: '{i}'\")\n",
        "        text_demo = newsgroups_train.data[i][:150].replace(\"\\n\", \" \").strip()\n",
        "        print(f\"Texto: '{text_demo}'\")\n",
        "        print(f\"Clase: {newsgroups_train.target_names[y_train[i]]} - cosine_similarity: {cos_sim[i]}\")\n",
        "    print(\"--------------\")"
      ]
    },
    {
      "cell_type": "markdown",
      "metadata": {},
      "source": [
        "La sección de código precedente toma 5 entradas del dataset de train al azar y calcula los 5 documentos más similares empleando la función cosine_similarity. Se observa que en general los temas son bastante similares. Existen oportunidades en las que algún tema puede parecer algo desconexo, pero en general se observa una buena tasa de similaridad en las temáticas arrojadas por la función cosine_similarity."
      ]
    },
    {
      "cell_type": "markdown",
      "metadata": {},
      "source": [
        "**2**. Mejora de modelos de clasificación Naïve Bayes."
      ]
    },
    {
      "cell_type": "markdown",
      "metadata": {},
      "source": [
        "Se ejecutará un GridSearchCV a fin de encontrar el valor óptimo para el hiperparámetro \"alpha\" de MultinomialNB().\n",
        "\n",
        "* alpha: Este hiperparámetro controla el suavizado de Laplace. Éste se utiliza para prevenir la probabilidad de que una característica dada no aparezca en una clase dada durante el entrenamiento, lo que puede conducir a estimaciones de probabilidad cero y problemas asociados durante la clasificación."
      ]
    },
    {
      "cell_type": "code",
      "execution_count": 84,
      "metadata": {},
      "outputs": [
        {
          "name": "stdout",
          "output_type": "stream",
          "text": [
            "Mejor valor de alpha: 0.01\n",
            "F1-score en conjunto de entrenamiento: 0.682861129525057\n"
          ]
        }
      ],
      "source": [
        "from sklearn.model_selection import GridSearchCV\n",
        "\n",
        "# Definir el modelo\n",
        "mnb_model = MultinomialNB()\n",
        "\n",
        "# Definir el espacio de búsqueda de hiperparámetros\n",
        "param_grid = {'alpha': [0.01, 0.05, 0.1, 0.5, 1.0]}\n",
        "\n",
        "# Realizar búsqueda grid\n",
        "grid_search = GridSearchCV(mnb_model, param_grid, cv=5, scoring='f1_macro')\n",
        "grid_search.fit(X_train, y_train)\n",
        "\n",
        "# Obtener los mejores hiperparámetros\n",
        "best_alpha = grid_search.best_params_['alpha']\n",
        "\n",
        "# Entrenar modelo final con los mejores hiperparámetros\n",
        "final_mnb_model = MultinomialNB(alpha=best_alpha)\n",
        "final_mnb_model.fit(X_train, y_train)\n",
        "\n",
        "# Predecir en el conjunto de prueba y calcular F1-score\n",
        "y_pred = final_mnb_model.predict(X_test)\n",
        "f1 = f1_score(y_test, y_pred, average='macro')\n",
        "\n",
        "print(\"Mejor valor de alpha:\", best_alpha)\n",
        "print(\"F1-score en conjunto de entrenamiento:\", f1)"
      ]
    },
    {
      "cell_type": "markdown",
      "metadata": {},
      "source": [
        "Se observa que el F1-score para el caso del empleo de GridSearchCV ha aumentado notoriamente, comparado con el modelo MultinomialNB() de ejemplo, en donde se deja el parámetro \"alpha\" por default. (F1-score mejora de 0.58 a 0.68 aproximadamente)"
      ]
    },
    {
      "cell_type": "markdown",
      "metadata": {},
      "source": [
        "Se procede ahora a probar con el modelo ComplementNB(). Se plantea también la búsqueda de hiperparámetros óptimos a través de GridSearchCV.\n",
        "Para el caso de ComplementNB aparecen dos nuevos hiperparámetros.\n",
        "\n",
        "* \"fit_prior\" indica si se deben aprender las probabilidades a priori de las clases o si se deben utilizar distribuciones uniformes.\n",
        "\n",
        "* \"norm\" controla si se debe aplicar la normalización de características de la frecuencia dentro del algoritmo."
      ]
    },
    {
      "cell_type": "code",
      "execution_count": 94,
      "metadata": {},
      "outputs": [
        {
          "name": "stdout",
          "output_type": "stream",
          "text": [
            "Mejores hiperparámetros: {'alpha': 0.1, 'fit_prior': True, 'norm': False}\n",
            "F1-score en conjunto de entrenamiento: 0.6953652590540836\n"
          ]
        }
      ],
      "source": [
        "# Definir el modelo\n",
        "cnb_model = ComplementNB()\n",
        "\n",
        "# Definir el espacio de búsqueda de hiperparámetros\n",
        "param_grid = {'alpha': [0.01, 0.1, 0.5, 1.0],\n",
        "              'fit_prior': [True, False],\n",
        "              'norm': [True, False]}\n",
        "\n",
        "# Realizar búsqueda grid\n",
        "grid_search = GridSearchCV(cnb_model, param_grid, cv=5, scoring='f1_macro')\n",
        "grid_search.fit(X_train, y_train)\n",
        "\n",
        "# Obtener los mejores hiperparámetros\n",
        "best_params = grid_search.best_params_\n",
        "\n",
        "# Entrenar modelo final con los mejores hiperparámetros\n",
        "final_cnb_model = ComplementNB(**best_params)\n",
        "final_cnb_model.fit(X_train, y_train)\n",
        "\n",
        "# Predecir en el conjunto de prueba y calcular F1-score\n",
        "y_pred = final_cnb_model.predict(X_test)\n",
        "f1 = f1_score(y_test, y_pred, average='macro')\n",
        "\n",
        "print(\"Mejores hiperparámetros:\", best_params)\n",
        "print(\"F1-score en conjunto de entrenamiento:\", f1)"
      ]
    },
    {
      "cell_type": "markdown",
      "metadata": {},
      "source": [
        "Se observa una mejora de ComplementNB() respecto de MultinomialNB(). De todas formas, la diferencia no es tan grande (0.695 de ComplementNB versus 0.682 de MultinomialNB)."
      ]
    },
    {
      "cell_type": "markdown",
      "metadata": {},
      "source": [
        "**3**. Estudio de similaridad entre palabras."
      ]
    },
    {
      "cell_type": "markdown",
      "metadata": {},
      "source": [
        "Transponemos la matriz de train documento-término para obtener una matriz término-documento. Al ver el shape de X_train, podemos ver que existen 11.314 documentos y 101.631 términos."
      ]
    },
    {
      "cell_type": "code",
      "execution_count": 86,
      "metadata": {},
      "outputs": [
        {
          "data": {
            "text/plain": [
              "(11314, 101631)"
            ]
          },
          "execution_count": 86,
          "metadata": {},
          "output_type": "execute_result"
        }
      ],
      "source": [
        "X_train.shape"
      ]
    },
    {
      "cell_type": "code",
      "execution_count": 87,
      "metadata": {},
      "outputs": [
        {
          "data": {
            "text/plain": [
              "(101631, 11314)"
            ]
          },
          "execution_count": 87,
          "metadata": {},
          "output_type": "execute_result"
        }
      ],
      "source": [
        "X_train_term_doc = X_train.T\n",
        "X_train_term_doc.shape"
      ]
    },
    {
      "cell_type": "markdown",
      "metadata": {},
      "source": [
        "Guardo los términos en un array aparte para acceder luego y mostrar su valor."
      ]
    },
    {
      "cell_type": "code",
      "execution_count": 88,
      "metadata": {},
      "outputs": [],
      "source": [
        "feature_term_names = tfidfvect.get_feature_names_out()\n",
        "# feature_term_names = idx2word"
      ]
    },
    {
      "cell_type": "markdown",
      "metadata": {},
      "source": [
        "Al existir varios términos numéricos, abreviaciones y cadenas de texto que no son palabras del idioma inglés, se decide seleccionar previamente 5 palabras con sentido y significado en inglés. Se tomó esta decisión ya que en el enunciado del ejercicio no especifica que la selección de los términos deba ser al azar."
      ]
    },
    {
      "cell_type": "code",
      "execution_count": 89,
      "metadata": {},
      "outputs": [
        {
          "name": "stdout",
          "output_type": "stream",
          "text": [
            "Término seleccionado: conspiracy\n",
            "Términos con mayor cosine_similarity: \n",
            "Término: forthright - cosine_similarity: 0.35395514711982123\n",
            "Término: suppressing - cosine_similarity: 0.34773112552765983\n",
            "Término: speculations - cosine_similarity: 0.3343549838207819\n",
            "Término: torching - cosine_similarity: 0.29099765766506464\n",
            "Término: quisling - cosine_similarity: 0.29099765766506464\n",
            "--------------\n",
            "Término seleccionado: electrically\n",
            "Términos con mayor cosine_similarity: \n",
            "Término: loudest - cosine_similarity: 0.7223425655620517\n",
            "Término: cretainly - cosine_similarity: 0.5878091012500084\n",
            "Término: farrady - cosine_similarity: 0.5878091012500084\n",
            "Término: chancy - cosine_similarity: 0.5818984517207866\n",
            "Término: piped - cosine_similarity: 0.5372962573982003\n",
            "--------------\n",
            "Término seleccionado: loss\n",
            "Términos con mayor cosine_similarity: \n",
            "Término: timer - cosine_similarity: 0.22822950887189108\n",
            "Término: fredericks - cosine_similarity: 0.20942972763680612\n",
            "Término: reestablish - cosine_similarity: 0.20590901618240864\n",
            "Término: comprehensible - cosine_similarity: 0.2005499256711982\n",
            "Término: photocopying - cosine_similarity: 0.19587129480605825\n",
            "--------------\n",
            "Término seleccionado: milestone\n",
            "Términos con mayor cosine_similarity: \n",
            "Término: checkout - cosine_similarity: 0.9678408233755246\n",
            "Término: billable - cosine_similarity: 0.9678408233755246\n",
            "Término: slush - cosine_similarity: 0.9678408233755246\n",
            "Término: blissfully - cosine_similarity: 0.9678408233755246\n",
            "Término: skims - cosine_similarity: 0.9678408233755246\n",
            "--------------\n",
            "Término seleccionado: scheduled\n",
            "Términos con mayor cosine_similarity: \n",
            "Término: r_turgeo - cosine_similarity: 0.49031696251576334\n",
            "Término: wallops - cosine_similarity: 0.4701038136279541\n",
            "Término: onboard - cosine_similarity: 0.36737960528719116\n",
            "Término: plymouth - cosine_similarity: 0.32939047476095334\n",
            "Término: utah - cosine_similarity: 0.31374745332288556\n",
            "--------------\n"
          ]
        }
      ],
      "source": [
        "# rnd_idxs = random.sample(range(0, X_train_term_doc.shape[0]), 5)\n",
        "# Comentado, ya que hay términos numéricos, abreviaciones, etc, y no hace sentido tomar valores al azar\n",
        "\n",
        "# Se analizarán 5 términos puntuales\n",
        "# 29412 conspiracy\n",
        "# 36688 electrically\n",
        "# 57469 loss\n",
        "# 61750 milestone\n",
        "# 80816 scheduled\n",
        "rnd_idxs = [29412, 36688, 57469, 61750, 80816]\n",
        "\n",
        "for idx in rnd_idxs:\n",
        "    # similaridad coseno con todos los términos de train\n",
        "    cos_sim_term = cosine_similarity(X_train_term_doc[idx], X_train_term_doc)[0]\n",
        "    # los 5 términos más similares:\n",
        "    most_sim_term_indices = np.argsort(cos_sim_term)[::-1][1:6]\n",
        "    # el término original es:\n",
        "    print(f\"Término seleccionado: {feature_term_names[idx]}\")\n",
        "    # y los 5 términos más similares son:\n",
        "    print(\"Términos con mayor cosine_similarity: \")\n",
        "    for i in most_sim_term_indices:\n",
        "        print(f\"Término: {feature_term_names[i]} - cosine_similarity: {cos_sim_term[i]}\")\n",
        "    print(\"--------------\")"
      ]
    },
    {
      "cell_type": "markdown",
      "metadata": {},
      "source": [
        "Se observa que para el caso de términos, la similaridad entre el significado de las palabras con mayor cosine_similarity es un tanto más difusa. En algunos casos la similaridad es más clara y en otros casos no tanto.\n",
        "\n",
        "La similaridad parece darse más por el contexto temático en donde el conjunto de palabras más símiles aparecen, que por el significado puntual en inglés (desde el punto de vista de encontrar sinónimos)."
      ]
    }
  ],
  "metadata": {
    "colab": {
      "provenance": []
    },
    "kernelspec": {
      "display_name": "Python 3",
      "name": "python3"
    },
    "language_info": {
      "codemirror_mode": {
        "name": "ipython",
        "version": 3
      },
      "file_extension": ".py",
      "mimetype": "text/x-python",
      "name": "python",
      "nbconvert_exporter": "python",
      "pygments_lexer": "ipython3",
      "version": "3.10.12"
    }
  },
  "nbformat": 4,
  "nbformat_minor": 0
}
