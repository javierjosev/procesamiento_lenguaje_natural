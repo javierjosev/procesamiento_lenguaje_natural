{
 "cells": [
  {
   "cell_type": "markdown",
   "metadata": {
    "id": "sZd5yLnnHOK0"
   },
   "source": [
    "<img src=\"https://github.com/hernancontigiani/ceia_memorias_especializacion/raw/master/Figures/logoFIUBA.jpg\" width=\"500\" align=\"center\">\n",
    "\n",
    "\n",
    "# Procesamiento de lenguaje natural\n",
    "## Custom embeddings con Gensim\n",
    "\n"
   ]
  },
  {
   "cell_type": "markdown",
   "metadata": {
    "id": "vA7nqkumo9z9"
   },
   "source": [
    "### Objetivo\n",
    "El objetivo es utilizar documentos / corpus para crear embeddings de palabras basado en ese contexto. Se utilizará canciones de bandas para generar los embeddings, es decir, que los vectores tendrán la forma en función de como esa banda haya utilizado las palabras en sus canciones."
   ]
  },
  {
   "cell_type": "code",
   "execution_count": 66,
   "metadata": {
    "id": "lFToQs5FK5uZ"
   },
   "outputs": [],
   "source": [
    "import pandas as pd\n",
    "import matplotlib.pyplot as plt\n",
    "import seaborn as sns\n",
    "\n",
    "import multiprocessing\n",
    "from gensim.models import Word2Vec"
   ]
  },
  {
   "cell_type": "markdown",
   "metadata": {
    "id": "g07zJxG7H9vG"
   },
   "source": [
    "### Datos\n",
    "Utilizaremos como dataset canciones de bandas de habla inglesa."
   ]
  },
  {
   "cell_type": "code",
   "execution_count": 3,
   "metadata": {
    "id": "l7z4CSBfpR3X"
   },
   "outputs": [
    {
     "name": "stdout",
     "output_type": "stream",
     "text": [
      "El dataset ya se encuentra descargado\n"
     ]
    }
   ],
   "source": [
    "# Descargar la carpeta de dataset\n",
    "import os\n",
    "import platform\n",
    "if os.access('./songs_dataset', os.F_OK) is False:\n",
    "    if os.access('songs_dataset.zip', os.F_OK) is False:\n",
    "        if platform.system() == 'Windows':\n",
    "            !curl https://raw.githubusercontent.com/FIUBA-Posgrado-Inteligencia-Artificial/procesamiento_lenguaje_natural/main/datasets/songs_dataset.zip -o songs_dataset.zip\n",
    "        else:\n",
    "            !wget songs_dataset.zip https://github.com/FIUBA-Posgrado-Inteligencia-Artificial/procesamiento_lenguaje_natural/raw/main/datasets/songs_dataset.zip\n",
    "    !unzip -q songs_dataset.zip   \n",
    "else:\n",
    "    print(\"El dataset ya se encuentra descargado\")"
   ]
  },
  {
   "cell_type": "code",
   "execution_count": 4,
   "metadata": {
    "id": "mysGrIw9ljC2"
   },
   "outputs": [
    {
     "data": {
      "text/plain": [
       "['disney.txt',\n",
       " 'bob-marley.txt',\n",
       " 'dickinson.txt',\n",
       " 'bieber.txt',\n",
       " 'bruno-mars.txt',\n",
       " 'adele.txt',\n",
       " 'amy-winehouse.txt',\n",
       " 'radiohead.txt',\n",
       " 'paul-simon.txt',\n",
       " 'notorious_big.txt',\n",
       " 'nicki-minaj.txt',\n",
       " 'beatles.txt',\n",
       " 'joni-mitchell.txt',\n",
       " 'prince.txt',\n",
       " 'johnny-cash.txt',\n",
       " 'patti-smith.txt',\n",
       " 'lil-wayne.txt',\n",
       " 'al-green.txt',\n",
       " 'michael-jackson.txt',\n",
       " 'dr-seuss.txt',\n",
       " 'blink-182.txt',\n",
       " 'Kanye_West.txt',\n",
       " 'alicia-keys.txt',\n",
       " 'bob-dylan.txt',\n",
       " 'janisjoplin.txt',\n",
       " 'lady-gaga.txt',\n",
       " 'dolly-parton.txt',\n",
       " 'kanye-west.txt',\n",
       " 'r-kelly.txt',\n",
       " 'Lil_Wayne.txt',\n",
       " 'drake.txt',\n",
       " 'dj-khaled.txt',\n",
       " 'leonard-cohen.txt',\n",
       " 'lorde.txt',\n",
       " 'notorious-big.txt',\n",
       " 'bruce-springsteen.txt',\n",
       " 'rihanna.txt',\n",
       " 'eminem.txt',\n",
       " 'jimi-hendrix.txt',\n",
       " 'lin-manuel-miranda.txt',\n",
       " 'kanye.txt',\n",
       " 'missy-elliott.txt',\n",
       " 'nickelback.txt',\n",
       " 'ludacris.txt',\n",
       " 'bjork.txt',\n",
       " 'nursery_rhymes.txt',\n",
       " 'cake.txt',\n",
       " 'britney-spears.txt',\n",
       " 'nirvana.txt']"
      ]
     },
     "execution_count": 4,
     "metadata": {},
     "output_type": "execute_result"
    }
   ],
   "source": [
    "# Posibles bandas\n",
    "os.listdir(\"./songs_dataset/\")"
   ]
  },
  {
   "cell_type": "code",
   "execution_count": 5,
   "metadata": {
    "id": "ticoqYD1Z3I7"
   },
   "outputs": [
    {
     "name": "stderr",
     "output_type": "stream",
     "text": [
      "/tmp/ipykernel_14808/3849064916.py:2: ParserWarning: Falling back to the 'python' engine because the 'c' engine does not support regex separators (separators > 1 char and different from '\\s+' are interpreted as regex); you can avoid this warning by specifying engine='python'.\n",
      "  df = pd.read_csv('songs_dataset/beatles.txt', sep='/n', header=None)\n"
     ]
    },
    {
     "data": {
      "text/html": [
       "<div>\n",
       "<style scoped>\n",
       "    .dataframe tbody tr th:only-of-type {\n",
       "        vertical-align: middle;\n",
       "    }\n",
       "\n",
       "    .dataframe tbody tr th {\n",
       "        vertical-align: top;\n",
       "    }\n",
       "\n",
       "    .dataframe thead th {\n",
       "        text-align: right;\n",
       "    }\n",
       "</style>\n",
       "<table border=\"1\" class=\"dataframe\">\n",
       "  <thead>\n",
       "    <tr style=\"text-align: right;\">\n",
       "      <th></th>\n",
       "      <th>0</th>\n",
       "    </tr>\n",
       "  </thead>\n",
       "  <tbody>\n",
       "    <tr>\n",
       "      <th>0</th>\n",
       "      <td>Yesterday, all my troubles seemed so far away</td>\n",
       "    </tr>\n",
       "    <tr>\n",
       "      <th>1</th>\n",
       "      <td>Now it looks as though they're here to stay</td>\n",
       "    </tr>\n",
       "    <tr>\n",
       "      <th>2</th>\n",
       "      <td>Oh, I believe in yesterday Suddenly, I'm not h...</td>\n",
       "    </tr>\n",
       "    <tr>\n",
       "      <th>3</th>\n",
       "      <td>There's a shadow hanging over me.</td>\n",
       "    </tr>\n",
       "    <tr>\n",
       "      <th>4</th>\n",
       "      <td>Oh, yesterday came suddenly Why she had to go ...</td>\n",
       "    </tr>\n",
       "  </tbody>\n",
       "</table>\n",
       "</div>"
      ],
      "text/plain": [
       "                                                   0\n",
       "0      Yesterday, all my troubles seemed so far away\n",
       "1        Now it looks as though they're here to stay\n",
       "2  Oh, I believe in yesterday Suddenly, I'm not h...\n",
       "3                  There's a shadow hanging over me.\n",
       "4  Oh, yesterday came suddenly Why she had to go ..."
      ]
     },
     "execution_count": 5,
     "metadata": {},
     "output_type": "execute_result"
    }
   ],
   "source": [
    "# Armar el dataset utilizando salto de línea para separar las oraciones/docs\n",
    "df = pd.read_csv('songs_dataset/beatles.txt', sep='/n', header=None)\n",
    "df.head()"
   ]
  },
  {
   "cell_type": "code",
   "execution_count": 6,
   "metadata": {
    "id": "LEpKubK9XzXN"
   },
   "outputs": [
    {
     "name": "stdout",
     "output_type": "stream",
     "text": [
      "Cantidad de documentos: 1846\n"
     ]
    }
   ],
   "source": [
    "print(\"Cantidad de documentos:\", df.shape[0])"
   ]
  },
  {
   "cell_type": "markdown",
   "metadata": {
    "id": "ab94qaFlrA1G"
   },
   "source": [
    "### 1 - Preprocesamiento"
   ]
  },
  {
   "cell_type": "code",
   "execution_count": 8,
   "metadata": {
    "id": "rIsmMWmjrDHd"
   },
   "outputs": [
    {
     "name": "stderr",
     "output_type": "stream",
     "text": [
      "2024-03-18 18:31:35.087014: I tensorflow/tsl/cuda/cudart_stub.cc:28] Could not find cuda drivers on your machine, GPU will not be used.\n",
      "2024-03-18 18:31:35.236175: I tensorflow/tsl/cuda/cudart_stub.cc:28] Could not find cuda drivers on your machine, GPU will not be used.\n",
      "2024-03-18 18:31:35.237228: I tensorflow/core/platform/cpu_feature_guard.cc:182] This TensorFlow binary is optimized to use available CPU instructions in performance-critical operations.\n",
      "To enable the following instructions: AVX2 FMA, in other operations, rebuild TensorFlow with the appropriate compiler flags.\n",
      "2024-03-18 18:31:36.069095: W tensorflow/compiler/tf2tensorrt/utils/py_utils.cc:38] TF-TRT Warning: Could not find TensorRT\n"
     ]
    }
   ],
   "source": [
    "from keras.preprocessing.text import text_to_word_sequence\n",
    "\n",
    "sentence_tokens = []\n",
    "# Recorrer todas las filas y transformar las oraciones\n",
    "# en una secuencia de palabras (esto podría realizarse con NLTK o spaCy también)\n",
    "for _, row in df[:None].iterrows():\n",
    "    sentence_tokens.append(text_to_word_sequence(row[0]))"
   ]
  },
  {
   "cell_type": "code",
   "execution_count": 9,
   "metadata": {
    "id": "CHepi_DGrbhq"
   },
   "outputs": [
    {
     "data": {
      "text/plain": [
       "[['yesterday', 'all', 'my', 'troubles', 'seemed', 'so', 'far', 'away'],\n",
       " ['now', 'it', 'looks', 'as', 'though', \"they're\", 'here', 'to', 'stay']]"
      ]
     },
     "execution_count": 9,
     "metadata": {},
     "output_type": "execute_result"
    }
   ],
   "source": [
    "# Demos un vistazo\n",
    "sentence_tokens[:2]"
   ]
  },
  {
   "cell_type": "markdown",
   "metadata": {
    "id": "BaXV6nlHr5Aa"
   },
   "source": [
    "### 2 - Crear los vectores (word2vec)"
   ]
  },
  {
   "cell_type": "code",
   "execution_count": 67,
   "metadata": {
    "id": "OSb0v7h8r7hK"
   },
   "outputs": [],
   "source": [
    "from gensim.models.callbacks import CallbackAny2Vec\n",
    "# Durante el entrenamiento gensim por defecto no informa el \"loss\" en cada época\n",
    "# Sobrecargamos el callback para poder tener esta información\n",
    "class callback(CallbackAny2Vec):\n",
    "    \"\"\"\n",
    "    Callback to print loss after each epoch\n",
    "    \"\"\"\n",
    "    def __init__(self):\n",
    "        self.epoch = 0\n",
    "\n",
    "    def on_epoch_end(self, model):\n",
    "        loss = model.get_latest_training_loss()\n",
    "        if self.epoch == 0:\n",
    "            print('Loss after epoch {}: {}'.format(self.epoch, loss))\n",
    "        else:\n",
    "            print('Loss after epoch {}: {}'.format(self.epoch, loss- self.loss_previous_step))\n",
    "        self.epoch += 1\n",
    "        self.loss_previous_step = loss"
   ]
  },
  {
   "cell_type": "code",
   "execution_count": 13,
   "metadata": {
    "id": "i0wnDdv9sJ47"
   },
   "outputs": [],
   "source": [
    "# Crearmos el modelo generador de vectores\n",
    "# En este caso utilizaremos la estructura modelo Skipgram\n",
    "w2v_model = Word2Vec(min_count=5,    # frecuencia mínima de palabra para incluirla en el vocabulario\n",
    "                     window=2,       # cant de palabras antes y desp de la predicha\n",
    "                     vector_size=300,       # dimensionalidad de los vectores \n",
    "                     negative=20,    # cantidad de negative samples... 0 es no se usa\n",
    "                     workers=1,      # si tienen más cores pueden cambiar este valor\n",
    "                     sg=1)           # modelo 0:CBOW  1:skipgram"
   ]
  },
  {
   "cell_type": "code",
   "execution_count": 14,
   "metadata": {
    "id": "5lTt8wErsf17"
   },
   "outputs": [],
   "source": [
    "# Obtener el vocabulario con los tokens\n",
    "w2v_model.build_vocab(sentence_tokens)"
   ]
  },
  {
   "cell_type": "code",
   "execution_count": 15,
   "metadata": {
    "id": "TNc9qt4os5AT"
   },
   "outputs": [
    {
     "name": "stdout",
     "output_type": "stream",
     "text": [
      "Cantidad de docs en el corpus: 1846\n"
     ]
    }
   ],
   "source": [
    "# Cantidad de filas/docs encontradas en el corpus\n",
    "print(\"Cantidad de docs en el corpus:\", w2v_model.corpus_count)"
   ]
  },
  {
   "cell_type": "code",
   "execution_count": 16,
   "metadata": {
    "id": "idw9cHF3tSMl"
   },
   "outputs": [
    {
     "name": "stdout",
     "output_type": "stream",
     "text": [
      "Cantidad de words distintas en el corpus: 445\n"
     ]
    }
   ],
   "source": [
    "# Cantidad de words encontradas en el corpus\n",
    "print(\"Cantidad de words distintas en el corpus:\", len(w2v_model.wv.index_to_key))"
   ]
  },
  {
   "cell_type": "markdown",
   "metadata": {
    "id": "fC9mZ8DPk-UC"
   },
   "source": [
    "### 3 - Entrenar embeddings"
   ]
  },
  {
   "cell_type": "code",
   "execution_count": 17,
   "metadata": {
    "id": "QSp-x0PAsq56"
   },
   "outputs": [
    {
     "name": "stdout",
     "output_type": "stream",
     "text": [
      "Loss after epoch 0: 113208.15625\n",
      "Loss after epoch 1: 65953.953125\n",
      "Loss after epoch 2: 65934.265625\n",
      "Loss after epoch 3: 65711.96875\n",
      "Loss after epoch 4: 63872.5\n",
      "Loss after epoch 5: 64142.46875\n",
      "Loss after epoch 6: 64058.8125\n",
      "Loss after epoch 7: 64755.4375\n",
      "Loss after epoch 8: 62585.5625\n",
      "Loss after epoch 9: 60415.25\n",
      "Loss after epoch 10: 59823.625\n",
      "Loss after epoch 11: 58930.1875\n",
      "Loss after epoch 12: 57726.4375\n",
      "Loss after epoch 13: 56493.125\n",
      "Loss after epoch 14: 55842.5625\n",
      "Loss after epoch 15: 55862.5\n",
      "Loss after epoch 16: 51695.8125\n",
      "Loss after epoch 17: 49815.5\n",
      "Loss after epoch 18: 49568.125\n",
      "Loss after epoch 19: 48959.75\n"
     ]
    },
    {
     "data": {
      "text/plain": [
       "(156986, 287740)"
      ]
     },
     "execution_count": 17,
     "metadata": {},
     "output_type": "execute_result"
    }
   ],
   "source": [
    "# Entrenamos el modelo generador de vectores\n",
    "# Utilizamos nuestro callback\n",
    "w2v_model.train(sentence_tokens,\n",
    "                 total_examples=w2v_model.corpus_count,\n",
    "                 epochs=20,\n",
    "                 compute_loss = True,\n",
    "                 callbacks=[callback()]\n",
    "                 )"
   ]
  },
  {
   "cell_type": "markdown",
   "metadata": {
    "id": "ddT9NVuNlCAe"
   },
   "source": [
    "### 4 - Ensayar"
   ]
  },
  {
   "cell_type": "code",
   "execution_count": 18,
   "metadata": {
    "id": "6cHN9xGLuPEm"
   },
   "outputs": [
    {
     "data": {
      "text/plain": [
       "[('pretty', 0.9087147116661072),\n",
       " ('sleep', 0.8649678230285645),\n",
       " ('help', 0.8594305515289307),\n",
       " ('try', 0.8456019759178162),\n",
       " ('cry', 0.8387227654457092),\n",
       " ('little', 0.8273633718490601),\n",
       " ('not', 0.8181102871894836),\n",
       " ('seems', 0.8175203204154968),\n",
       " ('twist', 0.8154979348182678),\n",
       " ('peace', 0.812263011932373)]"
      ]
     },
     "execution_count": 18,
     "metadata": {},
     "output_type": "execute_result"
    }
   ],
   "source": [
    "# Palabras que MÁS se relacionan con...:\n",
    "w2v_model.wv.most_similar(positive=[\"darling\"], topn=10)"
   ]
  },
  {
   "cell_type": "code",
   "execution_count": 19,
   "metadata": {
    "id": "47HiU5gdkdMq"
   },
   "outputs": [
    {
     "data": {
      "text/plain": [
       "[('shake', -0.21786975860595703),\n",
       " ('our', -0.24495810270309448),\n",
       " ('come', -0.2613270878791809),\n",
       " ('on', -0.26722386479377747),\n",
       " ('bang', -0.27329546213150024),\n",
       " ('five', -0.2741836607456207),\n",
       " ('six', -0.2774038314819336),\n",
       " ('baby', -0.2776353061199188),\n",
       " ('work', -0.2790372967720032),\n",
       " ('four', -0.2792743146419525)]"
      ]
     },
     "execution_count": 19,
     "metadata": {},
     "output_type": "execute_result"
    }
   ],
   "source": [
    "# Palabras que MENOS se relacionan con...:\n",
    "w2v_model.wv.most_similar(negative=[\"love\"], topn=10)"
   ]
  },
  {
   "cell_type": "code",
   "execution_count": 20,
   "metadata": {
    "id": "DT4Rvno2mD65"
   },
   "outputs": [
    {
     "data": {
      "text/plain": [
       "[('five', 0.9786694049835205),\n",
       " ('three', 0.9761051535606384),\n",
       " ('six', 0.966891348361969),\n",
       " ('two', 0.9565720558166504),\n",
       " ('seven', 0.954232931137085),\n",
       " ('sixty', 0.9003373980522156),\n",
       " ('one', 0.816501259803772),\n",
       " ('us', 0.7762899398803711),\n",
       " ('crying', 0.772737979888916),\n",
       " ('strawberry', 0.7672452330589294)]"
      ]
     },
     "execution_count": 20,
     "metadata": {},
     "output_type": "execute_result"
    }
   ],
   "source": [
    "# Palabras que MÁS se relacionan con...:\n",
    "w2v_model.wv.most_similar(positive=[\"four\"], topn=10)"
   ]
  },
  {
   "cell_type": "code",
   "execution_count": 21,
   "metadata": {
    "id": "XPLDPgzBmQXt"
   },
   "outputs": [
    {
     "data": {
      "text/plain": [
       "[(\"can't\", 0.9409592747688293),\n",
       " ('buy', 0.9399508237838745),\n",
       " ('much', 0.8996850848197937),\n",
       " ('hide', 0.8465201258659363),\n",
       " ('just', 0.8415144085884094)]"
      ]
     },
     "execution_count": 21,
     "metadata": {},
     "output_type": "execute_result"
    }
   ],
   "source": [
    "# Palabras que MÁS se relacionan con...:\n",
    "w2v_model.wv.most_similar(positive=[\"money\"], topn=5)"
   ]
  },
  {
   "cell_type": "code",
   "execution_count": 22,
   "metadata": {
    "id": "L_UvHPMMklOr"
   },
   "outputs": [
    {
     "ename": "KeyError",
     "evalue": "\"Key 'diedaa' not present in vocabulary\"",
     "output_type": "error",
     "traceback": [
      "\u001b[0;31m---------------------------------------------------------------------------\u001b[0m",
      "\u001b[0;31mKeyError\u001b[0m                                  Traceback (most recent call last)",
      "Cell \u001b[0;32mIn[22], line 2\u001b[0m\n\u001b[1;32m      1\u001b[0m \u001b[38;5;66;03m# Ensayar con una palabra que no está en el vocabulario:\u001b[39;00m\n\u001b[0;32m----> 2\u001b[0m \u001b[43mw2v_model\u001b[49m\u001b[38;5;241;43m.\u001b[39;49m\u001b[43mwv\u001b[49m\u001b[38;5;241;43m.\u001b[39;49m\u001b[43mmost_similar\u001b[49m\u001b[43m(\u001b[49m\u001b[43mnegative\u001b[49m\u001b[38;5;241;43m=\u001b[39;49m\u001b[43m[\u001b[49m\u001b[38;5;124;43m\"\u001b[39;49m\u001b[38;5;124;43mdiedaa\u001b[39;49m\u001b[38;5;124;43m\"\u001b[39;49m\u001b[43m]\u001b[49m\u001b[43m)\u001b[49m\n",
      "File \u001b[0;32m~/pythonEnvs/.venv/lib/python3.10/site-packages/gensim/models/keyedvectors.py:841\u001b[0m, in \u001b[0;36mKeyedVectors.most_similar\u001b[0;34m(self, positive, negative, topn, clip_start, clip_end, restrict_vocab, indexer)\u001b[0m\n\u001b[1;32m    838\u001b[0m         weight[idx] \u001b[38;5;241m=\u001b[39m item[\u001b[38;5;241m1\u001b[39m]\n\u001b[1;32m    840\u001b[0m \u001b[38;5;66;03m# compute the weighted average of all keys\u001b[39;00m\n\u001b[0;32m--> 841\u001b[0m mean \u001b[38;5;241m=\u001b[39m \u001b[38;5;28;43mself\u001b[39;49m\u001b[38;5;241;43m.\u001b[39;49m\u001b[43mget_mean_vector\u001b[49m\u001b[43m(\u001b[49m\u001b[43mkeys\u001b[49m\u001b[43m,\u001b[49m\u001b[43m \u001b[49m\u001b[43mweight\u001b[49m\u001b[43m,\u001b[49m\u001b[43m \u001b[49m\u001b[43mpre_normalize\u001b[49m\u001b[38;5;241;43m=\u001b[39;49m\u001b[38;5;28;43;01mTrue\u001b[39;49;00m\u001b[43m,\u001b[49m\u001b[43m \u001b[49m\u001b[43mpost_normalize\u001b[49m\u001b[38;5;241;43m=\u001b[39;49m\u001b[38;5;28;43;01mTrue\u001b[39;49;00m\u001b[43m,\u001b[49m\u001b[43m \u001b[49m\u001b[43mignore_missing\u001b[49m\u001b[38;5;241;43m=\u001b[39;49m\u001b[38;5;28;43;01mFalse\u001b[39;49;00m\u001b[43m)\u001b[49m\n\u001b[1;32m    842\u001b[0m all_keys \u001b[38;5;241m=\u001b[39m [\n\u001b[1;32m    843\u001b[0m     \u001b[38;5;28mself\u001b[39m\u001b[38;5;241m.\u001b[39mget_index(key) \u001b[38;5;28;01mfor\u001b[39;00m key \u001b[38;5;129;01min\u001b[39;00m keys \u001b[38;5;28;01mif\u001b[39;00m \u001b[38;5;28misinstance\u001b[39m(key, _KEY_TYPES) \u001b[38;5;129;01mand\u001b[39;00m \u001b[38;5;28mself\u001b[39m\u001b[38;5;241m.\u001b[39mhas_index_for(key)\n\u001b[1;32m    844\u001b[0m ]\n\u001b[1;32m    846\u001b[0m \u001b[38;5;28;01mif\u001b[39;00m indexer \u001b[38;5;129;01mis\u001b[39;00m \u001b[38;5;129;01mnot\u001b[39;00m \u001b[38;5;28;01mNone\u001b[39;00m \u001b[38;5;129;01mand\u001b[39;00m \u001b[38;5;28misinstance\u001b[39m(topn, \u001b[38;5;28mint\u001b[39m):\n",
      "File \u001b[0;32m~/pythonEnvs/.venv/lib/python3.10/site-packages/gensim/models/keyedvectors.py:518\u001b[0m, in \u001b[0;36mKeyedVectors.get_mean_vector\u001b[0;34m(self, keys, weights, pre_normalize, post_normalize, ignore_missing)\u001b[0m\n\u001b[1;32m    516\u001b[0m         total_weight \u001b[38;5;241m+\u001b[39m\u001b[38;5;241m=\u001b[39m \u001b[38;5;28mabs\u001b[39m(weights[idx])\n\u001b[1;32m    517\u001b[0m     \u001b[38;5;28;01melif\u001b[39;00m \u001b[38;5;129;01mnot\u001b[39;00m ignore_missing:\n\u001b[0;32m--> 518\u001b[0m         \u001b[38;5;28;01mraise\u001b[39;00m \u001b[38;5;167;01mKeyError\u001b[39;00m(\u001b[38;5;124mf\u001b[39m\u001b[38;5;124m\"\u001b[39m\u001b[38;5;124mKey \u001b[39m\u001b[38;5;124m'\u001b[39m\u001b[38;5;132;01m{\u001b[39;00mkey\u001b[38;5;132;01m}\u001b[39;00m\u001b[38;5;124m'\u001b[39m\u001b[38;5;124m not present in vocabulary\u001b[39m\u001b[38;5;124m\"\u001b[39m)\n\u001b[1;32m    520\u001b[0m \u001b[38;5;28;01mif\u001b[39;00m total_weight \u001b[38;5;241m>\u001b[39m \u001b[38;5;241m0\u001b[39m:\n\u001b[1;32m    521\u001b[0m     mean \u001b[38;5;241m=\u001b[39m mean \u001b[38;5;241m/\u001b[39m total_weight\n",
      "\u001b[0;31mKeyError\u001b[0m: \"Key 'diedaa' not present in vocabulary\""
     ]
    }
   ],
   "source": [
    "# Ensayar con una palabra que no está en el vocabulario:\n",
    "w2v_model.wv.most_similar(negative=[\"diedaa\"])"
   ]
  },
  {
   "cell_type": "code",
   "execution_count": 23,
   "metadata": {},
   "outputs": [
    {
     "name": "stdout",
     "output_type": "stream",
     "text": [
      "[ 0.17736822  0.21460655 -0.05408018  0.06707036  0.13059464 -0.25713933\n",
      "  0.00711611  0.26743424 -0.03100746  0.259963    0.21179457 -0.08465387\n",
      " -0.26272097  0.308386   -0.07934437 -0.13357355  0.2994755   0.18062147\n",
      " -0.13111673 -0.11857472  0.03468326  0.1125607   0.08478875  0.08090881\n",
      " -0.17622267  0.03122034 -0.08725598  0.23746666 -0.11507358 -0.29119617\n",
      " -0.03650665 -0.3322312   0.23262788  0.10366543 -0.18365337  0.08299578\n",
      "  0.14315338 -0.19761457 -0.00757894  0.1119568  -0.10421463 -0.13083619\n",
      " -0.03264419 -0.04687435  0.11330808  0.10231452 -0.16202034 -0.10347028\n",
      "  0.03659901 -0.08524423 -0.34872082 -0.02154255  0.25938764  0.16540806\n",
      "  0.0310861   0.09505633  0.24452917 -0.09859891  0.18298703  0.0645447\n",
      "  0.016967   -0.3259168  -0.04774074 -0.05418535 -0.04338397 -0.09137302\n",
      "  0.00889874  0.11636022 -0.25662988  0.05426472  0.08915784  0.04541444\n",
      "  0.20835714 -0.19101828  0.32210803  0.19337991  0.09080223 -0.00362429\n",
      " -0.18664253 -0.07053486 -0.1213743  -0.03477469 -0.15798187  0.39070287\n",
      " -0.06144987  0.11083187 -0.16213974 -0.24604863  0.15004653  0.41447446\n",
      " -0.02289782 -0.17896852 -0.07827526 -0.22193784  0.02855509  0.48533952\n",
      "  0.04447097  0.12464199 -0.04169935  0.1982593  -0.15919553 -0.08606501\n",
      "  0.1320642   0.07071835  0.30667147  0.08809892 -0.19750106  0.23502588\n",
      " -0.07388738  0.04295443 -0.24779157 -0.28854167 -0.4401632   0.00458563\n",
      " -0.07824975  0.18824083  0.05077408 -0.05739668  0.15620743 -0.48762608\n",
      "  0.1922928   0.08314091  0.04989756  0.02644576 -0.06825414  0.35304525\n",
      "  0.17191295 -0.16261117 -0.2936474   0.29585826  0.34883434  0.13242614\n",
      "  0.20136862 -0.45008007  0.10677742  0.29548344  0.05580255 -0.10513617\n",
      " -0.18692017 -0.00885901  0.01701376 -0.16563897 -0.11337513  0.06720471\n",
      "  0.15243004 -0.00960089 -0.0473961  -0.08677159 -0.07125839  0.16441917\n",
      "  0.00310922 -0.36776385  0.08532935  0.06346983 -0.02668795  0.22113207\n",
      " -0.2441667   0.02439994 -0.00925008  0.23633759 -0.10890642  0.11366176\n",
      " -0.0994612   0.21860765  0.01365219  0.01017555 -0.1882097   0.25845018\n",
      "  0.30251107  0.03778573  0.206645    0.22037302  0.16829754  0.04512674\n",
      "  0.01971447 -0.36934844  0.0328729  -0.20335236  0.12939689  0.04162559\n",
      "  0.02085797 -0.10500363 -0.17457162 -0.28335714 -0.08274048 -0.04555536\n",
      " -0.11861075 -0.03437103  0.0255297  -0.2554016   0.17146216  0.05093628\n",
      "  0.0917547  -0.06427904 -0.16107002  0.19086204 -0.10930005 -0.18050742\n",
      " -0.06337117  0.01224837 -0.09302392  0.22475737  0.30700293 -0.26619977\n",
      "  0.2305236   0.00149169  0.13293476  0.02429233  0.07883647 -0.09135374\n",
      " -0.17123872 -0.3664065   0.3834617  -0.21642369  0.30520016 -0.05142065\n",
      " -0.36278993 -0.23481902  0.05347933 -0.33067894 -0.01501467  0.07849759\n",
      "  0.01582254 -0.111112    0.25853142 -0.1510902   0.07833586  0.03887907\n",
      "  0.06565052 -0.10252414 -0.02964626 -0.17363134  0.01443172  0.14266178\n",
      " -0.2042187   0.03214323 -0.1629491   0.23105827 -0.08103111 -0.07967328\n",
      "  0.13010906 -0.15625998  0.0689413  -0.03020397 -0.04729844 -0.24360013\n",
      "  0.2185359  -0.0347794   0.05899534  0.17103592  0.02150829  0.2957355\n",
      "  0.11162414 -0.16905093 -0.18563178 -0.19697626  0.3415001   0.18426846\n",
      " -0.20898484 -0.06920402  0.02646237 -0.33699226  0.0361828  -0.02290664\n",
      " -0.04528077 -0.02644458  0.27353263  0.2873995  -0.03061444  0.13751149\n",
      "  0.05503082  0.02680384  0.05629698  0.03125441  0.27008575  0.18144625\n",
      "  0.04076385  0.18558657 -0.10238926 -0.05794458  0.04535891 -0.09978388\n",
      " -0.17145762 -0.15288326  0.09159966  0.05247529  0.00280528  0.00947132\n",
      "  0.23113796  0.0304687   0.11368281  0.35986233  0.15569495 -0.02521801\n",
      "  0.35871565  0.3222857   0.00839845  0.1805266   0.1312731  -0.31311095]\n"
     ]
    }
   ],
   "source": [
    "# el método `get_vector` permite obtener los vectores:\n",
    "vector_love = w2v_model.wv.get_vector(\"love\")\n",
    "print(vector_love)"
   ]
  },
  {
   "cell_type": "code",
   "execution_count": 25,
   "metadata": {},
   "outputs": [
    {
     "data": {
      "text/plain": [
       "[('love', 1.0),\n",
       " ('babe', 0.9132986068725586),\n",
       " ('someone', 0.8914992809295654),\n",
       " ('nothing', 0.8811879754066467),\n",
       " ('need', 0.8758756518363953),\n",
       " (\"didn't\", 0.8689683079719543),\n",
       " (\"there's\", 0.8557919859886169),\n",
       " ('you', 0.8447725772857666),\n",
       " ('feed', 0.8422104716300964),\n",
       " ('somebody', 0.8385539054870605)]"
      ]
     },
     "execution_count": 25,
     "metadata": {},
     "output_type": "execute_result"
    }
   ],
   "source": [
    "# el método `most_similar` también permite comparar a partir de vectores\n",
    "w2v_model.wv.most_similar(vector_love)"
   ]
  },
  {
   "cell_type": "code",
   "execution_count": 26,
   "metadata": {},
   "outputs": [
    {
     "data": {
      "text/plain": [
       "[('babe', 0.9132986068725586),\n",
       " ('someone', 0.8914992809295654),\n",
       " ('nothing', 0.8811879754066467),\n",
       " ('need', 0.8758756518363953),\n",
       " (\"didn't\", 0.8689682483673096),\n",
       " (\"there's\", 0.8557919859886169),\n",
       " ('you', 0.8447725772857666),\n",
       " ('feed', 0.8422104716300964),\n",
       " ('somebody', 0.8385538458824158),\n",
       " ('hope', 0.8361446261405945)]"
      ]
     },
     "execution_count": 26,
     "metadata": {},
     "output_type": "execute_result"
    }
   ],
   "source": [
    "# Palabras que MÁS se relacionan con...:\n",
    "w2v_model.wv.most_similar(positive=[\"love\"], topn=10)"
   ]
  },
  {
   "cell_type": "markdown",
   "metadata": {
    "id": "_g8UVWe6lFmh"
   },
   "source": [
    "### 5 - Visualizar agrupación de vectores"
   ]
  },
  {
   "cell_type": "code",
   "execution_count": 68,
   "metadata": {
    "id": "pDxEVXAivjr9"
   },
   "outputs": [],
   "source": [
    "from sklearn.decomposition import IncrementalPCA    \n",
    "from sklearn.manifold import TSNE                   \n",
    "import numpy as np                                  \n",
    "\n",
    "def reduce_dimensions(model, num_dimensions = 2 ):\n",
    "     \n",
    "    vectors = np.asarray(model.wv.vectors)\n",
    "    labels = np.asarray(model.wv.index_to_key)  \n",
    "\n",
    "    tsne = TSNE(n_components=num_dimensions, random_state=0)\n",
    "    vectors = tsne.fit_transform(vectors)\n",
    "\n",
    "    return vectors, labels"
   ]
  },
  {
   "cell_type": "code",
   "execution_count": 29,
   "metadata": {
    "id": "NCCXtDpcugmd"
   },
   "outputs": [
    {
     "data": {
      "application/vnd.plotly.v1+json": {
       "config": {
        "plotlyServerURL": "https://plot.ly"
       },
       "data": [
        {
         "hovertemplate": "x=%{x}<br>y=%{y}<br>text=%{text}<extra></extra>",
         "legendgroup": "",
         "marker": {
          "color": "#636efa",
          "symbol": "circle"
         },
         "mode": "markers+text",
         "name": "",
         "orientation": "v",
         "showlegend": false,
         "text": [
          "you",
          "i",
          "the",
          "to",
          "and",
          "love",
          "a",
          "me",
          "in",
          "all",
          "nah",
          "my",
          "it",
          "know",
          "that",
          "be",
          "on",
          "of",
          "she",
          "is",
          "say",
          "now",
          "oh",
          "your",
          "yeah",
          "get",
          "don't",
          "back",
          "with",
          "let",
          "her",
          "can",
          "it's",
          "do",
          "when",
          "come",
          "i'm",
          "will",
          "he",
          "but",
          "for",
          "so",
          "there",
          "need",
          "like",
          "together",
          "no",
          "i'll",
          "see",
          "we",
          "was",
          "never",
          "down",
          "if",
          "way",
          "want",
          "hey",
          "out",
          "one",
          "got",
          "can't",
          "girl",
          "well",
          "good",
          "go",
          "sun",
          "his",
          "hello",
          "home",
          "they",
          "day",
          "are",
          "ah",
          "right",
          "from",
          "little",
          "at",
          "man",
          "help",
          "here",
          "have",
          "gonna",
          "not",
          "world",
          "what",
          "going",
          "how",
          "please",
          "still",
          "too",
          "just",
          "you're",
          "time",
          "as",
          "make",
          "long",
          "yes",
          "yellow",
          "life",
          "once",
          "sky",
          "been",
          "think",
          "tell",
          "why",
          "only",
          "where",
          "people",
          "she's",
          "eyes",
          "jude",
          "take",
          "submarine",
          "up",
          "hold",
          "goodbye",
          "give",
          "nowhere",
          "sing",
          "look",
          "friends",
          "always",
          "hand",
          "boy",
          "we're",
          "am",
          "away",
          "darling",
          "goo",
          "nothing",
          "should",
          "lonely",
          "could",
          "feel",
          "some",
          "night",
          "comes",
          "had",
          "would",
          "better",
          "head",
          "them",
          "four",
          "buy",
          "more",
          "i've",
          "la",
          "mind",
          "two",
          "this",
          "everything",
          "carry",
          "by",
          "our",
          "sunshine",
          "weight",
          "change",
          "us",
          "lucy",
          "birthday",
          "an",
          "true",
          "you'll",
          "every",
          "pretty",
          "three",
          "diamonds",
          "before",
          "believe",
          "these",
          "i'd",
          "words",
          "mm",
          "work",
          "dear",
          "leave",
          "were",
          "mine",
          "there's",
          "nobody",
          "told",
          "money",
          "bom",
          "said",
          "forever",
          "round",
          "children",
          "'cause",
          "something",
          "about",
          "waiting",
          "standing",
          "who",
          "didn't",
          "try",
          "loves",
          "then",
          "hide",
          "saw",
          "prudence"
         ],
         "type": "scatter",
         "x": [
          -16.003633499145508,
          -19.524415969848633,
          5.864439964294434,
          1.8177077770233154,
          -0.6221182346343994,
          -15.548293113708496,
          -0.8941259980201721,
          -10.855362892150879,
          5.945487976074219,
          18.658615112304688,
          23.485715866088867,
          -3.4964046478271484,
          13.77226448059082,
          -18.19273567199707,
          -12.678847312927246,
          9.123003005981445,
          14.963117599487305,
          1.96433424949646,
          -1.981703281402588,
          8.836173057556152,
          -20.489391326904297,
          18.497100830078125,
          -19.119369506835938,
          -9.640634536743164,
          -1.815740704536438,
          7.734333515167236,
          -18.09650421142578,
          8.174905776977539,
          6.349374771118164,
          8.552652359008789,
          7.867523193359375,
          -10.69455337524414,
          -12.304449081420898,
          -17.895280838012695,
          -17.281692504882812,
          15.294160842895508,
          -13.09348201751709,
          -12.848533630371094,
          -7.432022571563721,
          -8.624186515808105,
          -11.1104154586792,
          -15.706562995910645,
          12.14437198638916,
          -14.423151969909668,
          -8.808199882507324,
          18.580249786376953,
          -18.590105056762695,
          -13.6538724899292,
          -10.549888610839844,
          5.067627429962158,
          11.691859245300293,
          -17.293394088745117,
          7.770431995391846,
          -13.539785385131836,
          10.1135892868042,
          -10.506224632263184,
          22.559627532958984,
          14.447545051574707,
          -6.84888219833374,
          -6.688454627990723,
          -18.835803985595703,
          -3.931879758834839,
          3.479719877243042,
          17.316448211669922,
          14.494946479797363,
          15.623457908630371,
          3.498920440673828,
          -21.733360290527344,
          8.071822166442871,
          6.696608066558838,
          17.84798240661621,
          -5.350931167602539,
          19.41254425048828,
          19.37376594543457,
          -4.881960391998291,
          -4.657004356384277,
          18.224512100219727,
          7.029882431030273,
          -5.7148118019104,
          15.642918586730957,
          -5.568831443786621,
          -13.244131088256836,
          -15.047819137573242,
          -13.521134376525879,
          -17.855648040771484,
          -11.840386390686035,
          -13.169553756713867,
          -8.501604080200195,
          -13.45211410522461,
          -14.011038780212402,
          -8.227398872375488,
          -14.75694465637207,
          -12.882416725158691,
          -3.53515887260437,
          4.695577621459961,
          -12.768022537231445,
          -20.97531509399414,
          3.30768084526062,
          10.899928092956543,
          10.41259765625,
          7.4512176513671875,
          0.3844054341316223,
          -16.473194122314453,
          -13.939263343811035,
          -19.975013732910156,
          -9.407283782958984,
          9.591912269592285,
          13.460962295532227,
          -7.76778507232666,
          5.1587114334106445,
          22.507509231567383,
          6.4032111167907715,
          3.3059029579162598,
          12.100802421569824,
          -10.838568687438965,
          -21.510034561157227,
          -6.4990315437316895,
          7.026796340942383,
          -17.039487838745117,
          18.388507843017578,
          -5.111619472503662,
          10.014359474182129,
          -9.86416244506836,
          -15.01232624053955,
          12.7343111038208,
          -20.995546340942383,
          -7.558236598968506,
          -18.544198989868164,
          24.236873626708984,
          -14.975422859191895,
          -15.792896270751953,
          13.305875778198242,
          -16.318294525146484,
          -12.880078315734863,
          -5.110909461975098,
          -0.2630714476108551,
          15.61946964263916,
          0.2798193097114563,
          -11.510040283203125,
          4.497851848602295,
          4.420448303222656,
          1.7331196069717407,
          18.275957107543945,
          -18.780624389648438,
          -4.705243110656738,
          -5.7374186515808105,
          1.0168997049331665,
          10.157527923583984,
          17.36155128479004,
          -8.925857543945312,
          -7.268283367156982,
          -13.691248893737793,
          -2.0225989818573,
          10.602540016174316,
          17.64771842956543,
          -13.453519821166992,
          -13.714377403259277,
          -1.9715077877044678,
          6.929460048675537,
          -11.679854393005371,
          8.325242042541504,
          9.526939392089844,
          -14.592754364013672,
          -2.9384267330169678,
          -17.94799041748047,
          17.715755462646484,
          6.773982048034668,
          -11.880329132080078,
          -15.916105270385742,
          1.217374324798584,
          -4.540735244750977,
          7.223949909210205,
          0.26146137714385986,
          14.449055671691895,
          11.660557746887207,
          -4.191720485687256,
          -1.9460065364837646,
          -2.624866247177124,
          -13.89383316040039,
          -2.9652578830718994,
          -16.010957717895508,
          -19.086814880371094,
          21.49388313293457,
          -5.133544921875,
          -9.60629653930664,
          9.349811553955078,
          15.246789932250977,
          -12.264029502868652,
          -2.4896252155303955,
          -5.7939229011535645,
          -8.626466751098633,
          8.259251594543457,
          6.335254669189453,
          -13.334409713745117,
          -2.6200575828552246,
          -1.8833190202713013,
          10.374066352844238,
          -7.709332466125488,
          -7.149684429168701,
          11.870262145996094
         ],
         "xaxis": "x",
         "y": [
          -15.99150276184082,
          -8.868911743164062,
          14.481197357177734,
          -11.702960968017578,
          2.139791488647461,
          -17.804244995117188,
          16.169384002685547,
          -17.000690460205078,
          17.340377807617188,
          -0.426520973443985,
          -6.368849277496338,
          20.591106414794922,
          -6.228047847747803,
          -6.605199813842773,
          8.572097778320312,
          -11.118027687072754,
          -0.9830970168113708,
          16.163196563720703,
          -11.628684043884277,
          14.817676544189453,
          -7.0066423416137695,
          -0.6211149096488953,
          -12.241193771362305,
          -21.924694061279297,
          -13.04269027709961,
          -20.768722534179688,
          -5.82476806640625,
          -20.683197021484375,
          19.54985237121582,
          -12.444633483886719,
          -3.6265668869018555,
          -11.161478996276855,
          -2.787702798843384,
          -13.11701774597168,
          -14.789700508117676,
          -1.13472580909729,
          1.253141164779663,
          -18.539140701293945,
          -5.716879367828369,
          -9.25493335723877,
          10.41838550567627,
          -12.52836799621582,
          -20.653005599975586,
          -18.52741050720215,
          -16.45207977294922,
          -1.414230227470398,
          -10.747220993041992,
          -10.332663536071777,
          -13.962886810302734,
          23.372949600219727,
          -20.589597702026367,
          -10.524153709411621,
          -12.280501365661621,
          -12.108439445495605,
          -18.461467742919922,
          -21.10585594177246,
          -6.508477210998535,
          -3.2917566299438477,
          13.379535675048828,
          -13.48620891571045,
          -19.8958683013916,
          12.156745910644531,
          -8.3817720413208,
          -12.180834770202637,
          -12.699085235595703,
          11.866455078125,
          15.447935104370117,
          -6.53975248336792,
          -19.85919761657715,
          -0.3159315884113312,
          -12.096790313720703,
          3.9245362281799316,
          14.912745475769043,
          -1.1914807558059692,
          18.238269805908203,
          17.717754364013672,
          15.311888694763184,
          7.310695648193359,
          18.536422729492188,
          11.839111328125,
          5.310277462005615,
          14.034708976745605,
          -1.9228495359420776,
          15.856592178344727,
          -9.51339340209961,
          3.0010178089141846,
          -6.06936502456665,
          -17.694242477416992,
          -18.609573364257812,
          7.964963436126709,
          -13.18014144897461,
          13.73495101928711,
          9.379901885986328,
          4.4847259521484375,
          -12.974544525146484,
          10.885099411010742,
          -2.386671304702759,
          23.194175720214844,
          12.333510398864746,
          -20.88266944885254,
          19.444631576538086,
          8.115530967712402,
          -9.494760513305664,
          -16.467586517333984,
          -6.436424255371094,
          9.607260704040527,
          -20.557025909423828,
          17.83681869506836,
          5.549059867858887,
          16.42279624938965,
          -6.4826483726501465,
          -11.435257911682129,
          23.197397232055664,
          4.027017116546631,
          -22.071447372436523,
          -6.581085681915283,
          -12.113560676574707,
          8.651629447937012,
          0.8378492593765259,
          15.257162094116211,
          18.528854370117188,
          -9.283345222473145,
          -21.841039657592773,
          13.640151023864746,
          1.5474191904067993,
          -1.8515328168869019,
          -7.447658061981201,
          7.025175094604492,
          4.4379072189331055,
          -15.580740928649902,
          -6.168448448181152,
          18.376108169555664,
          -7.889667510986328,
          -8.627552032470703,
          7.131614685058594,
          9.42090129852295,
          11.86330795288086,
          -6.224125385284424,
          -10.86110782623291,
          -13.339947700500488,
          15.443103790283203,
          -1.9182424545288086,
          22.88736915588379,
          -19.86860466003418,
          -12.970922470092773,
          -10.454150199890137,
          -16.551319122314453,
          13.066092491149902,
          22.681827545166016,
          10.308733940124512,
          -11.072565078735352,
          12.97404670715332,
          15.257377624511719,
          -17.728832244873047,
          -12.12661075592041,
          12.347406387329102,
          15.247740745544434,
          9.951314926147461,
          19.21249008178711,
          -4.501128196716309,
          -7.4560651779174805,
          -9.49692440032959,
          -8.035614013671875,
          8.60476016998291,
          6.539489269256592,
          22.754108428955078,
          19.438034057617188,
          8.038290977478027,
          -13.146954536437988,
          10.886799812316895,
          -5.261021614074707,
          -8.629488945007324,
          -18.32750701904297,
          -3.415494441986084,
          -1.356189250946045,
          -16.682384490966797,
          4.489677429199219,
          -4.488346576690674,
          -13.50408935546875,
          -2.0965466499328613,
          -14.02744197845459,
          -20.03367042541504,
          9.039278030395508,
          3.07037353515625,
          0.16098253428936005,
          10.269577026367188,
          -12.476272583007812,
          0.7241103053092957,
          1.9861443042755127,
          -8.212423324584961,
          11.094010353088379,
          -1.9436596632003784,
          8.095954895019531,
          -15.924071311950684,
          15.261075973510742,
          -12.454801559448242,
          -5.498524188995361,
          -12.907437324523926,
          -1.1972709894180298,
          -1.5617272853851318
         ],
         "yaxis": "y"
        }
       ],
       "layout": {
        "legend": {
         "tracegroupgap": 0
        },
        "margin": {
         "t": 60
        },
        "template": {
         "data": {
          "bar": [
           {
            "error_x": {
             "color": "#2a3f5f"
            },
            "error_y": {
             "color": "#2a3f5f"
            },
            "marker": {
             "line": {
              "color": "#E5ECF6",
              "width": 0.5
             },
             "pattern": {
              "fillmode": "overlay",
              "size": 10,
              "solidity": 0.2
             }
            },
            "type": "bar"
           }
          ],
          "barpolar": [
           {
            "marker": {
             "line": {
              "color": "#E5ECF6",
              "width": 0.5
             },
             "pattern": {
              "fillmode": "overlay",
              "size": 10,
              "solidity": 0.2
             }
            },
            "type": "barpolar"
           }
          ],
          "carpet": [
           {
            "aaxis": {
             "endlinecolor": "#2a3f5f",
             "gridcolor": "white",
             "linecolor": "white",
             "minorgridcolor": "white",
             "startlinecolor": "#2a3f5f"
            },
            "baxis": {
             "endlinecolor": "#2a3f5f",
             "gridcolor": "white",
             "linecolor": "white",
             "minorgridcolor": "white",
             "startlinecolor": "#2a3f5f"
            },
            "type": "carpet"
           }
          ],
          "choropleth": [
           {
            "colorbar": {
             "outlinewidth": 0,
             "ticks": ""
            },
            "type": "choropleth"
           }
          ],
          "contour": [
           {
            "colorbar": {
             "outlinewidth": 0,
             "ticks": ""
            },
            "colorscale": [
             [
              0,
              "#0d0887"
             ],
             [
              0.1111111111111111,
              "#46039f"
             ],
             [
              0.2222222222222222,
              "#7201a8"
             ],
             [
              0.3333333333333333,
              "#9c179e"
             ],
             [
              0.4444444444444444,
              "#bd3786"
             ],
             [
              0.5555555555555556,
              "#d8576b"
             ],
             [
              0.6666666666666666,
              "#ed7953"
             ],
             [
              0.7777777777777778,
              "#fb9f3a"
             ],
             [
              0.8888888888888888,
              "#fdca26"
             ],
             [
              1,
              "#f0f921"
             ]
            ],
            "type": "contour"
           }
          ],
          "contourcarpet": [
           {
            "colorbar": {
             "outlinewidth": 0,
             "ticks": ""
            },
            "type": "contourcarpet"
           }
          ],
          "heatmap": [
           {
            "colorbar": {
             "outlinewidth": 0,
             "ticks": ""
            },
            "colorscale": [
             [
              0,
              "#0d0887"
             ],
             [
              0.1111111111111111,
              "#46039f"
             ],
             [
              0.2222222222222222,
              "#7201a8"
             ],
             [
              0.3333333333333333,
              "#9c179e"
             ],
             [
              0.4444444444444444,
              "#bd3786"
             ],
             [
              0.5555555555555556,
              "#d8576b"
             ],
             [
              0.6666666666666666,
              "#ed7953"
             ],
             [
              0.7777777777777778,
              "#fb9f3a"
             ],
             [
              0.8888888888888888,
              "#fdca26"
             ],
             [
              1,
              "#f0f921"
             ]
            ],
            "type": "heatmap"
           }
          ],
          "heatmapgl": [
           {
            "colorbar": {
             "outlinewidth": 0,
             "ticks": ""
            },
            "colorscale": [
             [
              0,
              "#0d0887"
             ],
             [
              0.1111111111111111,
              "#46039f"
             ],
             [
              0.2222222222222222,
              "#7201a8"
             ],
             [
              0.3333333333333333,
              "#9c179e"
             ],
             [
              0.4444444444444444,
              "#bd3786"
             ],
             [
              0.5555555555555556,
              "#d8576b"
             ],
             [
              0.6666666666666666,
              "#ed7953"
             ],
             [
              0.7777777777777778,
              "#fb9f3a"
             ],
             [
              0.8888888888888888,
              "#fdca26"
             ],
             [
              1,
              "#f0f921"
             ]
            ],
            "type": "heatmapgl"
           }
          ],
          "histogram": [
           {
            "marker": {
             "pattern": {
              "fillmode": "overlay",
              "size": 10,
              "solidity": 0.2
             }
            },
            "type": "histogram"
           }
          ],
          "histogram2d": [
           {
            "colorbar": {
             "outlinewidth": 0,
             "ticks": ""
            },
            "colorscale": [
             [
              0,
              "#0d0887"
             ],
             [
              0.1111111111111111,
              "#46039f"
             ],
             [
              0.2222222222222222,
              "#7201a8"
             ],
             [
              0.3333333333333333,
              "#9c179e"
             ],
             [
              0.4444444444444444,
              "#bd3786"
             ],
             [
              0.5555555555555556,
              "#d8576b"
             ],
             [
              0.6666666666666666,
              "#ed7953"
             ],
             [
              0.7777777777777778,
              "#fb9f3a"
             ],
             [
              0.8888888888888888,
              "#fdca26"
             ],
             [
              1,
              "#f0f921"
             ]
            ],
            "type": "histogram2d"
           }
          ],
          "histogram2dcontour": [
           {
            "colorbar": {
             "outlinewidth": 0,
             "ticks": ""
            },
            "colorscale": [
             [
              0,
              "#0d0887"
             ],
             [
              0.1111111111111111,
              "#46039f"
             ],
             [
              0.2222222222222222,
              "#7201a8"
             ],
             [
              0.3333333333333333,
              "#9c179e"
             ],
             [
              0.4444444444444444,
              "#bd3786"
             ],
             [
              0.5555555555555556,
              "#d8576b"
             ],
             [
              0.6666666666666666,
              "#ed7953"
             ],
             [
              0.7777777777777778,
              "#fb9f3a"
             ],
             [
              0.8888888888888888,
              "#fdca26"
             ],
             [
              1,
              "#f0f921"
             ]
            ],
            "type": "histogram2dcontour"
           }
          ],
          "mesh3d": [
           {
            "colorbar": {
             "outlinewidth": 0,
             "ticks": ""
            },
            "type": "mesh3d"
           }
          ],
          "parcoords": [
           {
            "line": {
             "colorbar": {
              "outlinewidth": 0,
              "ticks": ""
             }
            },
            "type": "parcoords"
           }
          ],
          "pie": [
           {
            "automargin": true,
            "type": "pie"
           }
          ],
          "scatter": [
           {
            "fillpattern": {
             "fillmode": "overlay",
             "size": 10,
             "solidity": 0.2
            },
            "type": "scatter"
           }
          ],
          "scatter3d": [
           {
            "line": {
             "colorbar": {
              "outlinewidth": 0,
              "ticks": ""
             }
            },
            "marker": {
             "colorbar": {
              "outlinewidth": 0,
              "ticks": ""
             }
            },
            "type": "scatter3d"
           }
          ],
          "scattercarpet": [
           {
            "marker": {
             "colorbar": {
              "outlinewidth": 0,
              "ticks": ""
             }
            },
            "type": "scattercarpet"
           }
          ],
          "scattergeo": [
           {
            "marker": {
             "colorbar": {
              "outlinewidth": 0,
              "ticks": ""
             }
            },
            "type": "scattergeo"
           }
          ],
          "scattergl": [
           {
            "marker": {
             "colorbar": {
              "outlinewidth": 0,
              "ticks": ""
             }
            },
            "type": "scattergl"
           }
          ],
          "scattermapbox": [
           {
            "marker": {
             "colorbar": {
              "outlinewidth": 0,
              "ticks": ""
             }
            },
            "type": "scattermapbox"
           }
          ],
          "scatterpolar": [
           {
            "marker": {
             "colorbar": {
              "outlinewidth": 0,
              "ticks": ""
             }
            },
            "type": "scatterpolar"
           }
          ],
          "scatterpolargl": [
           {
            "marker": {
             "colorbar": {
              "outlinewidth": 0,
              "ticks": ""
             }
            },
            "type": "scatterpolargl"
           }
          ],
          "scatterternary": [
           {
            "marker": {
             "colorbar": {
              "outlinewidth": 0,
              "ticks": ""
             }
            },
            "type": "scatterternary"
           }
          ],
          "surface": [
           {
            "colorbar": {
             "outlinewidth": 0,
             "ticks": ""
            },
            "colorscale": [
             [
              0,
              "#0d0887"
             ],
             [
              0.1111111111111111,
              "#46039f"
             ],
             [
              0.2222222222222222,
              "#7201a8"
             ],
             [
              0.3333333333333333,
              "#9c179e"
             ],
             [
              0.4444444444444444,
              "#bd3786"
             ],
             [
              0.5555555555555556,
              "#d8576b"
             ],
             [
              0.6666666666666666,
              "#ed7953"
             ],
             [
              0.7777777777777778,
              "#fb9f3a"
             ],
             [
              0.8888888888888888,
              "#fdca26"
             ],
             [
              1,
              "#f0f921"
             ]
            ],
            "type": "surface"
           }
          ],
          "table": [
           {
            "cells": {
             "fill": {
              "color": "#EBF0F8"
             },
             "line": {
              "color": "white"
             }
            },
            "header": {
             "fill": {
              "color": "#C8D4E3"
             },
             "line": {
              "color": "white"
             }
            },
            "type": "table"
           }
          ]
         },
         "layout": {
          "annotationdefaults": {
           "arrowcolor": "#2a3f5f",
           "arrowhead": 0,
           "arrowwidth": 1
          },
          "autotypenumbers": "strict",
          "coloraxis": {
           "colorbar": {
            "outlinewidth": 0,
            "ticks": ""
           }
          },
          "colorscale": {
           "diverging": [
            [
             0,
             "#8e0152"
            ],
            [
             0.1,
             "#c51b7d"
            ],
            [
             0.2,
             "#de77ae"
            ],
            [
             0.3,
             "#f1b6da"
            ],
            [
             0.4,
             "#fde0ef"
            ],
            [
             0.5,
             "#f7f7f7"
            ],
            [
             0.6,
             "#e6f5d0"
            ],
            [
             0.7,
             "#b8e186"
            ],
            [
             0.8,
             "#7fbc41"
            ],
            [
             0.9,
             "#4d9221"
            ],
            [
             1,
             "#276419"
            ]
           ],
           "sequential": [
            [
             0,
             "#0d0887"
            ],
            [
             0.1111111111111111,
             "#46039f"
            ],
            [
             0.2222222222222222,
             "#7201a8"
            ],
            [
             0.3333333333333333,
             "#9c179e"
            ],
            [
             0.4444444444444444,
             "#bd3786"
            ],
            [
             0.5555555555555556,
             "#d8576b"
            ],
            [
             0.6666666666666666,
             "#ed7953"
            ],
            [
             0.7777777777777778,
             "#fb9f3a"
            ],
            [
             0.8888888888888888,
             "#fdca26"
            ],
            [
             1,
             "#f0f921"
            ]
           ],
           "sequentialminus": [
            [
             0,
             "#0d0887"
            ],
            [
             0.1111111111111111,
             "#46039f"
            ],
            [
             0.2222222222222222,
             "#7201a8"
            ],
            [
             0.3333333333333333,
             "#9c179e"
            ],
            [
             0.4444444444444444,
             "#bd3786"
            ],
            [
             0.5555555555555556,
             "#d8576b"
            ],
            [
             0.6666666666666666,
             "#ed7953"
            ],
            [
             0.7777777777777778,
             "#fb9f3a"
            ],
            [
             0.8888888888888888,
             "#fdca26"
            ],
            [
             1,
             "#f0f921"
            ]
           ]
          },
          "colorway": [
           "#636efa",
           "#EF553B",
           "#00cc96",
           "#ab63fa",
           "#FFA15A",
           "#19d3f3",
           "#FF6692",
           "#B6E880",
           "#FF97FF",
           "#FECB52"
          ],
          "font": {
           "color": "#2a3f5f"
          },
          "geo": {
           "bgcolor": "white",
           "lakecolor": "white",
           "landcolor": "#E5ECF6",
           "showlakes": true,
           "showland": true,
           "subunitcolor": "white"
          },
          "hoverlabel": {
           "align": "left"
          },
          "hovermode": "closest",
          "mapbox": {
           "style": "light"
          },
          "paper_bgcolor": "white",
          "plot_bgcolor": "#E5ECF6",
          "polar": {
           "angularaxis": {
            "gridcolor": "white",
            "linecolor": "white",
            "ticks": ""
           },
           "bgcolor": "#E5ECF6",
           "radialaxis": {
            "gridcolor": "white",
            "linecolor": "white",
            "ticks": ""
           }
          },
          "scene": {
           "xaxis": {
            "backgroundcolor": "#E5ECF6",
            "gridcolor": "white",
            "gridwidth": 2,
            "linecolor": "white",
            "showbackground": true,
            "ticks": "",
            "zerolinecolor": "white"
           },
           "yaxis": {
            "backgroundcolor": "#E5ECF6",
            "gridcolor": "white",
            "gridwidth": 2,
            "linecolor": "white",
            "showbackground": true,
            "ticks": "",
            "zerolinecolor": "white"
           },
           "zaxis": {
            "backgroundcolor": "#E5ECF6",
            "gridcolor": "white",
            "gridwidth": 2,
            "linecolor": "white",
            "showbackground": true,
            "ticks": "",
            "zerolinecolor": "white"
           }
          },
          "shapedefaults": {
           "line": {
            "color": "#2a3f5f"
           }
          },
          "ternary": {
           "aaxis": {
            "gridcolor": "white",
            "linecolor": "white",
            "ticks": ""
           },
           "baxis": {
            "gridcolor": "white",
            "linecolor": "white",
            "ticks": ""
           },
           "bgcolor": "#E5ECF6",
           "caxis": {
            "gridcolor": "white",
            "linecolor": "white",
            "ticks": ""
           }
          },
          "title": {
           "x": 0.05
          },
          "xaxis": {
           "automargin": true,
           "gridcolor": "white",
           "linecolor": "white",
           "ticks": "",
           "title": {
            "standoff": 15
           },
           "zerolinecolor": "white",
           "zerolinewidth": 2
          },
          "yaxis": {
           "automargin": true,
           "gridcolor": "white",
           "linecolor": "white",
           "ticks": "",
           "title": {
            "standoff": 15
           },
           "zerolinecolor": "white",
           "zerolinewidth": 2
          }
         }
        },
        "xaxis": {
         "anchor": "y",
         "domain": [
          0,
          1
         ],
         "title": {
          "text": "x"
         }
        },
        "yaxis": {
         "anchor": "x",
         "domain": [
          0,
          1
         ],
         "title": {
          "text": "y"
         }
        }
       }
      }
     },
     "metadata": {},
     "output_type": "display_data"
    }
   ],
   "source": [
    "# Graficar los embedddings en 2D\n",
    "import plotly.graph_objects as go\n",
    "import plotly.express as px\n",
    "\n",
    "vecs, labels = reduce_dimensions(w2v_model)\n",
    "\n",
    "MAX_WORDS=200\n",
    "fig = px.scatter(x=vecs[:MAX_WORDS,0], y=vecs[:MAX_WORDS,1], text=labels[:MAX_WORDS])\n",
    "#fig.show(renderer=\"colab\") # esto para plotly en colab\n",
    "fig.show()"
   ]
  },
  {
   "cell_type": "code",
   "execution_count": 30,
   "metadata": {},
   "outputs": [
    {
     "data": {
      "application/vnd.plotly.v1+json": {
       "config": {
        "plotlyServerURL": "https://plot.ly"
       },
       "data": [
        {
         "hovertemplate": "x=%{x}<br>y=%{y}<br>z=%{z}<br>text=%{text}<extra></extra>",
         "legendgroup": "",
         "marker": {
          "color": "#636efa",
          "size": 2,
          "symbol": "circle"
         },
         "mode": "markers+text",
         "name": "",
         "scene": "scene",
         "showlegend": false,
         "text": [
          "you",
          "i",
          "the",
          "to",
          "and",
          "love",
          "a",
          "me",
          "in",
          "all",
          "nah",
          "my",
          "it",
          "know",
          "that",
          "be",
          "on",
          "of",
          "she",
          "is",
          "say",
          "now",
          "oh",
          "your",
          "yeah",
          "get",
          "don't",
          "back",
          "with",
          "let",
          "her",
          "can",
          "it's",
          "do",
          "when",
          "come",
          "i'm",
          "will",
          "he",
          "but",
          "for",
          "so",
          "there",
          "need",
          "like",
          "together",
          "no",
          "i'll",
          "see",
          "we",
          "was",
          "never",
          "down",
          "if",
          "way",
          "want",
          "hey",
          "out",
          "one",
          "got",
          "can't",
          "girl",
          "well",
          "good",
          "go",
          "sun",
          "his",
          "hello",
          "home",
          "they",
          "day",
          "are",
          "ah",
          "right",
          "from",
          "little",
          "at",
          "man",
          "help",
          "here",
          "have",
          "gonna",
          "not",
          "world",
          "what",
          "going",
          "how",
          "please",
          "still",
          "too",
          "just",
          "you're",
          "time",
          "as",
          "make",
          "long",
          "yes",
          "yellow",
          "life",
          "once",
          "sky",
          "been",
          "think",
          "tell",
          "why",
          "only",
          "where",
          "people",
          "she's",
          "eyes",
          "jude",
          "take",
          "submarine",
          "up",
          "hold",
          "goodbye",
          "give",
          "nowhere",
          "sing",
          "look",
          "friends",
          "always",
          "hand",
          "boy",
          "we're",
          "am",
          "away",
          "darling",
          "goo",
          "nothing",
          "should",
          "lonely",
          "could",
          "feel",
          "some",
          "night",
          "comes",
          "had",
          "would",
          "better",
          "head",
          "them",
          "four",
          "buy",
          "more",
          "i've",
          "la",
          "mind",
          "two",
          "this",
          "everything",
          "carry",
          "by",
          "our",
          "sunshine",
          "weight",
          "change",
          "us",
          "lucy",
          "birthday",
          "an",
          "true",
          "you'll",
          "every",
          "pretty",
          "three",
          "diamonds",
          "before",
          "believe",
          "these",
          "i'd",
          "words",
          "mm",
          "work",
          "dear",
          "leave",
          "were",
          "mine",
          "there's",
          "nobody",
          "told",
          "money",
          "bom",
          "said",
          "forever",
          "round",
          "children",
          "'cause",
          "something",
          "about",
          "waiting",
          "standing",
          "who",
          "didn't",
          "try",
          "loves",
          "then",
          "hide",
          "saw",
          "prudence"
         ],
         "type": "scatter3d",
         "x": [
          29.820167541503906,
          44.99995803833008,
          -27.733613967895508,
          9.397903442382812,
          -8.033215522766113,
          29.964370727539062,
          -32.44221878051758,
          46.31704330444336,
          -18.616134643554688,
          0.37116000056266785,
          20.016721725463867,
          -7.884671211242676,
          28.893367767333984,
          49.384281158447266,
          24.242389678955078,
          33.97442626953125,
          -13.074176788330078,
          -18.827028274536133,
          4.48199987411499,
          -1.426214575767517,
          49.61334991455078,
          -2.4924778938293457,
          51.154972076416016,
          29.634897232055664,
          8.736185073852539,
          2.208815336227417,
          52.920555114746094,
          -2.6787242889404297,
          -19.98335838317871,
          39.48671340942383,
          15.252164840698242,
          29.648338317871094,
          14.85529899597168,
          52.14323806762695,
          33.999427795410156,
          -12.065324783325195,
          -3.4638566970825195,
          43.88042449951172,
          16.399370193481445,
          21.122953414916992,
          14.469376564025879,
          40.48988342285156,
          -19.549060821533203,
          36.66603088378906,
          44.022491455078125,
          -0.7951766848564148,
          47.65330123901367,
          33.8245849609375,
          23.043664932250977,
          -2.6415152549743652,
          -14.233366012573242,
          51.31208419799805,
          37.82401657104492,
          35.785484313964844,
          -11.609649658203125,
          37.875186920166016,
          24.837474822998047,
          -3.1683831214904785,
          -11.7407865524292,
          33.67937088012695,
          31.662256240844727,
          -22.31354522705078,
          18.453998565673828,
          -0.8602203130722046,
          12.339716911315918,
          -8.339812278747559,
          -29.842885971069336,
          43.397281646728516,
          -3.922797203063965,
          -1.6967047452926636,
          -4.095444202423096,
          -11.198625564575195,
          -3.3573875427246094,
          4.241159915924072,
          -17.959287643432617,
          -21.663585662841797,
          -13.509450912475586,
          -29.5963134765625,
          -24.552640914916992,
          -12.474037170410156,
          -17.392913818359375,
          20.035547256469727,
          25.393526077270508,
          11.79654598236084,
          50.511962890625,
          -6.628146171569824,
          33.72577667236328,
          52.42321014404297,
          42.1790771484375,
          30.912700653076172,
          29.480175018310547,
          19.353755950927734,
          23.822357177734375,
          -10.631449699401855,
          30.69223403930664,
          18.456348419189453,
          10.221665382385254,
          -5.901511192321777,
          -15.505231857299805,
          -7.671860694885254,
          -28.425127029418945,
          -7.363373279571533,
          40.418678283691406,
          40.624202728271484,
          51.17119598388672,
          11.278186798095703,
          -2.356900691986084,
          -45.16315460205078,
          -15.720982551574707,
          -24.416383743286133,
          25.300430297851562,
          37.16803741455078,
          -7.160490989685059,
          -32.129417419433594,
          38.26353454589844,
          47.9964599609375,
          38.535072326660156,
          -31.647294998168945,
          -48.32003402709961,
          -8.827617645263672,
          -18.59781265258789,
          28.53314971923828,
          34.56175994873047,
          24.25069236755371,
          -20.169919967651367,
          6.479074478149414,
          15.562594413757324,
          -29.6053466796875,
          -38.05338668823242,
          24.55065155029297,
          43.19706344604492,
          -45.27815246582031,
          38.6334114074707,
          36.06667709350586,
          -22.767107009887695,
          -16.108491897583008,
          -12.701961517333984,
          1.99528169631958,
          30.98245620727539,
          29.35286521911621,
          -27.66405487060547,
          -35.75077819824219,
          -17.665950775146484,
          28.53330421447754,
          37.78152084350586,
          24.17708396911621,
          -1.310991883277893,
          -14.345826148986816,
          -14.640056610107422,
          5.9089674949646,
          29.392751693725586,
          15.542261123657227,
          -28.919151306152344,
          -15.562789916992188,
          -5.542109966278076,
          19.161441802978516,
          13.362648010253906,
          -15.723907470703125,
          -24.57709503173828,
          29.25358772277832,
          21.96598243713379,
          29.682689666748047,
          42.53683853149414,
          -0.6039989590644836,
          -26.081300735473633,
          -19.95890998840332,
          -23.889739990234375,
          21.411603927612305,
          41.732460021972656,
          -24.458171844482422,
          15.12510871887207,
          22.04816436767578,
          -7.839935302734375,
          -0.4537317752838135,
          -25.295095443725586,
          45.08488082885742,
          1.2251951694488525,
          5.717482566833496,
          28.030576705932617,
          5.5055155754089355,
          37.25873947143555,
          25.712417602539062,
          -38.138099670410156,
          -7.961580753326416,
          -25.76830291748047,
          3.1748850345611572,
          5.921334743499756,
          -3.351325511932373,
          -12.345019340515137,
          14.970638275146484,
          5.475247859954834,
          -1.4941891431808472,
          -26.41018295288086,
          34.4887809753418,
          -30.851375579833984,
          6.085620880126953,
          -24.698036193847656,
          35.04818344116211,
          14.427109718322754,
          -29.345457077026367
         ],
         "y": [
          -13.640581130981445,
          14.855687141418457,
          5.922464370727539,
          -28.87103843688965,
          -22.68486976623535,
          -2.295158624649048,
          -10.910109519958496,
          -17.899702072143555,
          14.701082229614258,
          -26.920303344726562,
          27.292133331298828,
          -17.885387420654297,
          2.2744438648223877,
          8.015501976013184,
          22.386756896972656,
          -4.338499069213867,
          -34.557884216308594,
          24.471742630004883,
          -4.613729476928711,
          4.424649715423584,
          17.852949142456055,
          -30.38745880126953,
          -8.001233100891113,
          -26.79503631591797,
          -15.00156307220459,
          -43.29412841796875,
          5.850581645965576,
          -47.349517822265625,
          5.024491310119629,
          2.1659905910491943,
          1.319635272026062,
          -14.171467781066895,
          -24.68600082397461,
          -7.807432174682617,
          -17.463211059570312,
          -36.828582763671875,
          -24.32594871520996,
          0.8351452350616455,
          12.377897262573242,
          -18.313800811767578,
          30.918560028076172,
          -11.253684997558594,
          -47.2782096862793,
          -5.835637092590332,
          -22.022964477539062,
          -36.281898498535156,
          4.291988372802734,
          -9.327261924743652,
          -16.06981086730957,
          17.835084915161133,
          -46.60806655883789,
          2.434884548187256,
          5.774931907653809,
          0.6972618103027344,
          -37.26425552368164,
          -20.86942481994629,
          27.529218673706055,
          -34.587684631347656,
          -6.4919304847717285,
          -26.896549224853516,
          -33.28388595581055,
          34.929473876953125,
          -11.443446159362793,
          38.541107177734375,
          34.64748764038086,
          40.172237396240234,
          22.39551544189453,
          24.03976058959961,
          -41.0345573425293,
          -16.46546173095703,
          40.68690490722656,
          24.455524444580078,
          45.677528381347656,
          -32.63526916503906,
          -25.63359832763672,
          -23.221960067749023,
          46.979148864746094,
          23.625473022460938,
          -22.631336212158203,
          38.55818557739258,
          17.98619270324707,
          24.306331634521484,
          25.17369842529297,
          13.549004554748535,
          1.958085060119629,
          -25.98110008239746,
          12.969254493713379,
          -17.96210289001465,
          -2.327817678451538,
          26.983993530273438,
          -24.67276382446289,
          18.361621856689453,
          29.859432220458984,
          22.524398803710938,
          9.734139442443848,
          31.752582550048828,
          12.649107933044434,
          20.223163604736328,
          -8.143281936645508,
          -50.13545608520508,
          5.239858627319336,
          26.90682601928711,
          6.400243759155273,
          -12.695663452148438,
          15.563602447509766,
          28.160680770874023,
          -44.736454010009766,
          14.356855392456055,
          33.83561325073242,
          16.091251373291016,
          22.845975875854492,
          0.3536529242992401,
          24.67864418029785,
          -17.770309448242188,
          -27.20159912109375,
          22.548654556274414,
          -17.677297592163086,
          21.344898223876953,
          -11.834759712219238,
          45.956417083740234,
          -20.644515991210938,
          -13.968175888061523,
          -26.543018341064453,
          18.20932388305664,
          -28.389863967895508,
          10.342415809631348,
          -5.296788692474365,
          -30.90740203857422,
          -0.06873156875371933,
          -8.122880935668945,
          7.9540581703186035,
          20.54599380493164,
          9.390608787536621,
          -6.824286460876465,
          20.87908935546875,
          22.080947875976562,
          36.74903869628906,
          5.290643692016602,
          -7.455821514129639,
          15.449854850769043,
          16.49332618713379,
          -0.9402710795402527,
          -16.263999938964844,
          -30.81093406677246,
          -22.379053115844727,
          -23.703582763671875,
          21.280553817749023,
          -12.702081680297852,
          -9.49514102935791,
          29.947616577148438,
          -18.301755905151367,
          24.598373413085938,
          -17.519977569580078,
          -33.77828598022461,
          36.518131256103516,
          28.381193161010742,
          19.50718116760254,
          -35.93126678466797,
          10.47509765625,
          1.965659260749817,
          -4.892884254455566,
          -8.710522651672363,
          -1.0870921611785889,
          30.7437801361084,
          -29.256654739379883,
          -11.091547012329102,
          5.996556758880615,
          23.709400177001953,
          -7.668661594390869,
          -4.140394687652588,
          -7.961467742919922,
          5.799210548400879,
          10.926995277404785,
          -38.5898323059082,
          -18.114831924438477,
          -1.1023330688476562,
          17.851511001586914,
          16.613740921020508,
          5.494941711425781,
          9.562280654907227,
          -10.92179012298584,
          -33.85426712036133,
          23.9525089263916,
          17.769603729248047,
          -19.542789459228516,
          -5.0269341468811035,
          34.71931457519531,
          -20.63345718383789,
          -1.0243972539901733,
          -17.245807647705078,
          32.912235260009766,
          28.038677215576172,
          20.165128707885742,
          -9.09951114654541,
          -21.715938568115234,
          -9.993855476379395,
          -35.017765045166016,
          -22.017200469970703,
          5.2836785316467285,
          -17.61101531982422
         ],
         "z": [
          25.720312118530273,
          6.694371223449707,
          31.07630729675293,
          -7.988087177276611,
          8.31042194366455,
          31.341808319091797,
          25.254207611083984,
          13.738834381103516,
          38.68879318237305,
          22.505773544311523,
          -35.51192855834961,
          32.75748062133789,
          -46.66141891479492,
          -8.75041389465332,
          16.697540283203125,
          -39.44485092163086,
          8.522832870483398,
          18.67900848388672,
          -40.51223373413086,
          36.9570198059082,
          -2.9231741428375244,
          20.066396713256836,
          -3.1706578731536865,
          26.202116012573242,
          -44.97217559814453,
          -12.87212085723877,
          -14.141364097595215,
          -15.113153457641602,
          43.512821197509766,
          -39.53260040283203,
          24.866147994995117,
          1.4399127960205078,
          15.639196395874023,
          8.628338813781738,
          11.525885581970215,
          13.947896003723145,
          -38.20730209350586,
          25.018051147460938,
          -14.612884521484375,
          -0.13949169218540192,
          12.456769943237305,
          4.416187763214111,
          -5.538161754608154,
          31.9274845123291,
          5.819149971008301,
          21.733781814575195,
          12.326554298400879,
          -22.964750289916992,
          15.120442390441895,
          30.967056274414062,
          -6.9929304122924805,
          4.899635314941406,
          -34.11025619506836,
          12.288686752319336,
          -9.132561683654785,
          26.043373107910156,
          -29.821569442749023,
          5.722413063049316,
          -51.36857986450195,
          -12.643674850463867,
          4.866817474365234,
          3.4882242679595947,
          -21.75320816040039,
          -22.377092361450195,
          -17.73027229309082,
          22.537330627441406,
          24.926856994628906,
          -5.934310436248779,
          -17.369354248046875,
          -8.642992973327637,
          -16.760540008544922,
          -15.674345016479492,
          -2.337839126586914,
          24.71717643737793,
          32.12813186645508,
          27.757001876831055,
          2.3424320220947266,
          6.506845951080322,
          35.34349060058594,
          18.66448402404785,
          -15.339997291564941,
          34.3275260925293,
          -9.269203186035156,
          36.1387825012207,
          -2.9984633922576904,
          -26.235790252685547,
          -12.251481056213379,
          5.024805545806885,
          30.151256561279297,
          12.075695991516113,
          -4.928558826446533,
          25.74982261657715,
          14.311830520629883,
          -4.470355987548828,
          -25.296710968017578,
          19.18166732788086,
          -45.999080657958984,
          42.67047119140625,
          38.31712341308594,
          -5.511806488037109,
          43.06145477294922,
          6.0819091796875,
          6.341989517211914,
          19.811580657958984,
          -9.371464729309082,
          2.8352417945861816,
          -5.22714900970459,
          15.851794242858887,
          -3.313647985458374,
          34.57769012451172,
          -32.690067291259766,
          -28.113061904907227,
          40.462520599365234,
          5.694072246551514,
          21.18836784362793,
          -8.082452774047852,
          -14.587186813354492,
          16.25813865661621,
          -6.587466716766357,
          1.493347406387329,
          34.62970733642578,
          -32.00922775268555,
          26.831546783447266,
          27.99196434020996,
          1.7458899021148682,
          -51.08183670043945,
          12.051862716674805,
          25.727554321289062,
          -34.0053825378418,
          27.853408813476562,
          -14.110942840576172,
          13.58572769165039,
          -3.363966464996338,
          -10.7889986038208,
          -9.9613676071167,
          4.805798530578613,
          23.94220733642578,
          -31.2805233001709,
          3.063807487487793,
          -26.111907958984375,
          28.56850814819336,
          -17.171184539794922,
          -45.61124038696289,
          8.548309326171875,
          -22.69729232788086,
          -16.887598037719727,
          -36.49729919433594,
          31.0443115234375,
          -46.66205596923828,
          6.222487449645996,
          -13.840540885925293,
          27.858016967773438,
          22.511066436767578,
          -5.861466884613037,
          -20.070606231689453,
          25.28392791748047,
          36.3526496887207,
          -29.18547821044922,
          44.205326080322266,
          5.603188514709473,
          -38.571231842041016,
          -30.523958206176758,
          -7.560328006744385,
          -10.642290115356445,
          20.74357795715332,
          -49.18170166015625,
          47.83805465698242,
          10.406047821044922,
          9.569719314575195,
          20.12656021118164,
          -1.0010946989059448,
          -35.303524017333984,
          -41.878395080566406,
          7.33073616027832,
          -12.64990234375,
          -26.327117919921875,
          3.1623013019561768,
          -24.168424606323242,
          20.154537200927734,
          -14.972956657409668,
          12.491034507751465,
          3.8871493339538574,
          -16.04991912841797,
          -13.844393730163574,
          -29.24746322631836,
          30.02713966369629,
          -20.697179794311523,
          -32.02497482299805,
          -6.79954195022583,
          -6.658287048339844,
          12.201956748962402,
          23.799396514892578,
          11.474546432495117,
          19.76828384399414,
          18.746524810791016,
          -43.34629440307617,
          -16.90506935119629,
          -7.197931289672852,
          13.848186492919922,
          -8.82351016998291
         ]
        }
       ],
       "layout": {
        "legend": {
         "tracegroupgap": 0
        },
        "margin": {
         "t": 60
        },
        "scene": {
         "domain": {
          "x": [
           0,
           1
          ],
          "y": [
           0,
           1
          ]
         },
         "xaxis": {
          "title": {
           "text": "x"
          }
         },
         "yaxis": {
          "title": {
           "text": "y"
          }
         },
         "zaxis": {
          "title": {
           "text": "z"
          }
         }
        },
        "template": {
         "data": {
          "bar": [
           {
            "error_x": {
             "color": "#2a3f5f"
            },
            "error_y": {
             "color": "#2a3f5f"
            },
            "marker": {
             "line": {
              "color": "#E5ECF6",
              "width": 0.5
             },
             "pattern": {
              "fillmode": "overlay",
              "size": 10,
              "solidity": 0.2
             }
            },
            "type": "bar"
           }
          ],
          "barpolar": [
           {
            "marker": {
             "line": {
              "color": "#E5ECF6",
              "width": 0.5
             },
             "pattern": {
              "fillmode": "overlay",
              "size": 10,
              "solidity": 0.2
             }
            },
            "type": "barpolar"
           }
          ],
          "carpet": [
           {
            "aaxis": {
             "endlinecolor": "#2a3f5f",
             "gridcolor": "white",
             "linecolor": "white",
             "minorgridcolor": "white",
             "startlinecolor": "#2a3f5f"
            },
            "baxis": {
             "endlinecolor": "#2a3f5f",
             "gridcolor": "white",
             "linecolor": "white",
             "minorgridcolor": "white",
             "startlinecolor": "#2a3f5f"
            },
            "type": "carpet"
           }
          ],
          "choropleth": [
           {
            "colorbar": {
             "outlinewidth": 0,
             "ticks": ""
            },
            "type": "choropleth"
           }
          ],
          "contour": [
           {
            "colorbar": {
             "outlinewidth": 0,
             "ticks": ""
            },
            "colorscale": [
             [
              0,
              "#0d0887"
             ],
             [
              0.1111111111111111,
              "#46039f"
             ],
             [
              0.2222222222222222,
              "#7201a8"
             ],
             [
              0.3333333333333333,
              "#9c179e"
             ],
             [
              0.4444444444444444,
              "#bd3786"
             ],
             [
              0.5555555555555556,
              "#d8576b"
             ],
             [
              0.6666666666666666,
              "#ed7953"
             ],
             [
              0.7777777777777778,
              "#fb9f3a"
             ],
             [
              0.8888888888888888,
              "#fdca26"
             ],
             [
              1,
              "#f0f921"
             ]
            ],
            "type": "contour"
           }
          ],
          "contourcarpet": [
           {
            "colorbar": {
             "outlinewidth": 0,
             "ticks": ""
            },
            "type": "contourcarpet"
           }
          ],
          "heatmap": [
           {
            "colorbar": {
             "outlinewidth": 0,
             "ticks": ""
            },
            "colorscale": [
             [
              0,
              "#0d0887"
             ],
             [
              0.1111111111111111,
              "#46039f"
             ],
             [
              0.2222222222222222,
              "#7201a8"
             ],
             [
              0.3333333333333333,
              "#9c179e"
             ],
             [
              0.4444444444444444,
              "#bd3786"
             ],
             [
              0.5555555555555556,
              "#d8576b"
             ],
             [
              0.6666666666666666,
              "#ed7953"
             ],
             [
              0.7777777777777778,
              "#fb9f3a"
             ],
             [
              0.8888888888888888,
              "#fdca26"
             ],
             [
              1,
              "#f0f921"
             ]
            ],
            "type": "heatmap"
           }
          ],
          "heatmapgl": [
           {
            "colorbar": {
             "outlinewidth": 0,
             "ticks": ""
            },
            "colorscale": [
             [
              0,
              "#0d0887"
             ],
             [
              0.1111111111111111,
              "#46039f"
             ],
             [
              0.2222222222222222,
              "#7201a8"
             ],
             [
              0.3333333333333333,
              "#9c179e"
             ],
             [
              0.4444444444444444,
              "#bd3786"
             ],
             [
              0.5555555555555556,
              "#d8576b"
             ],
             [
              0.6666666666666666,
              "#ed7953"
             ],
             [
              0.7777777777777778,
              "#fb9f3a"
             ],
             [
              0.8888888888888888,
              "#fdca26"
             ],
             [
              1,
              "#f0f921"
             ]
            ],
            "type": "heatmapgl"
           }
          ],
          "histogram": [
           {
            "marker": {
             "pattern": {
              "fillmode": "overlay",
              "size": 10,
              "solidity": 0.2
             }
            },
            "type": "histogram"
           }
          ],
          "histogram2d": [
           {
            "colorbar": {
             "outlinewidth": 0,
             "ticks": ""
            },
            "colorscale": [
             [
              0,
              "#0d0887"
             ],
             [
              0.1111111111111111,
              "#46039f"
             ],
             [
              0.2222222222222222,
              "#7201a8"
             ],
             [
              0.3333333333333333,
              "#9c179e"
             ],
             [
              0.4444444444444444,
              "#bd3786"
             ],
             [
              0.5555555555555556,
              "#d8576b"
             ],
             [
              0.6666666666666666,
              "#ed7953"
             ],
             [
              0.7777777777777778,
              "#fb9f3a"
             ],
             [
              0.8888888888888888,
              "#fdca26"
             ],
             [
              1,
              "#f0f921"
             ]
            ],
            "type": "histogram2d"
           }
          ],
          "histogram2dcontour": [
           {
            "colorbar": {
             "outlinewidth": 0,
             "ticks": ""
            },
            "colorscale": [
             [
              0,
              "#0d0887"
             ],
             [
              0.1111111111111111,
              "#46039f"
             ],
             [
              0.2222222222222222,
              "#7201a8"
             ],
             [
              0.3333333333333333,
              "#9c179e"
             ],
             [
              0.4444444444444444,
              "#bd3786"
             ],
             [
              0.5555555555555556,
              "#d8576b"
             ],
             [
              0.6666666666666666,
              "#ed7953"
             ],
             [
              0.7777777777777778,
              "#fb9f3a"
             ],
             [
              0.8888888888888888,
              "#fdca26"
             ],
             [
              1,
              "#f0f921"
             ]
            ],
            "type": "histogram2dcontour"
           }
          ],
          "mesh3d": [
           {
            "colorbar": {
             "outlinewidth": 0,
             "ticks": ""
            },
            "type": "mesh3d"
           }
          ],
          "parcoords": [
           {
            "line": {
             "colorbar": {
              "outlinewidth": 0,
              "ticks": ""
             }
            },
            "type": "parcoords"
           }
          ],
          "pie": [
           {
            "automargin": true,
            "type": "pie"
           }
          ],
          "scatter": [
           {
            "fillpattern": {
             "fillmode": "overlay",
             "size": 10,
             "solidity": 0.2
            },
            "type": "scatter"
           }
          ],
          "scatter3d": [
           {
            "line": {
             "colorbar": {
              "outlinewidth": 0,
              "ticks": ""
             }
            },
            "marker": {
             "colorbar": {
              "outlinewidth": 0,
              "ticks": ""
             }
            },
            "type": "scatter3d"
           }
          ],
          "scattercarpet": [
           {
            "marker": {
             "colorbar": {
              "outlinewidth": 0,
              "ticks": ""
             }
            },
            "type": "scattercarpet"
           }
          ],
          "scattergeo": [
           {
            "marker": {
             "colorbar": {
              "outlinewidth": 0,
              "ticks": ""
             }
            },
            "type": "scattergeo"
           }
          ],
          "scattergl": [
           {
            "marker": {
             "colorbar": {
              "outlinewidth": 0,
              "ticks": ""
             }
            },
            "type": "scattergl"
           }
          ],
          "scattermapbox": [
           {
            "marker": {
             "colorbar": {
              "outlinewidth": 0,
              "ticks": ""
             }
            },
            "type": "scattermapbox"
           }
          ],
          "scatterpolar": [
           {
            "marker": {
             "colorbar": {
              "outlinewidth": 0,
              "ticks": ""
             }
            },
            "type": "scatterpolar"
           }
          ],
          "scatterpolargl": [
           {
            "marker": {
             "colorbar": {
              "outlinewidth": 0,
              "ticks": ""
             }
            },
            "type": "scatterpolargl"
           }
          ],
          "scatterternary": [
           {
            "marker": {
             "colorbar": {
              "outlinewidth": 0,
              "ticks": ""
             }
            },
            "type": "scatterternary"
           }
          ],
          "surface": [
           {
            "colorbar": {
             "outlinewidth": 0,
             "ticks": ""
            },
            "colorscale": [
             [
              0,
              "#0d0887"
             ],
             [
              0.1111111111111111,
              "#46039f"
             ],
             [
              0.2222222222222222,
              "#7201a8"
             ],
             [
              0.3333333333333333,
              "#9c179e"
             ],
             [
              0.4444444444444444,
              "#bd3786"
             ],
             [
              0.5555555555555556,
              "#d8576b"
             ],
             [
              0.6666666666666666,
              "#ed7953"
             ],
             [
              0.7777777777777778,
              "#fb9f3a"
             ],
             [
              0.8888888888888888,
              "#fdca26"
             ],
             [
              1,
              "#f0f921"
             ]
            ],
            "type": "surface"
           }
          ],
          "table": [
           {
            "cells": {
             "fill": {
              "color": "#EBF0F8"
             },
             "line": {
              "color": "white"
             }
            },
            "header": {
             "fill": {
              "color": "#C8D4E3"
             },
             "line": {
              "color": "white"
             }
            },
            "type": "table"
           }
          ]
         },
         "layout": {
          "annotationdefaults": {
           "arrowcolor": "#2a3f5f",
           "arrowhead": 0,
           "arrowwidth": 1
          },
          "autotypenumbers": "strict",
          "coloraxis": {
           "colorbar": {
            "outlinewidth": 0,
            "ticks": ""
           }
          },
          "colorscale": {
           "diverging": [
            [
             0,
             "#8e0152"
            ],
            [
             0.1,
             "#c51b7d"
            ],
            [
             0.2,
             "#de77ae"
            ],
            [
             0.3,
             "#f1b6da"
            ],
            [
             0.4,
             "#fde0ef"
            ],
            [
             0.5,
             "#f7f7f7"
            ],
            [
             0.6,
             "#e6f5d0"
            ],
            [
             0.7,
             "#b8e186"
            ],
            [
             0.8,
             "#7fbc41"
            ],
            [
             0.9,
             "#4d9221"
            ],
            [
             1,
             "#276419"
            ]
           ],
           "sequential": [
            [
             0,
             "#0d0887"
            ],
            [
             0.1111111111111111,
             "#46039f"
            ],
            [
             0.2222222222222222,
             "#7201a8"
            ],
            [
             0.3333333333333333,
             "#9c179e"
            ],
            [
             0.4444444444444444,
             "#bd3786"
            ],
            [
             0.5555555555555556,
             "#d8576b"
            ],
            [
             0.6666666666666666,
             "#ed7953"
            ],
            [
             0.7777777777777778,
             "#fb9f3a"
            ],
            [
             0.8888888888888888,
             "#fdca26"
            ],
            [
             1,
             "#f0f921"
            ]
           ],
           "sequentialminus": [
            [
             0,
             "#0d0887"
            ],
            [
             0.1111111111111111,
             "#46039f"
            ],
            [
             0.2222222222222222,
             "#7201a8"
            ],
            [
             0.3333333333333333,
             "#9c179e"
            ],
            [
             0.4444444444444444,
             "#bd3786"
            ],
            [
             0.5555555555555556,
             "#d8576b"
            ],
            [
             0.6666666666666666,
             "#ed7953"
            ],
            [
             0.7777777777777778,
             "#fb9f3a"
            ],
            [
             0.8888888888888888,
             "#fdca26"
            ],
            [
             1,
             "#f0f921"
            ]
           ]
          },
          "colorway": [
           "#636efa",
           "#EF553B",
           "#00cc96",
           "#ab63fa",
           "#FFA15A",
           "#19d3f3",
           "#FF6692",
           "#B6E880",
           "#FF97FF",
           "#FECB52"
          ],
          "font": {
           "color": "#2a3f5f"
          },
          "geo": {
           "bgcolor": "white",
           "lakecolor": "white",
           "landcolor": "#E5ECF6",
           "showlakes": true,
           "showland": true,
           "subunitcolor": "white"
          },
          "hoverlabel": {
           "align": "left"
          },
          "hovermode": "closest",
          "mapbox": {
           "style": "light"
          },
          "paper_bgcolor": "white",
          "plot_bgcolor": "#E5ECF6",
          "polar": {
           "angularaxis": {
            "gridcolor": "white",
            "linecolor": "white",
            "ticks": ""
           },
           "bgcolor": "#E5ECF6",
           "radialaxis": {
            "gridcolor": "white",
            "linecolor": "white",
            "ticks": ""
           }
          },
          "scene": {
           "xaxis": {
            "backgroundcolor": "#E5ECF6",
            "gridcolor": "white",
            "gridwidth": 2,
            "linecolor": "white",
            "showbackground": true,
            "ticks": "",
            "zerolinecolor": "white"
           },
           "yaxis": {
            "backgroundcolor": "#E5ECF6",
            "gridcolor": "white",
            "gridwidth": 2,
            "linecolor": "white",
            "showbackground": true,
            "ticks": "",
            "zerolinecolor": "white"
           },
           "zaxis": {
            "backgroundcolor": "#E5ECF6",
            "gridcolor": "white",
            "gridwidth": 2,
            "linecolor": "white",
            "showbackground": true,
            "ticks": "",
            "zerolinecolor": "white"
           }
          },
          "shapedefaults": {
           "line": {
            "color": "#2a3f5f"
           }
          },
          "ternary": {
           "aaxis": {
            "gridcolor": "white",
            "linecolor": "white",
            "ticks": ""
           },
           "baxis": {
            "gridcolor": "white",
            "linecolor": "white",
            "ticks": ""
           },
           "bgcolor": "#E5ECF6",
           "caxis": {
            "gridcolor": "white",
            "linecolor": "white",
            "ticks": ""
           }
          },
          "title": {
           "x": 0.05
          },
          "xaxis": {
           "automargin": true,
           "gridcolor": "white",
           "linecolor": "white",
           "ticks": "",
           "title": {
            "standoff": 15
           },
           "zerolinecolor": "white",
           "zerolinewidth": 2
          },
          "yaxis": {
           "automargin": true,
           "gridcolor": "white",
           "linecolor": "white",
           "ticks": "",
           "title": {
            "standoff": 15
           },
           "zerolinecolor": "white",
           "zerolinewidth": 2
          }
         }
        }
       }
      }
     },
     "metadata": {},
     "output_type": "display_data"
    }
   ],
   "source": [
    "# Graficar los embedddings en 3D\n",
    "\n",
    "vecs, labels = reduce_dimensions(w2v_model,3)\n",
    "\n",
    "fig = px.scatter_3d(x=vecs[:MAX_WORDS,0], y=vecs[:MAX_WORDS,1], z=vecs[:MAX_WORDS,2],text=labels[:MAX_WORDS])\n",
    "fig.update_traces(marker_size = 2)\n",
    "#fig.show(renderer=\"colab\") # esto para plotly en colab\n",
    "fig.show()"
   ]
  },
  {
   "cell_type": "code",
   "execution_count": 31,
   "metadata": {},
   "outputs": [],
   "source": [
    "# También se pueden guardar los vectores y labels como tsv para graficar en\n",
    "# http://projector.tensorflow.org/\n",
    "\n",
    "\n",
    "vectors = np.asarray(w2v_model.wv.vectors)\n",
    "labels = list(w2v_model.wv.index_to_key)\n",
    "\n",
    "np.savetxt(\"vectors.tsv\", vectors, delimiter=\"\\t\")\n",
    "\n",
    "with open(\"labels.tsv\", \"w\") as fp:\n",
    "    for item in labels:\n",
    "        fp.write(\"%s\\n\" % item)"
   ]
  },
  {
   "cell_type": "markdown",
   "metadata": {
    "id": "yMM_SHSaZ9N-"
   },
   "source": [
    "### Alumno"
   ]
  },
  {
   "cell_type": "markdown",
   "metadata": {
    "id": "WivQZ3ZCZ9N_"
   },
   "source": [
    "- Crear sus propios vectores con Gensim basado en lo visto en clase con otro dataset.\n",
    "- Probar términos de interés y explicar similitudes en el espacio de embeddings (sacar conclusiones entre palabras similitudes y diferencias).\n",
    "- Graficarlos.\n",
    "- Obtener conclusiones."
   ]
  },
  {
   "cell_type": "markdown",
   "metadata": {},
   "source": [
    "#### 1. Creación de vectores propios con Gensim utilizando un nuevo dataset"
   ]
  },
  {
   "cell_type": "markdown",
   "metadata": {},
   "source": [
    "Se decidió emplear un dataset de noticias, para poder analizar fácilmente si las relaciones entre palabras obedecen a la realidad de las noticias que todos tenemos a disposición y conocemos. Se empleará un dataset de la BBC con noticias recientes.\n",
    "\n",
    "fuente: https://www.kaggle.com/datasets/gpreda/bbc-news\n",
    "\n",
    "Se subirá el archivo al repositorio, dado su pequeño tamaño y la imposibilidad de descargar desde Kaggle directamente sin establecer una sesión antes."
   ]
  },
  {
   "cell_type": "markdown",
   "metadata": {},
   "source": [
    "El archivo csv contiene dos columnas que son de nuestro interés, las columnas \"title\" y \"description\". Se generará un nuevo dataset concatenando ambas columnas."
   ]
  },
  {
   "cell_type": "code",
   "execution_count": 69,
   "metadata": {},
   "outputs": [],
   "source": [
    "import pandas as pd\n",
    "\n",
    "df_full_bbc = pd.read_csv('bbc_news/bbc_news.csv')\n",
    "\n",
    "# keep the two interesting columns\n",
    "df_bbc_title = df_full_bbc['title']\n",
    "df_bbc_description = df_full_bbc['description']\n",
    "\n",
    "df_bbc = pd.DataFrame({'news': df_bbc_title + ' ' + df_bbc_description})"
   ]
  },
  {
   "cell_type": "code",
   "execution_count": 70,
   "metadata": {},
   "outputs": [
    {
     "data": {
      "text/html": [
       "<div>\n",
       "<style scoped>\n",
       "    .dataframe tbody tr th:only-of-type {\n",
       "        vertical-align: middle;\n",
       "    }\n",
       "\n",
       "    .dataframe tbody tr th {\n",
       "        vertical-align: top;\n",
       "    }\n",
       "\n",
       "    .dataframe thead th {\n",
       "        text-align: right;\n",
       "    }\n",
       "</style>\n",
       "<table border=\"1\" class=\"dataframe\">\n",
       "  <thead>\n",
       "    <tr style=\"text-align: right;\">\n",
       "      <th></th>\n",
       "      <th>news</th>\n",
       "    </tr>\n",
       "  </thead>\n",
       "  <tbody>\n",
       "    <tr>\n",
       "      <th>0</th>\n",
       "      <td>Ukraine: Angry Zelensky vows to punish Russian...</td>\n",
       "    </tr>\n",
       "    <tr>\n",
       "      <th>1</th>\n",
       "      <td>War in Ukraine: Taking cover in a town under a...</td>\n",
       "    </tr>\n",
       "    <tr>\n",
       "      <th>2</th>\n",
       "      <td>Ukraine war 'catastrophic for global food' One...</td>\n",
       "    </tr>\n",
       "    <tr>\n",
       "      <th>3</th>\n",
       "      <td>Manchester Arena bombing: Saffie Roussos's par...</td>\n",
       "    </tr>\n",
       "    <tr>\n",
       "      <th>4</th>\n",
       "      <td>Ukraine conflict: Oil price soars to highest l...</td>\n",
       "    </tr>\n",
       "  </tbody>\n",
       "</table>\n",
       "</div>"
      ],
      "text/plain": [
       "                                                news\n",
       "0  Ukraine: Angry Zelensky vows to punish Russian...\n",
       "1  War in Ukraine: Taking cover in a town under a...\n",
       "2  Ukraine war 'catastrophic for global food' One...\n",
       "3  Manchester Arena bombing: Saffie Roussos's par...\n",
       "4  Ukraine conflict: Oil price soars to highest l..."
      ]
     },
     "execution_count": 70,
     "metadata": {},
     "output_type": "execute_result"
    }
   ],
   "source": [
    "df_bbc.head()"
   ]
  },
  {
   "cell_type": "code",
   "execution_count": 71,
   "metadata": {},
   "outputs": [
    {
     "name": "stdout",
     "output_type": "stream",
     "text": [
      "Cantidad de documentos:  30841\n"
     ]
    }
   ],
   "source": [
    "print(\"Cantidad de documentos: \", df_bbc.shape[0])"
   ]
  },
  {
   "cell_type": "markdown",
   "metadata": {},
   "source": [
    "##### 1. Preprocesamiento"
   ]
  },
  {
   "cell_type": "code",
   "execution_count": 72,
   "metadata": {},
   "outputs": [],
   "source": [
    "from keras.preprocessing.text import text_to_word_sequence\n",
    "\n",
    "bbc_sentence_tokens = []\n",
    "# Recorrer todas las filas y transformar las oraciones\n",
    "# en una secuencia de palabras (esto podría realizarse con NLTK o spaCy también)\n",
    "for _, row in df_bbc[:None].iterrows():\n",
    "    bbc_sentence_tokens.append(text_to_word_sequence(row[0]))"
   ]
  },
  {
   "cell_type": "code",
   "execution_count": 73,
   "metadata": {},
   "outputs": [
    {
     "data": {
      "text/plain": [
       "[['ukraine',\n",
       "  'angry',\n",
       "  'zelensky',\n",
       "  'vows',\n",
       "  'to',\n",
       "  'punish',\n",
       "  'russian',\n",
       "  'atrocities',\n",
       "  'the',\n",
       "  'ukrainian',\n",
       "  'president',\n",
       "  'says',\n",
       "  'the',\n",
       "  'country',\n",
       "  'will',\n",
       "  'not',\n",
       "  'forgive',\n",
       "  'or',\n",
       "  'forget',\n",
       "  'those',\n",
       "  'who',\n",
       "  'murder',\n",
       "  'its',\n",
       "  'civilians'],\n",
       " ['war',\n",
       "  'in',\n",
       "  'ukraine',\n",
       "  'taking',\n",
       "  'cover',\n",
       "  'in',\n",
       "  'a',\n",
       "  'town',\n",
       "  'under',\n",
       "  'attack',\n",
       "  'jeremy',\n",
       "  'bowen',\n",
       "  'was',\n",
       "  'on',\n",
       "  'the',\n",
       "  'frontline',\n",
       "  'in',\n",
       "  'irpin',\n",
       "  'as',\n",
       "  'residents',\n",
       "  'came',\n",
       "  'under',\n",
       "  'russian',\n",
       "  'fire',\n",
       "  'while',\n",
       "  'trying',\n",
       "  'to',\n",
       "  'flee']]"
      ]
     },
     "execution_count": 73,
     "metadata": {},
     "output_type": "execute_result"
    }
   ],
   "source": [
    "# Demos un vistazo\n",
    "bbc_sentence_tokens[:2]"
   ]
  },
  {
   "cell_type": "markdown",
   "metadata": {},
   "source": [
    "##### 2. Creación de los vectores (word2vec)"
   ]
  },
  {
   "cell_type": "markdown",
   "metadata": {},
   "source": [
    "Se empleará el callback declarado en el ejemplo anterior. A continuación se genera el modelo."
   ]
  },
  {
   "cell_type": "code",
   "execution_count": 74,
   "metadata": {},
   "outputs": [],
   "source": [
    "# Crearmos el modelo generador de vectores\n",
    "# En este caso utilizaremos la estructura modelo Skipgram\n",
    "bbc_w2v_model = Word2Vec(min_count=5,       # frecuencia mínima de palabra para incluirla en el vocabulario\n",
    "                        window=2,           # cant de palabras antes y desp de la predicha\n",
    "                        vector_size=300,    # dimensionalidad de los vectores \n",
    "                        negative=20,        # cantidad de negative samples... 0 es no se usa\n",
    "                        workers=1,          # si tienen más cores pueden cambiar este valor\n",
    "                        sg=1)               # modelo 0:CBOW  1:skipgram"
   ]
  },
  {
   "cell_type": "code",
   "execution_count": 75,
   "metadata": {},
   "outputs": [],
   "source": [
    "# Obtener el vocabulario con los tokens\n",
    "bbc_w2v_model.build_vocab(bbc_sentence_tokens)"
   ]
  },
  {
   "cell_type": "code",
   "execution_count": 76,
   "metadata": {},
   "outputs": [
    {
     "name": "stdout",
     "output_type": "stream",
     "text": [
      "Cantidad de docs en el corpus: 30841\n"
     ]
    }
   ],
   "source": [
    "# Cantidad de filas/docs encontradas en el corpus\n",
    "print(\"Cantidad de docs en el corpus:\", bbc_w2v_model.corpus_count)"
   ]
  },
  {
   "cell_type": "code",
   "execution_count": 77,
   "metadata": {},
   "outputs": [
    {
     "name": "stdout",
     "output_type": "stream",
     "text": [
      "Cantidad de words distintas en el corpus: 12464\n"
     ]
    }
   ],
   "source": [
    "# Cantidad de words encontradas en el corpus\n",
    "print(\"Cantidad de words distintas en el corpus:\", len(bbc_w2v_model.wv.index_to_key))"
   ]
  },
  {
   "cell_type": "markdown",
   "metadata": {},
   "source": [
    "##### 3. Entrenamiento de embeddings"
   ]
  },
  {
   "cell_type": "code",
   "execution_count": 80,
   "metadata": {},
   "outputs": [
    {
     "name": "stdout",
     "output_type": "stream",
     "text": [
      "Loss after epoch 0: 697419.375\n",
      "Loss after epoch 1: 606534.875\n",
      "Loss after epoch 2: 584711.375\n",
      "Loss after epoch 3: 559244.375\n",
      "Loss after epoch 4: 490718.75\n",
      "Loss after epoch 5: 536548.5\n",
      "Loss after epoch 6: 479567.75\n",
      "Loss after epoch 7: 455987.0\n",
      "Loss after epoch 8: 484794.0\n",
      "Loss after epoch 9: 437055.5\n",
      "Loss after epoch 10: 518887.0\n",
      "Loss after epoch 11: 472786.0\n",
      "Loss after epoch 12: 464981.5\n",
      "Loss after epoch 13: 463605.0\n",
      "Loss after epoch 14: 461153.5\n",
      "Loss after epoch 15: 457488.0\n",
      "Loss after epoch 16: 432646.5\n",
      "Loss after epoch 17: 372884.0\n",
      "Loss after epoch 18: 373370.0\n",
      "Loss after epoch 19: 445745.0\n"
     ]
    },
    {
     "data": {
      "text/plain": [
       "(13588225, 17213180)"
      ]
     },
     "execution_count": 80,
     "metadata": {},
     "output_type": "execute_result"
    }
   ],
   "source": [
    "# Entrenamos el modelo generador de vectores\n",
    "# Utilizamos nuestro callback\n",
    "bbc_w2v_model.train(bbc_sentence_tokens,\n",
    "                    total_examples=bbc_w2v_model.corpus_count,\n",
    "                    epochs=20,\n",
    "                    compute_loss = True,\n",
    "                    callbacks=[callback()]\n",
    "                    )"
   ]
  },
  {
   "cell_type": "markdown",
   "metadata": {},
   "source": [
    "#### 2. Prueba de términos de interés en el espacio de embeddings"
   ]
  },
  {
   "cell_type": "markdown",
   "metadata": {},
   "source": [
    "A continuación se realizarán ensayos sobre determinados términos."
   ]
  },
  {
   "cell_type": "code",
   "execution_count": 82,
   "metadata": {},
   "outputs": [
    {
     "data": {
      "text/plain": [
       "[('war', 0.5154433846473694),\n",
       " ('liberate', 0.42660871148109436),\n",
       " ('defences', 0.422809898853302),\n",
       " ('melitopol', 0.4223330616950989),\n",
       " ('shelling', 0.41680940985679626),\n",
       " ('tigray', 0.41635191440582275),\n",
       " ('steelworks', 0.41454654932022095),\n",
       " ('kharkiv', 0.41412562131881714),\n",
       " ('olena', 0.41406890749931335),\n",
       " (\"'russian\", 0.4071860611438751)]"
      ]
     },
     "execution_count": 82,
     "metadata": {},
     "output_type": "execute_result"
    }
   ],
   "source": [
    "# Palabras que MÁS se relacionan con...:\n",
    "bbc_w2v_model.wv.most_similar(positive=[\"ukraine\"], topn=10)"
   ]
  },
  {
   "cell_type": "markdown",
   "metadata": {},
   "source": [
    "Se observa una muy buena relación entre \"ukraine\" y los términos más similares. Aparece \"war\" como término más similar, lo cual sabemos  es real, puesto que el país se encuentra actualmente en guerra con Rusia (término \"russian\" también aparece como similar). \"melitopol\", \"kharkiv\" son ciudades de Ucrania, y \"olena\" Zelenska es la primera dama de dicho país. \"steelwork\" y sobre todo \"shelling\" son términos asociados con la guerra.\n",
    "\"tigray\" hace referencia a la guerra de Etiopía entre las autoridades regionales y el gobierno federal."
   ]
  },
  {
   "cell_type": "code",
   "execution_count": 98,
   "metadata": {},
   "outputs": [
    {
     "data": {
      "text/plain": [
       "[('luxury', 0.08041912317276001),\n",
       " ('swept', 0.0651436522603035),\n",
       " ('damaging', 0.05489848554134369),\n",
       " ('touring', 0.05391918122768402),\n",
       " ('caught', 0.05375427007675171),\n",
       " ('defends', 0.05148017033934593),\n",
       " ('deaths', 0.04874803498387337),\n",
       " ('officers', 0.0478413961827755),\n",
       " ('among', 0.04738779738545418),\n",
       " ('affected', 0.04504033550620079)]"
      ]
     },
     "execution_count": 98,
     "metadata": {},
     "output_type": "execute_result"
    }
   ],
   "source": [
    "# Palabras que MENOS se relacionan con...:\n",
    "bbc_w2v_model.wv.most_similar(negative=[\"peace\"], topn=10)"
   ]
  },
  {
   "cell_type": "markdown",
   "metadata": {},
   "source": [
    "En cuanto al análisis de los términos que menos se relacionan con \"peace\", podemos ver que hay palabras que claramente se diferencian simplemente por su significado, como ser \"damaging\", \"deaths\", \"affected\" y \"officers\". En cuanto al resto de los términos, la relación opuesta no termina de ser tan clara. Probablemente en el contexto de las noticias empleadas para el entrenamiento, tenga más sentido esa baja relación."
   ]
  },
  {
   "cell_type": "code",
   "execution_count": 99,
   "metadata": {},
   "outputs": [
    {
     "data": {
      "text/plain": [
       "[('thirst', 0.40115973353385925),\n",
       " ('melitopol', 0.39056992530822754),\n",
       " ('palestinians', 0.3868604600429535),\n",
       " ('fatigue', 0.3854544162750244),\n",
       " ('cholera', 0.3854098320007324),\n",
       " ('starvation', 0.3724507689476013),\n",
       " ('prominent', 0.37125056982040405),\n",
       " ('ruptured', 0.36921489238739014),\n",
       " ('donkeys', 0.3670460283756256),\n",
       " ('starving', 0.3641813397407532)]"
      ]
     },
     "execution_count": 99,
     "metadata": {},
     "output_type": "execute_result"
    }
   ],
   "source": [
    "# Palabras que MÁS se relacionan con...:\n",
    "bbc_w2v_model.wv.most_similar(positive=[\"hunger\"], topn=10)"
   ]
  },
  {
   "cell_type": "markdown",
   "metadata": {},
   "source": [
    "Nuevamente vemos una clara relación entre el término \"hunger\" y las palabras más similares. \"thirst\", \"fatigue\", \"cholera\", \"starvation\" y \"starving\" son palabras que claramente se relacionan, simplemente por su significado. \"melitopol\" es una ciudad en Ucrania, en el medio de la guerra, puede que haya problemas de abastecimiento en dicha ciudad. En cuanto a \"palestinians\", sabemos que los palestinos no están recibiendo la debida ayuda humanitaria, por lo que están viviendo una situación de hambruna. Para el resto de los términos, probablemente en el contexto de las noticias tenga mayor sentido la alta relación. No es tan clara a simple vista."
   ]
  },
  {
   "cell_type": "code",
   "execution_count": 85,
   "metadata": {},
   "outputs": [
    {
     "data": {
      "text/plain": [
       "[('strikes', 0.45282885432243347),\n",
       " ('walkout', 0.4338873326778412),\n",
       " ('neu', 0.40010377764701843),\n",
       " (\"nurses'\", 0.3977963626384735),\n",
       " (\"miners'\", 0.3953447937965393),\n",
       " ('ucu', 0.39414140582084656),\n",
       " (\"doctors'\", 0.3924266993999481),\n",
       " (\"actors'\", 0.38877981901168823),\n",
       " ('teachers’', 0.3820103406906128),\n",
       " ('aslef', 0.3806672990322113)]"
      ]
     },
     "execution_count": 85,
     "metadata": {},
     "output_type": "execute_result"
    }
   ],
   "source": [
    "# Palabras que MÁS se relacionan con...:\n",
    "bbc_w2v_model.wv.most_similar(positive=[\"strike\"], topn=10)"
   ]
  },
  {
   "cell_type": "markdown",
   "metadata": {},
   "source": [
    "Las términos que más se relacionan con \"strike\" tienen también una muy buena similaridad. Tanto \"neu\" que es la National Education Union (NEU), como el \"ucu\" que es la University and College Union (UCU) son entidades que representan los derechos de trabajadores de la educación. Luego, se relaciona fuertemente con profesiones; \"nurses\", \"miners\", \"doctors\", \"actors\" y \"teachers\", lo cual es por demás lógico. \"aslef\" es la trade union for train drivers, que también hace muchísimo sentido que tenga relación con \"strike\". \"walkout\" significa salir, que también ha de referirse a cuando un paro concluye."
   ]
  },
  {
   "cell_type": "code",
   "execution_count": 86,
   "metadata": {},
   "outputs": [
    {
     "data": {
      "text/plain": [
       "[('united', 0.512407660484314),\n",
       " (\"united's\", 0.5002356171607971),\n",
       " ('ralf', 0.48592609167099),\n",
       " ('lisandro', 0.474539190530777),\n",
       " ('etihad', 0.46321868896484375),\n",
       " ('arsenal', 0.46205225586891174),\n",
       " ('rangnick', 0.4585292637348175),\n",
       " ('ilkay', 0.44900813698768616),\n",
       " ('£80m', 0.4463768005371094),\n",
       " (\"rashford's\", 0.4380016028881073)]"
      ]
     },
     "execution_count": 86,
     "metadata": {},
     "output_type": "execute_result"
    }
   ],
   "source": [
    "# Palabras que MÁS se relacionan con...:\n",
    "bbc_w2v_model.wv.most_similar(positive=[\"manchester\"], topn=10)"
   ]
  },
  {
   "cell_type": "markdown",
   "metadata": {},
   "source": [
    "El término \"manchester\" está fuertemente relacionado con el fútbol. Vemos los términos \"united\", \"united's\", \"etihad\", \"arsenal\" por el club adversario, y también nombre de jugadores, \"lisandro\" (Martínez), \"ilkay\" (Gündoğan, ex Manchester City), (Marcus) \"rashford's\" y \"ralf\" \"rangnick\" un DT alemán, ex-asesor del Manchester United. \"£80m\" puede deberse a que ha aparecido en más de una noticia referente al Manchester United como valor de un pase importante."
   ]
  },
  {
   "cell_type": "code",
   "execution_count": 87,
   "metadata": {},
   "outputs": [
    {
     "name": "stdout",
     "output_type": "stream",
     "text": [
      "[-0.22957268  0.17279886 -0.25996152 -0.27447563 -0.32720587 -0.3681116\n",
      "  0.32035592 -0.02555706 -0.12288066  0.2812511   0.34995818  0.21692874\n",
      "  0.20834771  0.28817853  0.39218482  0.12521784 -0.03791897 -0.3410448\n",
      "  0.30562314 -0.17240627  0.09445775  0.24977037 -0.51704574  0.23517181\n",
      " -0.3733905   0.4534488   0.01246922  0.2036458  -0.20504987  0.00679487\n",
      "  0.11213224 -0.635061   -0.13854812  0.5062624  -0.06803124 -0.10975668\n",
      "  0.1381057  -0.02341348  0.02849276 -0.2587854   0.11028105 -0.2969246\n",
      " -0.25879818  0.1852365   0.32290792  0.3280002  -0.3014426   0.2522195\n",
      "  0.40830478  0.1739144   0.5483339  -0.18622658  0.00804787  0.0403551\n",
      "  0.32513928  0.2598468  -0.44844738  0.23241788  0.05730254 -0.07371601\n",
      " -0.10393019 -0.14750198 -0.11595561 -0.07195824  0.10890112 -0.21588199\n",
      "  0.655882   -0.14612935 -0.6674625  -0.18093868  0.05891358 -0.17924641\n",
      " -0.25893402  0.13644218  0.11815779  0.47648275 -0.02360324 -0.23107898\n",
      "  0.21909374  0.16192733 -0.07683867 -0.15919973 -0.14469679  0.0706251\n",
      " -0.05947145 -0.40444347 -0.20380901  0.14447625  0.22444904 -0.0192212\n",
      "  0.8170632  -0.34885037  0.59137666 -0.27884683  0.6423265   0.82067376\n",
      " -0.01211593 -0.28083953  0.20069452  0.628083    0.49337348 -0.1067887\n",
      "  0.55595165  0.2597411  -0.31534106 -0.5182753  -0.85895735 -0.05111027\n",
      " -0.3195941   0.02732344 -0.84653825  0.6328735   0.46249592  0.566527\n",
      " -0.39756784  0.24818668 -0.02605503 -0.06694292  0.44962183  0.09518758\n",
      "  0.31293947  0.0950102   0.06287095 -0.22639929 -0.21461213  0.40388173\n",
      " -0.5876904   0.09546383 -0.27493232 -0.10653032  0.111068    0.3234604\n",
      " -0.09327169 -0.30638173  0.5175422  -0.04303327  0.1636273   0.12995133\n",
      "  0.45570397 -0.04535069 -0.00619856 -0.05239442 -0.3877483   0.3172447\n",
      "  0.16483904 -0.14734653 -0.43819323 -0.03851209 -0.02635076 -0.1955641\n",
      " -0.5822078   0.19587009  0.05611017 -0.40374115  0.48600417 -0.04913925\n",
      "  0.30987427 -0.6485985  -0.18348905  0.42563584 -0.23913121  0.2511606\n",
      " -0.51409906  0.23581047 -0.2052963   0.5750671   0.12010757  0.55591327\n",
      "  0.12573195 -0.36154988 -0.20725134  0.08861776  0.48074514 -0.17853445\n",
      "  0.21335477  0.23167299 -0.55756557  0.5333295  -0.2627703   0.5012189\n",
      "  0.03995328  0.18442851  0.09607343  0.05335897 -0.08432299  0.27443412\n",
      " -0.21862856  0.31106558 -0.4697703   0.25982794 -0.4202295  -0.1899094\n",
      " -0.19263929  0.15873888  0.08548045 -0.30011904  0.03072318 -0.12767212\n",
      "  0.4049481   0.40350798  0.28308645 -0.23838389  0.0360163   0.14601459\n",
      " -0.39552033 -0.18652631  0.01660422 -0.10158596  0.48868126 -0.34154585\n",
      "  0.17084263 -0.355892   -0.26075187 -0.274177   -0.02162312 -0.16340363\n",
      "  0.08368042 -0.34817782 -0.19837692 -0.01647753  0.22039922 -0.42620215\n",
      " -0.2323915   0.05884114  0.09763953 -0.09831224 -0.02529762  0.34988\n",
      " -0.03499572  0.3721631   0.5058466   0.01283225 -0.02133802  0.42894527\n",
      " -0.16044348 -0.1484288  -0.22061291  0.08849409  0.3195549   0.12793402\n",
      "  0.25430772 -0.53688496  0.14107208  0.25475317  0.18894054 -0.26140526\n",
      " -0.11600842  0.05864312  0.19912401 -0.02529068 -0.17041141  0.26942068\n",
      " -0.42379865 -0.2741863  -0.73562646  0.17626408 -0.23541364 -0.11789044\n",
      " -0.4540874   0.22174405 -0.07706784  0.07779867 -0.2881772   0.10604791\n",
      " -0.2718939   0.04647598  0.25017145 -0.3534019   0.3638993   0.3908068\n",
      " -0.45157304 -0.32931203  0.23164937 -0.5075611   0.08904586  0.04161625\n",
      "  0.3057487   0.47966462 -0.0577594  -0.1388508   0.12080739  0.1022774\n",
      " -0.02155645  0.27819064 -0.18509603  0.27397993 -0.19890313 -0.15943798\n",
      " -0.49822572  0.04444553  0.47526145  0.10922738 -0.11774125 -0.2005892\n",
      " -0.04533069 -0.12012671 -0.01235438  0.17248507  0.23824352  0.16705407]\n"
     ]
    }
   ],
   "source": [
    "# el método `get_vector` permite obtener los vectores:\n",
    "bbc_vector_war = bbc_w2v_model.wv.get_vector(\"war\")\n",
    "print(bbc_vector_war)"
   ]
  },
  {
   "cell_type": "code",
   "execution_count": 89,
   "metadata": {},
   "outputs": [
    {
     "data": {
      "text/plain": [
       "[('war', 1.0),\n",
       " ('ukraine', 0.5154433846473694),\n",
       " ('klitschko', 0.41299930214881897),\n",
       " ('falklands', 0.41047409176826477),\n",
       " ('volodymyr', 0.40536877512931824),\n",
       " ('lavrov', 0.40242138504981995),\n",
       " ('tigray', 0.3986217975616455),\n",
       " ('ukraine’s', 0.39484021067619324),\n",
       " ('shelling', 0.39351963996887207),\n",
       " ('regiment', 0.3929310142993927)]"
      ]
     },
     "execution_count": 89,
     "metadata": {},
     "output_type": "execute_result"
    }
   ],
   "source": [
    "# el método `most_similar` también permite comparar a partir de vectores\n",
    "bbc_w2v_model.wv.most_similar(bbc_vector_war)"
   ]
  },
  {
   "cell_type": "markdown",
   "metadata": {},
   "source": [
    "En este ejemplo se puede ver nuevamente que la relación es muy buena, simplemente con el análisis hecho anteriormente para el término \"ukraine\" se puede entender. Aparecen términos nuevos como (Vladimir) \"klitschko\", un ex-boxeador profesional ucraniano, \"volodymyr\" Zelenski, presidente de Ucrania y Serguei \"lavrov\", político y diplomático ruso. Probablemente \"falklands\" aparece en referencia a la guerra acontecida en 1982."
   ]
  },
  {
   "cell_type": "markdown",
   "metadata": {},
   "source": [
    "Los ensayos resultan muy satisfactorios. La relación entre los términos es bastante fuerte."
   ]
  },
  {
   "cell_type": "markdown",
   "metadata": {},
   "source": [
    "#### 3. Gráficos"
   ]
  },
  {
   "cell_type": "markdown",
   "metadata": {},
   "source": [
    "A fin de visualizar la agrupación de vectores, se empleará la función reduce_dimensions(...) definida en el ejemplo."
   ]
  },
  {
   "cell_type": "code",
   "execution_count": 90,
   "metadata": {},
   "outputs": [
    {
     "data": {
      "application/vnd.plotly.v1+json": {
       "config": {
        "plotlyServerURL": "https://plot.ly"
       },
       "data": [
        {
         "hovertemplate": "x=%{x}<br>y=%{y}<br>text=%{text}<extra></extra>",
         "legendgroup": "",
         "marker": {
          "color": "#636efa",
          "symbol": "circle"
         },
         "mode": "markers+text",
         "name": "",
         "orientation": "v",
         "showlegend": false,
         "text": [
          "the",
          "to",
          "in",
          "of",
          "a",
          "and",
          "for",
          "on",
          "is",
          "as",
          "at",
          "after",
          "says",
          "are",
          "with",
          "from",
          "by",
          "world",
          "his",
          "was",
          "will",
          "has",
          "over",
          "cup",
          "be",
          "england",
          "their",
          "have",
          "it",
          "how",
          "but",
          "an",
          "new",
          "ukraine",
          "who",
          "uk",
          "what",
          "first",
          "he",
          "her",
          "us",
          "bbc",
          "people",
          "year",
          "out",
          "been",
          "up",
          "league",
          "win",
          "about",
          "war",
          "they",
          "more",
          "not",
          "two",
          "one",
          "say",
          "that",
          "final",
          "against",
          "police",
          "day",
          "city",
          "could",
          "were",
          "years",
          "manchester",
          "1",
          "man",
          "into",
          "its",
          "2022",
          "why",
          "being",
          "time",
          "this",
          "can",
          "she",
          "2023",
          "russian",
          "some",
          "off",
          "former",
          "three",
          "watch",
          "2",
          "home",
          "women's",
          "old",
          "papers",
          "than",
          "when",
          "back",
          "russia",
          "united",
          "all",
          "0",
          "you",
          "which",
          "last",
          "government",
          "had",
          "gaza",
          "now",
          "set",
          "help",
          "british",
          "open",
          "show",
          "family",
          "found",
          "victory",
          "week",
          "wales",
          "no",
          "beat",
          "premier",
          "living",
          "cost",
          "president",
          "killed",
          "four",
          "before",
          "five",
          "liverpool",
          "death",
          "energy",
          "top",
          "during",
          "life",
          "london",
          "six",
          "do",
          "record",
          "star",
          "south",
          "attack",
          "covid",
          "second",
          "down",
          "minister",
          "under",
          "000",
          "israel",
          "champions",
          "days",
          "get",
          "since",
          "team",
          "pay",
          "there",
          "children",
          "title",
          "match",
          "strike",
          "women",
          "next",
          "make",
          "go",
          "election",
          "pm",
          "most",
          "take",
          "3",
          "face",
          "made",
          "i",
          "boss",
          "many",
          "football",
          "group",
          "may",
          "died",
          "we",
          "west",
          "v",
          "your",
          "hit",
          "end",
          "ex",
          "my",
          "france",
          "so",
          "king",
          "court",
          "chelsea",
          "best",
          "strikes",
          "or",
          "10",
          "sunak",
          "if",
          "still",
          "said",
          "lead",
          "round",
          "rishi",
          "seven",
          "australia",
          "while"
         ],
         "type": "scatter",
         "x": [
          4.507035255432129,
          16.360546112060547,
          4.756898880004883,
          4.688762187957764,
          4.49040412902832,
          4.824338912963867,
          4.763772487640381,
          4.677675724029541,
          -1.565107822418213,
          -3.3511507511138916,
          4.785792350769043,
          -4.622076988220215,
          4.761462688446045,
          32.53974914550781,
          4.750991344451904,
          4.774452209472656,
          -2.6724307537078857,
          -21.819311141967773,
          -12.547319412231445,
          -0.7885205745697021,
          15.95539379119873,
          -12.153525352478027,
          4.699941158294678,
          -19.86132049560547,
          38.45341873168945,
          -29.207225799560547,
          -14.717035293579102,
          33.7417106628418,
          33.791324615478516,
          -5.853515148162842,
          7.063493728637695,
          -2.2226548194885254,
          -10.704983711242676,
          20.748497009277344,
          -4.964048862457275,
          35.29043197631836,
          2.4364516735076904,
          -14.737615585327148,
          0.3621263802051544,
          -1.8064348697662354,
          2.1635754108428955,
          -9.063687324523926,
          14.156717300415039,
          -4.633174896240234,
          3.6430485248565674,
          36.505035400390625,
          -3.9566562175750732,
          -34.01043701171875,
          -29.242496490478516,
          22.993682861328125,
          20.62404441833496,
          35.38900375366211,
          11.961684226989746,
          14.336134910583496,
          -0.5132526159286499,
          -15.541049003601074,
          22.08123207092285,
          3.859088182449341,
          -22.86613655090332,
          -26.700164794921875,
          -1.4147218465805054,
          -23.108442306518555,
          -33.96662902832031,
          16.7838077545166,
          0.5522308349609375,
          2.886672258377075,
          -36.00542068481445,
          -28.532535552978516,
          -3.7857909202575684,
          9.759353637695312,
          17.550010681152344,
          -21.117006301879883,
          12.643275260925293,
          -3.4114482402801514,
          -20.863332748413086,
          0.22721603512763977,
          24.177480697631836,
          -1.9765453338623047,
          -28.55475425720215,
          21.373199462890625,
          22.493810653686523,
          -19.458887100219727,
          -1.5129292011260986,
          -13.79145336151123,
          -28.22599983215332,
          -29.176620483398438,
          -3.8286595344543457,
          -22.599889755249023,
          -5.393686294555664,
          18.71685218811035,
          11.952412605285645,
          12.628726959228516,
          16.13198471069336,
          22.86261558532715,
          -34.672237396240234,
          -13.369719505310059,
          -29.236541748046875,
          17.409122467041016,
          1.0139315128326416,
          -22.502347946166992,
          35.02760314941406,
          7.528957843780518,
          15.995497703552246,
          14.678923606872559,
          16.979562759399414,
          25.720746994018555,
          4.183234214782715,
          -34.02836227416992,
          -5.040682792663574,
          -5.412397384643555,
          4.2650675773620605,
          -29.29725456237793,
          -37.08180236816406,
          -14.27426815032959,
          15.400712966918945,
          -26.421459197998047,
          -34.030113220214844,
          37.78471374511719,
          37.43460464477539,
          -1.0674269199371338,
          11.789552688598633,
          -17.336103439331055,
          8.26893424987793,
          -3.7844045162200928,
          -33.886924743652344,
          -0.09092395752668381,
          32.11136245727539,
          -18.387407302856445,
          5.140702247619629,
          -5.351718425750732,
          -2.158707857131958,
          -27.256778717041016,
          31.963790893554688,
          -23.66876792907715,
          -10.60218334197998,
          -18.436994552612305,
          16.444887161254883,
          27.75785255432129,
          -27.55762481689453,
          0.11977633833885193,
          10.277587890625,
          -14.943978309631348,
          33.13007736206055,
          16.227405548095703,
          -23.37616729736328,
          36.216285705566406,
          24.579076766967773,
          3.366337299346924,
          -23.079233169555664,
          34.12805938720703,
          12.855862617492676,
          3.615708351135254,
          -29.454755783081055,
          -17.230304718017578,
          33.256412506103516,
          14.10980224609375,
          -2.288917064666748,
          20.777511596679688,
          -13.24904727935791,
          2.5881590843200684,
          5.424796104431152,
          -13.043957710266113,
          38.9379768371582,
          -28.91139793395996,
          28.76882553100586,
          13.609485626220703,
          -0.4374198317527771,
          -38.018218994140625,
          18.514606475830078,
          -16.82856559753418,
          -6.8628082275390625,
          15.304574966430664,
          -0.17892825603485107,
          5.554264068603516,
          -33.985626220703125,
          -28.58681297302246,
          13.290450096130371,
          16.113954544067383,
          -26.85191535949707,
          -5.548170566558838,
          0.05616790056228638,
          -25.799209594726562,
          23.029577255249023,
          -11.568965911865234,
          9.805878639221191,
          -36.834346771240234,
          -17.09908676147461,
          33.478057861328125,
          19.896377563476562,
          -23.823081970214844,
          11.778751373291016,
          30.58095359802246,
          -17.107839584350586,
          5.131477355957031,
          19.813459396362305,
          -32.23490905761719,
          11.7619047164917,
          -4.941397666931152,
          -29.335628509521484,
          -2.3743181228637695
         ],
         "xaxis": "x",
         "y": [
          5.979669094085693,
          -3.564460515975952,
          6.408639430999756,
          6.1712260246276855,
          6.487746238708496,
          6.003486633300781,
          6.1808857917785645,
          6.194210529327393,
          24.61971664428711,
          26.33085060119629,
          6.451593399047852,
          28.31972312927246,
          -14.54866886138916,
          20.06905174255371,
          6.2821364402771,
          6.26207160949707,
          26.179012298583984,
          8.304938316345215,
          16.42795181274414,
          -8.216924667358398,
          -3.6878581047058105,
          -24.25485610961914,
          6.799950122833252,
          6.129027843475342,
          17.208024978637695,
          -1.9509072303771973,
          21.40723419189453,
          22.48424530029297,
          20.570171356201172,
          22.06774139404297,
          34.922508239746094,
          25.363487243652344,
          5.872428894042969,
          17.376243591308594,
          -12.649219512939453,
          14.73553466796875,
          -1.1147308349609375,
          7.999518394470215,
          -24.611461639404297,
          0.5178942084312439,
          35.094627380371094,
          35.53842544555664,
          10.811415672302246,
          10.013736724853516,
          6.498744010925293,
          8.665508270263672,
          14.062841415405273,
          19.05135726928711,
          13.004157066345215,
          -23.768495559692383,
          17.142139434814453,
          17.984460830688477,
          34.67273712158203,
          -9.559932708740234,
          24.525144577026367,
          8.100213050842285,
          -5.036226749420166,
          7.144428253173828,
          2.459066390991211,
          5.087981224060059,
          30.062557220458984,
          3.823403835296631,
          24.16729164123535,
          -3.5997612476348877,
          8.552350044250488,
          -11.884127616882324,
          12.276796340942383,
          13.994916915893555,
          -10.840304374694824,
          10.412212371826172,
          34.4292106628418,
          0.9780516624450684,
          -2.0248537063598633,
          -27.87851905822754,
          6.691989898681641,
          32.03837966918945,
          -1.811522126197815,
          -7.840012073516846,
          -10.22638988494873,
          20.926050186157227,
          -4.765251159667969,
          17.069232940673828,
          -28.475215911865234,
          20.8701229095459,
          2.4280190467834473,
          13.721823692321777,
          15.972407341003418,
          -18.43187713623047,
          -4.868675708770752,
          -29.26706314086914,
          34.686927795410156,
          -2.034061908721924,
          2.8321361541748047,
          15.938031196594238,
          13.23085880279541,
          18.859771728515625,
          13.66231632232666,
          -3.7131447792053223,
          27.132320404052734,
          21.923547744750977,
          1.0826903581619263,
          -13.361620903015137,
          15.759160041809082,
          6.296484470367432,
          -4.568387985229492,
          -2.4495956897735596,
          1.956101417541504,
          -10.66675853729248,
          4.145679950714111,
          11.855713844299316,
          14.613018035888672,
          13.045735359191895,
          3.9345154762268066,
          9.553980827331543,
          -11.204182624816895,
          4.361655235290527,
          19.067319869995117,
          1.6507209539413452,
          1.5613991022109985,
          -29.20114517211914,
          30.71944236755371,
          9.421637535095215,
          12.579463005065918,
          9.511178016662598,
          11.523273468017578,
          -12.819602012634277,
          4.719428539276123,
          7.107474327087402,
          8.012571334838867,
          7.847718238830566,
          21.453903198242188,
          2.362913131713867,
          13.454337120056152,
          0.22873613238334656,
          -4.394192218780518,
          17.964298248291016,
          20.1168270111084,
          -6.3975324630737305,
          5.2383904457092285,
          5.963013172149658,
          -34.50016403198242,
          25.11509132385254,
          -3.572087526321411,
          15.70881175994873,
          8.743897438049316,
          -10.948312759399414,
          -0.44287049770355225,
          4.692049026489258,
          -22.774141311645508,
          -9.990680694580078,
          -1.192831039428711,
          0.5413581728935242,
          -19.976036071777344,
          3.96698260307312,
          -13.953765869140625,
          9.805309295654297,
          38.16554641723633,
          4.8666582107543945,
          26.29024314880371,
          -31.41718101501465,
          -33.11517333984375,
          19.921749114990234,
          -12.868077278137207,
          13.70549488067627,
          -8.416135787963867,
          -5.764243125915527,
          -7.0591535568237305,
          -0.7897348403930664,
          27.44888687133789,
          -6.632845878601074,
          20.478487014770508,
          -4.722396373748779,
          -2.1912240982055664,
          -3.4582467079162598,
          14.720830917358398,
          1.4862236976623535,
          -1.9527530670166016,
          27.28849220275879,
          25.676284790039062,
          -21.282917022705078,
          -7.661428928375244,
          10.606645584106445,
          15.009231567382812,
          10.673343658447266,
          -23.155807495117188,
          10.096776008605957,
          -0.5106802582740784,
          -13.53695011138916,
          -4.934726238250732,
          24.073474884033203,
          -33.84339141845703,
          -10.146888732910156,
          -32.971920013427734,
          -14.566951751708984,
          -30.113643646240234,
          -11.055374145507812,
          -33.823055267333984,
          32.72920227050781,
          -2.6923654079437256,
          16.949268341064453
         ],
         "yaxis": "y"
        }
       ],
       "layout": {
        "legend": {
         "tracegroupgap": 0
        },
        "margin": {
         "t": 60
        },
        "template": {
         "data": {
          "bar": [
           {
            "error_x": {
             "color": "#2a3f5f"
            },
            "error_y": {
             "color": "#2a3f5f"
            },
            "marker": {
             "line": {
              "color": "#E5ECF6",
              "width": 0.5
             },
             "pattern": {
              "fillmode": "overlay",
              "size": 10,
              "solidity": 0.2
             }
            },
            "type": "bar"
           }
          ],
          "barpolar": [
           {
            "marker": {
             "line": {
              "color": "#E5ECF6",
              "width": 0.5
             },
             "pattern": {
              "fillmode": "overlay",
              "size": 10,
              "solidity": 0.2
             }
            },
            "type": "barpolar"
           }
          ],
          "carpet": [
           {
            "aaxis": {
             "endlinecolor": "#2a3f5f",
             "gridcolor": "white",
             "linecolor": "white",
             "minorgridcolor": "white",
             "startlinecolor": "#2a3f5f"
            },
            "baxis": {
             "endlinecolor": "#2a3f5f",
             "gridcolor": "white",
             "linecolor": "white",
             "minorgridcolor": "white",
             "startlinecolor": "#2a3f5f"
            },
            "type": "carpet"
           }
          ],
          "choropleth": [
           {
            "colorbar": {
             "outlinewidth": 0,
             "ticks": ""
            },
            "type": "choropleth"
           }
          ],
          "contour": [
           {
            "colorbar": {
             "outlinewidth": 0,
             "ticks": ""
            },
            "colorscale": [
             [
              0,
              "#0d0887"
             ],
             [
              0.1111111111111111,
              "#46039f"
             ],
             [
              0.2222222222222222,
              "#7201a8"
             ],
             [
              0.3333333333333333,
              "#9c179e"
             ],
             [
              0.4444444444444444,
              "#bd3786"
             ],
             [
              0.5555555555555556,
              "#d8576b"
             ],
             [
              0.6666666666666666,
              "#ed7953"
             ],
             [
              0.7777777777777778,
              "#fb9f3a"
             ],
             [
              0.8888888888888888,
              "#fdca26"
             ],
             [
              1,
              "#f0f921"
             ]
            ],
            "type": "contour"
           }
          ],
          "contourcarpet": [
           {
            "colorbar": {
             "outlinewidth": 0,
             "ticks": ""
            },
            "type": "contourcarpet"
           }
          ],
          "heatmap": [
           {
            "colorbar": {
             "outlinewidth": 0,
             "ticks": ""
            },
            "colorscale": [
             [
              0,
              "#0d0887"
             ],
             [
              0.1111111111111111,
              "#46039f"
             ],
             [
              0.2222222222222222,
              "#7201a8"
             ],
             [
              0.3333333333333333,
              "#9c179e"
             ],
             [
              0.4444444444444444,
              "#bd3786"
             ],
             [
              0.5555555555555556,
              "#d8576b"
             ],
             [
              0.6666666666666666,
              "#ed7953"
             ],
             [
              0.7777777777777778,
              "#fb9f3a"
             ],
             [
              0.8888888888888888,
              "#fdca26"
             ],
             [
              1,
              "#f0f921"
             ]
            ],
            "type": "heatmap"
           }
          ],
          "heatmapgl": [
           {
            "colorbar": {
             "outlinewidth": 0,
             "ticks": ""
            },
            "colorscale": [
             [
              0,
              "#0d0887"
             ],
             [
              0.1111111111111111,
              "#46039f"
             ],
             [
              0.2222222222222222,
              "#7201a8"
             ],
             [
              0.3333333333333333,
              "#9c179e"
             ],
             [
              0.4444444444444444,
              "#bd3786"
             ],
             [
              0.5555555555555556,
              "#d8576b"
             ],
             [
              0.6666666666666666,
              "#ed7953"
             ],
             [
              0.7777777777777778,
              "#fb9f3a"
             ],
             [
              0.8888888888888888,
              "#fdca26"
             ],
             [
              1,
              "#f0f921"
             ]
            ],
            "type": "heatmapgl"
           }
          ],
          "histogram": [
           {
            "marker": {
             "pattern": {
              "fillmode": "overlay",
              "size": 10,
              "solidity": 0.2
             }
            },
            "type": "histogram"
           }
          ],
          "histogram2d": [
           {
            "colorbar": {
             "outlinewidth": 0,
             "ticks": ""
            },
            "colorscale": [
             [
              0,
              "#0d0887"
             ],
             [
              0.1111111111111111,
              "#46039f"
             ],
             [
              0.2222222222222222,
              "#7201a8"
             ],
             [
              0.3333333333333333,
              "#9c179e"
             ],
             [
              0.4444444444444444,
              "#bd3786"
             ],
             [
              0.5555555555555556,
              "#d8576b"
             ],
             [
              0.6666666666666666,
              "#ed7953"
             ],
             [
              0.7777777777777778,
              "#fb9f3a"
             ],
             [
              0.8888888888888888,
              "#fdca26"
             ],
             [
              1,
              "#f0f921"
             ]
            ],
            "type": "histogram2d"
           }
          ],
          "histogram2dcontour": [
           {
            "colorbar": {
             "outlinewidth": 0,
             "ticks": ""
            },
            "colorscale": [
             [
              0,
              "#0d0887"
             ],
             [
              0.1111111111111111,
              "#46039f"
             ],
             [
              0.2222222222222222,
              "#7201a8"
             ],
             [
              0.3333333333333333,
              "#9c179e"
             ],
             [
              0.4444444444444444,
              "#bd3786"
             ],
             [
              0.5555555555555556,
              "#d8576b"
             ],
             [
              0.6666666666666666,
              "#ed7953"
             ],
             [
              0.7777777777777778,
              "#fb9f3a"
             ],
             [
              0.8888888888888888,
              "#fdca26"
             ],
             [
              1,
              "#f0f921"
             ]
            ],
            "type": "histogram2dcontour"
           }
          ],
          "mesh3d": [
           {
            "colorbar": {
             "outlinewidth": 0,
             "ticks": ""
            },
            "type": "mesh3d"
           }
          ],
          "parcoords": [
           {
            "line": {
             "colorbar": {
              "outlinewidth": 0,
              "ticks": ""
             }
            },
            "type": "parcoords"
           }
          ],
          "pie": [
           {
            "automargin": true,
            "type": "pie"
           }
          ],
          "scatter": [
           {
            "fillpattern": {
             "fillmode": "overlay",
             "size": 10,
             "solidity": 0.2
            },
            "type": "scatter"
           }
          ],
          "scatter3d": [
           {
            "line": {
             "colorbar": {
              "outlinewidth": 0,
              "ticks": ""
             }
            },
            "marker": {
             "colorbar": {
              "outlinewidth": 0,
              "ticks": ""
             }
            },
            "type": "scatter3d"
           }
          ],
          "scattercarpet": [
           {
            "marker": {
             "colorbar": {
              "outlinewidth": 0,
              "ticks": ""
             }
            },
            "type": "scattercarpet"
           }
          ],
          "scattergeo": [
           {
            "marker": {
             "colorbar": {
              "outlinewidth": 0,
              "ticks": ""
             }
            },
            "type": "scattergeo"
           }
          ],
          "scattergl": [
           {
            "marker": {
             "colorbar": {
              "outlinewidth": 0,
              "ticks": ""
             }
            },
            "type": "scattergl"
           }
          ],
          "scattermapbox": [
           {
            "marker": {
             "colorbar": {
              "outlinewidth": 0,
              "ticks": ""
             }
            },
            "type": "scattermapbox"
           }
          ],
          "scatterpolar": [
           {
            "marker": {
             "colorbar": {
              "outlinewidth": 0,
              "ticks": ""
             }
            },
            "type": "scatterpolar"
           }
          ],
          "scatterpolargl": [
           {
            "marker": {
             "colorbar": {
              "outlinewidth": 0,
              "ticks": ""
             }
            },
            "type": "scatterpolargl"
           }
          ],
          "scatterternary": [
           {
            "marker": {
             "colorbar": {
              "outlinewidth": 0,
              "ticks": ""
             }
            },
            "type": "scatterternary"
           }
          ],
          "surface": [
           {
            "colorbar": {
             "outlinewidth": 0,
             "ticks": ""
            },
            "colorscale": [
             [
              0,
              "#0d0887"
             ],
             [
              0.1111111111111111,
              "#46039f"
             ],
             [
              0.2222222222222222,
              "#7201a8"
             ],
             [
              0.3333333333333333,
              "#9c179e"
             ],
             [
              0.4444444444444444,
              "#bd3786"
             ],
             [
              0.5555555555555556,
              "#d8576b"
             ],
             [
              0.6666666666666666,
              "#ed7953"
             ],
             [
              0.7777777777777778,
              "#fb9f3a"
             ],
             [
              0.8888888888888888,
              "#fdca26"
             ],
             [
              1,
              "#f0f921"
             ]
            ],
            "type": "surface"
           }
          ],
          "table": [
           {
            "cells": {
             "fill": {
              "color": "#EBF0F8"
             },
             "line": {
              "color": "white"
             }
            },
            "header": {
             "fill": {
              "color": "#C8D4E3"
             },
             "line": {
              "color": "white"
             }
            },
            "type": "table"
           }
          ]
         },
         "layout": {
          "annotationdefaults": {
           "arrowcolor": "#2a3f5f",
           "arrowhead": 0,
           "arrowwidth": 1
          },
          "autotypenumbers": "strict",
          "coloraxis": {
           "colorbar": {
            "outlinewidth": 0,
            "ticks": ""
           }
          },
          "colorscale": {
           "diverging": [
            [
             0,
             "#8e0152"
            ],
            [
             0.1,
             "#c51b7d"
            ],
            [
             0.2,
             "#de77ae"
            ],
            [
             0.3,
             "#f1b6da"
            ],
            [
             0.4,
             "#fde0ef"
            ],
            [
             0.5,
             "#f7f7f7"
            ],
            [
             0.6,
             "#e6f5d0"
            ],
            [
             0.7,
             "#b8e186"
            ],
            [
             0.8,
             "#7fbc41"
            ],
            [
             0.9,
             "#4d9221"
            ],
            [
             1,
             "#276419"
            ]
           ],
           "sequential": [
            [
             0,
             "#0d0887"
            ],
            [
             0.1111111111111111,
             "#46039f"
            ],
            [
             0.2222222222222222,
             "#7201a8"
            ],
            [
             0.3333333333333333,
             "#9c179e"
            ],
            [
             0.4444444444444444,
             "#bd3786"
            ],
            [
             0.5555555555555556,
             "#d8576b"
            ],
            [
             0.6666666666666666,
             "#ed7953"
            ],
            [
             0.7777777777777778,
             "#fb9f3a"
            ],
            [
             0.8888888888888888,
             "#fdca26"
            ],
            [
             1,
             "#f0f921"
            ]
           ],
           "sequentialminus": [
            [
             0,
             "#0d0887"
            ],
            [
             0.1111111111111111,
             "#46039f"
            ],
            [
             0.2222222222222222,
             "#7201a8"
            ],
            [
             0.3333333333333333,
             "#9c179e"
            ],
            [
             0.4444444444444444,
             "#bd3786"
            ],
            [
             0.5555555555555556,
             "#d8576b"
            ],
            [
             0.6666666666666666,
             "#ed7953"
            ],
            [
             0.7777777777777778,
             "#fb9f3a"
            ],
            [
             0.8888888888888888,
             "#fdca26"
            ],
            [
             1,
             "#f0f921"
            ]
           ]
          },
          "colorway": [
           "#636efa",
           "#EF553B",
           "#00cc96",
           "#ab63fa",
           "#FFA15A",
           "#19d3f3",
           "#FF6692",
           "#B6E880",
           "#FF97FF",
           "#FECB52"
          ],
          "font": {
           "color": "#2a3f5f"
          },
          "geo": {
           "bgcolor": "white",
           "lakecolor": "white",
           "landcolor": "#E5ECF6",
           "showlakes": true,
           "showland": true,
           "subunitcolor": "white"
          },
          "hoverlabel": {
           "align": "left"
          },
          "hovermode": "closest",
          "mapbox": {
           "style": "light"
          },
          "paper_bgcolor": "white",
          "plot_bgcolor": "#E5ECF6",
          "polar": {
           "angularaxis": {
            "gridcolor": "white",
            "linecolor": "white",
            "ticks": ""
           },
           "bgcolor": "#E5ECF6",
           "radialaxis": {
            "gridcolor": "white",
            "linecolor": "white",
            "ticks": ""
           }
          },
          "scene": {
           "xaxis": {
            "backgroundcolor": "#E5ECF6",
            "gridcolor": "white",
            "gridwidth": 2,
            "linecolor": "white",
            "showbackground": true,
            "ticks": "",
            "zerolinecolor": "white"
           },
           "yaxis": {
            "backgroundcolor": "#E5ECF6",
            "gridcolor": "white",
            "gridwidth": 2,
            "linecolor": "white",
            "showbackground": true,
            "ticks": "",
            "zerolinecolor": "white"
           },
           "zaxis": {
            "backgroundcolor": "#E5ECF6",
            "gridcolor": "white",
            "gridwidth": 2,
            "linecolor": "white",
            "showbackground": true,
            "ticks": "",
            "zerolinecolor": "white"
           }
          },
          "shapedefaults": {
           "line": {
            "color": "#2a3f5f"
           }
          },
          "ternary": {
           "aaxis": {
            "gridcolor": "white",
            "linecolor": "white",
            "ticks": ""
           },
           "baxis": {
            "gridcolor": "white",
            "linecolor": "white",
            "ticks": ""
           },
           "bgcolor": "#E5ECF6",
           "caxis": {
            "gridcolor": "white",
            "linecolor": "white",
            "ticks": ""
           }
          },
          "title": {
           "x": 0.05
          },
          "xaxis": {
           "automargin": true,
           "gridcolor": "white",
           "linecolor": "white",
           "ticks": "",
           "title": {
            "standoff": 15
           },
           "zerolinecolor": "white",
           "zerolinewidth": 2
          },
          "yaxis": {
           "automargin": true,
           "gridcolor": "white",
           "linecolor": "white",
           "ticks": "",
           "title": {
            "standoff": 15
           },
           "zerolinecolor": "white",
           "zerolinewidth": 2
          }
         }
        },
        "xaxis": {
         "anchor": "y",
         "domain": [
          0,
          1
         ],
         "title": {
          "text": "x"
         }
        },
        "yaxis": {
         "anchor": "x",
         "domain": [
          0,
          1
         ],
         "title": {
          "text": "y"
         }
        }
       }
      }
     },
     "metadata": {},
     "output_type": "display_data"
    }
   ],
   "source": [
    "# Graficar los embeddings en 2D\n",
    "import plotly.graph_objects as go\n",
    "import plotly.express as px\n",
    "\n",
    "bbc_vecs, bbc_labels = reduce_dimensions(bbc_w2v_model)\n",
    "\n",
    "MAX_WORDS=200\n",
    "fig = px.scatter(x=bbc_vecs[:MAX_WORDS,0], y=bbc_vecs[:MAX_WORDS,1], text=bbc_labels[:MAX_WORDS])\n",
    "# fig.show(renderer=\"colab\") # esto para plotly en colab\n",
    "fig.show()"
   ]
  },
  {
   "cell_type": "code",
   "execution_count": 91,
   "metadata": {},
   "outputs": [
    {
     "data": {
      "application/vnd.plotly.v1+json": {
       "config": {
        "plotlyServerURL": "https://plot.ly"
       },
       "data": [
        {
         "hovertemplate": "x=%{x}<br>y=%{y}<br>z=%{z}<br>text=%{text}<extra></extra>",
         "legendgroup": "",
         "marker": {
          "color": "#636efa",
          "size": 2,
          "symbol": "circle"
         },
         "mode": "markers+text",
         "name": "",
         "scene": "scene",
         "showlegend": false,
         "text": [
          "the",
          "to",
          "in",
          "of",
          "a",
          "and",
          "for",
          "on",
          "is",
          "as",
          "at",
          "after",
          "says",
          "are",
          "with",
          "from",
          "by",
          "world",
          "his",
          "was",
          "will",
          "has",
          "over",
          "cup",
          "be",
          "england",
          "their",
          "have",
          "it",
          "how",
          "but",
          "an",
          "new",
          "ukraine",
          "who",
          "uk",
          "what",
          "first",
          "he",
          "her",
          "us",
          "bbc",
          "people",
          "year",
          "out",
          "been",
          "up",
          "league",
          "win",
          "about",
          "war",
          "they",
          "more",
          "not",
          "two",
          "one",
          "say",
          "that",
          "final",
          "against",
          "police",
          "day",
          "city",
          "could",
          "were",
          "years",
          "manchester",
          "1",
          "man",
          "into",
          "its",
          "2022",
          "why",
          "being",
          "time",
          "this",
          "can",
          "she",
          "2023",
          "russian",
          "some",
          "off",
          "former",
          "three",
          "watch",
          "2",
          "home",
          "women's",
          "old",
          "papers",
          "than",
          "when",
          "back",
          "russia",
          "united",
          "all",
          "0",
          "you",
          "which",
          "last",
          "government",
          "had",
          "gaza",
          "now",
          "set",
          "help",
          "british",
          "open",
          "show",
          "family",
          "found",
          "victory",
          "week",
          "wales",
          "no",
          "beat",
          "premier",
          "living",
          "cost",
          "president",
          "killed",
          "four",
          "before",
          "five",
          "liverpool",
          "death",
          "energy",
          "top",
          "during",
          "life",
          "london",
          "six",
          "do",
          "record",
          "star",
          "south",
          "attack",
          "covid",
          "second",
          "down",
          "minister",
          "under",
          "000",
          "israel",
          "champions",
          "days",
          "get",
          "since",
          "team",
          "pay",
          "there",
          "children",
          "title",
          "match",
          "strike",
          "women",
          "next",
          "make",
          "go",
          "election",
          "pm",
          "most",
          "take",
          "3",
          "face",
          "made",
          "i",
          "boss",
          "many",
          "football",
          "group",
          "may",
          "died",
          "we",
          "west",
          "v",
          "your",
          "hit",
          "end",
          "ex",
          "my",
          "france",
          "so",
          "king",
          "court",
          "chelsea",
          "best",
          "strikes",
          "or",
          "10",
          "sunak",
          "if",
          "still",
          "said",
          "lead",
          "round",
          "rishi",
          "seven",
          "australia",
          "while"
         ],
         "type": "scatter3d",
         "x": [
          15.222343444824219,
          19.320085525512695,
          18.809547424316406,
          19.726388931274414,
          14.704402923583984,
          21.42904281616211,
          17.99344825744629,
          20.409151077270508,
          24.157176971435547,
          16.87290382385254,
          19.15131187438965,
          18.04705810546875,
          13.46801471710205,
          22.224811553955078,
          17.12443733215332,
          59.98138427734375,
          22.273956298828125,
          8.105796813964844,
          -36.42570114135742,
          -25.390867233276367,
          20.481449127197266,
          -54.7567253112793,
          46.97976303100586,
          13.323853492736816,
          51.299705505371094,
          -13.142444610595703,
          37.900352478027344,
          -17.926122665405273,
          57.45530319213867,
          25.2396297454834,
          57.20454025268555,
          13.250188827514648,
          59.65782165527344,
          -11.041254043579102,
          -32.831993103027344,
          43.63274002075195,
          10.438672065734863,
          -14.640091896057129,
          -24.2452449798584,
          -53.37574005126953,
          -53.762142181396484,
          -10.114665031433105,
          -20.98128890991211,
          -27.764612197875977,
          -24.706470489501953,
          -10.393162727355957,
          47.866004943847656,
          29.45244026184082,
          13.763935089111328,
          9.143697738647461,
          -12.302324295043945,
          14.473776817321777,
          34.28367233276367,
          9.842755317687988,
          16.523435592651367,
          17.059768676757812,
          11.36660385131836,
          46.31036376953125,
          16.683218002319336,
          -1.6189998388290405,
          -39.10498046875,
          26.34563446044922,
          37.47227096557617,
          16.02508544921875,
          -21.13479232788086,
          -37.166343688964844,
          31.3275089263916,
          14.720075607299805,
          -35.48920822143555,
          10.003609657287598,
          -41.48378372192383,
          16.032400131225586,
          22.611766815185547,
          -4.246516227722168,
          -16.16913604736328,
          -57.468685150146484,
          17.837467193603516,
          -22.30511474609375,
          11.768611907958984,
          -15.820347785949707,
          12.073592185974121,
          -7.007357120513916,
          26.43246841430664,
          36.4845085144043,
          7.340257167816162,
          17.600303649902344,
          -14.673521041870117,
          19.44752311706543,
          -37.092159271240234,
          43.6228141784668,
          35.71428680419922,
          22.331558227539062,
          52.720130920410156,
          -1.4587246179580688,
          33.89300537109375,
          -37.68013381958008,
          18.728137969970703,
          12.948613166809082,
          15.099553108215332,
          1.4239455461502075,
          33.670284271240234,
          -23.356731414794922,
          -24.016454696655273,
          7.22585391998291,
          15.715510368347168,
          7.297031879425049,
          -25.0664005279541,
          3.6864781379699707,
          -22.979825973510742,
          -30.68366050720215,
          -24.33690643310547,
          17.634235382080078,
          29.685428619384766,
          41.29927444458008,
          23.52934455871582,
          -4.61866569519043,
          27.982681274414062,
          39.08053970336914,
          38.459815979003906,
          29.75760269165039,
          -46.797821044921875,
          39.02397537231445,
          -30.954246520996094,
          19.125778198242188,
          33.187313079833984,
          -45.61402893066406,
          42.938453674316406,
          54.73263931274414,
          -27.027938842773438,
          -58.14305114746094,
          -25.823209762573242,
          -6.85215425491333,
          20.941652297973633,
          -18.194883346557617,
          -9.219650268554688,
          25.812854766845703,
          -18.83930778503418,
          23.979310989379883,
          4.510992527008057,
          -22.908096313476562,
          19.40336036682129,
          38.748695373535156,
          30.912992477416992,
          -24.39682960510254,
          12.411825180053711,
          -41.12067794799805,
          51.03776168823242,
          26.50634002685547,
          3.431817054748535,
          -40.36250305175781,
          25.480287551879883,
          -23.166553497314453,
          7.725273609161377,
          21.486242294311523,
          -49.215850830078125,
          -18.583885192871094,
          58.527950286865234,
          44.6568489074707,
          55.18776321411133,
          28.04261016845703,
          29.519678115844727,
          21.009395599365234,
          43.72206497192383,
          15.417470932006836,
          23.773969650268555,
          7.659785270690918,
          -23.420135498046875,
          36.36892318725586,
          0.3910205066204071,
          -11.16452693939209,
          54.72964859008789,
          17.57771110534668,
          -28.19080924987793,
          -11.15191650390625,
          30.809904098510742,
          1.9166101217269897,
          26.143407821655273,
          11.778173446655273,
          35.09122848510742,
          -38.383338928222656,
          -26.58323860168457,
          2.072007656097412,
          3.715233325958252,
          -6.6769633293151855,
          -24.183813095092773,
          35.174346923828125,
          5.221200466156006,
          -25.2194766998291,
          -10.16567611694336,
          15.810835838317871,
          31.38614273071289,
          23.254920959472656,
          48.48828887939453,
          11.250201225280762,
          49.18754196166992,
          10.143428802490234,
          31.37263298034668,
          35.04682922363281,
          -11.956886291503906,
          -16.071205139160156
         ],
         "y": [
          0.42781537771224976,
          2.1589038372039795,
          -0.7450742721557617,
          1.3078776597976685,
          -1.3794350624084473,
          1.5161263942718506,
          2.174791097640991,
          -1.1837666034698486,
          2.014608144760132,
          -0.11745153367519379,
          -1.9634195566177368,
          -2.90913987159729,
          -2.053537130355835,
          4.452032566070557,
          0.34090420603752136,
          14.017354965209961,
          -1.8474421501159668,
          -22.990129470825195,
          -40.3443603515625,
          -9.589195251464844,
          1.4561561346054077,
          -23.74056053161621,
          -10.42523193359375,
          -21.374908447265625,
          17.5580997467041,
          -42.1696662902832,
          -34.67673110961914,
          44.98573684692383,
          17.764564514160156,
          2.2404825687408447,
          11.948392868041992,
          0.6257745623588562,
          -14.538201332092285,
          32.33164978027344,
          -2.2297885417938232,
          28.801294326782227,
          8.603415489196777,
          -54.731143951416016,
          13.968461990356445,
          9.081799507141113,
          9.312335014343262,
          24.168067932128906,
          30.93181037902832,
          -31.111021041870117,
          -34.39702224731445,
          64.23960876464844,
          2.3226962089538574,
          -26.00727081298828,
          -48.71216583251953,
          -13.955588340759277,
          34.56087112426758,
          2.038074493408203,
          3.640190601348877,
          10.802924156188965,
          7.49943208694458,
          -25.165019989013672,
          27.72342300415039,
          20.946950912475586,
          -30.09129524230957,
          -50.06775665283203,
          -14.135793685913086,
          -18.87220573425293,
          -39.43441390991211,
          5.992431640625,
          -5.533814907073975,
          19.96385383605957,
          -21.309019088745117,
          -32.19357681274414,
          -11.504480361938477,
          -0.11421791464090347,
          47.71845245361328,
          -16.272737503051758,
          1.9056488275527954,
          -9.541279792785645,
          -36.510765075683594,
          0.06615474820137024,
          44.79249572753906,
          -8.82181453704834,
          -32.50149917602539,
          31.333993911743164,
          24.728788375854492,
          -31.435028076171875,
          -14.966215133666992,
          -16.288991928100586,
          -53.10700225830078,
          -33.25307083129883,
          -19.398792266845703,
          -31.509872436523438,
          -13.964720726013184,
          17.600418090820312,
          3.177544355392456,
          1.0460727214813232,
          -15.584371566772461,
          30.108543395996094,
          -32.309547424316406,
          -1.643805980682373,
          -35.08349609375,
          3.5760042667388916,
          52.07389450073242,
          -46.662384033203125,
          41.47254180908203,
          15.407297134399414,
          30.689861297607422,
          59.30984115600586,
          8.142160415649414,
          28.394786834716797,
          22.192867279052734,
          -41.92633819580078,
          11.852439880371094,
          -13.925150871276855,
          -1.7816438674926758,
          -33.17574691772461,
          -44.80278778076172,
          -18.273073196411133,
          14.399781227111816,
          -37.95575714111328,
          -24.856428146362305,
          44.174652099609375,
          42.32892990112305,
          -12.453049659729004,
          -4.094053268432617,
          -14.442166328430176,
          0.1490163952112198,
          -10.145591735839844,
          -22.269113540649414,
          -3.326719284057617,
          18.25081443786621,
          -28.500539779663086,
          5.824288845062256,
          10.034197807312012,
          -21.676332473754883,
          -57.78759765625,
          15.267328262329102,
          -57.81278610229492,
          -0.7436694502830505,
          -36.07303237915039,
          19.427196502685547,
          47.82868194580078,
          -34.86815643310547,
          -22.326223373413086,
          23.790889739990234,
          -28.67767333984375,
          12.834918022155762,
          27.13796615600586,
          -24.930458068847656,
          -10.966899871826172,
          -7.490655899047852,
          -6.098374366760254,
          -15.637452125549316,
          8.077178955078125,
          -1.7890058755874634,
          28.39913558959961,
          -33.1507682800293,
          -11.76321792602539,
          -18.573617935180664,
          30.78933334350586,
          -0.2067553997039795,
          -16.1854248046875,
          -6.901912212371826,
          -0.20700772106647491,
          19.823501586914062,
          -7.055536270141602,
          -8.337430953979492,
          -33.09377670288086,
          20.591014862060547,
          3.634640693664551,
          -7.929969310760498,
          -25.809741973876953,
          57.45777130126953,
          -15.50485610961914,
          -15.44359016418457,
          12.52714729309082,
          -6.19061803817749,
          5.947936058044434,
          -36.835391998291016,
          -55.89714813232422,
          2.2762815952301025,
          11.62515640258789,
          -22.296844482421875,
          7.4254069328308105,
          -1.885425090789795,
          -32.22175216674805,
          28.662639617919922,
          16.37228012084961,
          49.12834930419922,
          -31.481672286987305,
          -12.811463356018066,
          43.33348083496094,
          30.812238693237305,
          -11.763425827026367,
          18.842573165893555,
          4.144721984863281,
          20.064348220825195,
          -1.328464150428772,
          14.905176162719727,
          -46.240882873535156,
          18.42924690246582,
          -15.248577117919922,
          -36.42305374145508,
          -18.015954971313477
         ],
         "z": [
          -9.947803497314453,
          -11.724985122680664,
          -14.776908874511719,
          -15.860092163085938,
          -14.45234203338623,
          -13.621808052062988,
          -14.088861465454102,
          -12.665982246398926,
          -17.39878273010254,
          -12.054486274719238,
          -16.688676834106445,
          -13.89223861694336,
          15.601030349731445,
          -15.425626754760742,
          -16.659481048583984,
          -7.599553108215332,
          -16.1242733001709,
          1.8478668928146362,
          -2.8352842330932617,
          -5.941442489624023,
          -9.952303886413574,
          -8.294055938720703,
          -38.09270095825195,
          5.453190326690674,
          -28.95623779296875,
          -3.076608896255493,
          -31.988616943359375,
          -16.763540267944336,
          -1.8963792324066162,
          1.6416294574737549,
          0.7521857023239136,
          -16.55502700805664,
          2.0021867752075195,
          -42.92864227294922,
          5.370573043823242,
          -15.127275466918945,
          20.659666061401367,
          -24.740314483642578,
          15.968361854553223,
          31.59169578552246,
          22.763835906982422,
          40.96079635620117,
          -17.950334548950195,
          -42.00956726074219,
          -23.8167724609375,
          0.21499742567539215,
          39.77920913696289,
          -25.888835906982422,
          -26.906831741333008,
          -60.2631721496582,
          -42.24691390991211,
          -11.851629257202148,
          -22.784475326538086,
          9.480567932128906,
          -58.98915100097656,
          19.68133544921875,
          9.675629615783691,
          -33.5570182800293,
          11.579183578491211,
          -13.08227825164795,
          -23.685876846313477,
          -34.452789306640625,
          -25.234323501586914,
          -13.869009017944336,
          -16.398263931274414,
          7.3316192626953125,
          -9.209529876708984,
          -22.9268798828125,
          -6.617031097412109,
          -19.117488861083984,
          -4.324497699737549,
          20.795787811279297,
          4.21422004699707,
          8.621129989624023,
          -15.097251892089844,
          -22.785341262817383,
          0.979602038860321,
          1.7052737474441528,
          31.372652053833008,
          -29.960311889648438,
          8.59335708618164,
          -39.72854232788086,
          25.437728881835938,
          -20.76958465576172,
          -2.5596835613250732,
          -24.505348205566406,
          -17.10682487487793,
          17.86298179626465,
          -13.816818237304688,
          24.617761611938477,
          -21.904342651367188,
          0.7758468985557556,
          -13.529006004333496,
          -32.60430908203125,
          -18.326885223388672,
          49.609588623046875,
          -22.14425277709961,
          -8.611982345581055,
          -32.37888717651367,
          -38.48122787475586,
          -2.5378079414367676,
          11.92526912689209,
          -29.456581115722656,
          -21.581741333007812,
          -10.45105266571045,
          -7.012527942657471,
          -16.408742904663086,
          13.788134574890137,
          36.34315872192383,
          -0.9210459589958191,
          -15.402655601501465,
          -17.686424255371094,
          6.780009746551514,
          -29.289852142333984,
          15.23709774017334,
          -11.54806137084961,
          -26.009239196777344,
          0.07175105065107346,
          -1.2770341634750366,
          25.638288497924805,
          -12.119732856750488,
          -17.86028289794922,
          -31.39824867248535,
          49.975181579589844,
          -3.7178351879119873,
          1.172231674194336,
          13.268291473388672,
          1.449767827987671,
          -47.45882034301758,
          -15.793680191040039,
          -31.653085708618164,
          -11.1680269241333,
          -23.88536834716797,
          -6.24561882019043,
          33.68745040893555,
          -39.638099670410156,
          -40.186485290527344,
          -5.528263092041016,
          -9.494169235229492,
          -5.68241024017334,
          42.80040740966797,
          -35.96038055419922,
          -37.52063751220703,
          -31.211355209350586,
          -4.0000224113464355,
          -40.4283561706543,
          -8.089567184448242,
          -22.62194061279297,
          30.237136840820312,
          -17.19654083251953,
          1.1782828569412231,
          -15.87558650970459,
          47.44977951049805,
          3.5662527084350586,
          -33.2001953125,
          -15.297850608825684,
          -3.62369704246521,
          -1.8198204040527344,
          -15.096992492675781,
          35.03759765625,
          34.322628021240234,
          11.353791236877441,
          -17.736122131347656,
          -20.11986541748047,
          -5.857510089874268,
          1.4852427244186401,
          6.193708896636963,
          3.215256690979004,
          -17.53278160095215,
          13.575691223144531,
          6.814733028411865,
          -2.333195686340332,
          -6.572389125823975,
          7.417842864990234,
          -19.695066452026367,
          -10.705968856811523,
          5.273174285888672,
          -46.68171691894531,
          -26.894620895385742,
          31.957414627075195,
          33.79622268676758,
          -18.96910285949707,
          -31.104610443115234,
          49.570960998535156,
          -5.933260440826416,
          -13.226200103759766,
          37.05286407470703,
          -37.44072341918945,
          -3.4116852283477783,
          -48.22636413574219,
          29.924713134765625,
          -6.143275737762451,
          -0.19140565395355225,
          15.996243476867676,
          27.132099151611328,
          24.478092193603516,
          29.012256622314453,
          -49.23009490966797,
          1.4257359504699707,
          -33.41862106323242
         ]
        }
       ],
       "layout": {
        "legend": {
         "tracegroupgap": 0
        },
        "margin": {
         "t": 60
        },
        "scene": {
         "domain": {
          "x": [
           0,
           1
          ],
          "y": [
           0,
           1
          ]
         },
         "xaxis": {
          "title": {
           "text": "x"
          }
         },
         "yaxis": {
          "title": {
           "text": "y"
          }
         },
         "zaxis": {
          "title": {
           "text": "z"
          }
         }
        },
        "template": {
         "data": {
          "bar": [
           {
            "error_x": {
             "color": "#2a3f5f"
            },
            "error_y": {
             "color": "#2a3f5f"
            },
            "marker": {
             "line": {
              "color": "#E5ECF6",
              "width": 0.5
             },
             "pattern": {
              "fillmode": "overlay",
              "size": 10,
              "solidity": 0.2
             }
            },
            "type": "bar"
           }
          ],
          "barpolar": [
           {
            "marker": {
             "line": {
              "color": "#E5ECF6",
              "width": 0.5
             },
             "pattern": {
              "fillmode": "overlay",
              "size": 10,
              "solidity": 0.2
             }
            },
            "type": "barpolar"
           }
          ],
          "carpet": [
           {
            "aaxis": {
             "endlinecolor": "#2a3f5f",
             "gridcolor": "white",
             "linecolor": "white",
             "minorgridcolor": "white",
             "startlinecolor": "#2a3f5f"
            },
            "baxis": {
             "endlinecolor": "#2a3f5f",
             "gridcolor": "white",
             "linecolor": "white",
             "minorgridcolor": "white",
             "startlinecolor": "#2a3f5f"
            },
            "type": "carpet"
           }
          ],
          "choropleth": [
           {
            "colorbar": {
             "outlinewidth": 0,
             "ticks": ""
            },
            "type": "choropleth"
           }
          ],
          "contour": [
           {
            "colorbar": {
             "outlinewidth": 0,
             "ticks": ""
            },
            "colorscale": [
             [
              0,
              "#0d0887"
             ],
             [
              0.1111111111111111,
              "#46039f"
             ],
             [
              0.2222222222222222,
              "#7201a8"
             ],
             [
              0.3333333333333333,
              "#9c179e"
             ],
             [
              0.4444444444444444,
              "#bd3786"
             ],
             [
              0.5555555555555556,
              "#d8576b"
             ],
             [
              0.6666666666666666,
              "#ed7953"
             ],
             [
              0.7777777777777778,
              "#fb9f3a"
             ],
             [
              0.8888888888888888,
              "#fdca26"
             ],
             [
              1,
              "#f0f921"
             ]
            ],
            "type": "contour"
           }
          ],
          "contourcarpet": [
           {
            "colorbar": {
             "outlinewidth": 0,
             "ticks": ""
            },
            "type": "contourcarpet"
           }
          ],
          "heatmap": [
           {
            "colorbar": {
             "outlinewidth": 0,
             "ticks": ""
            },
            "colorscale": [
             [
              0,
              "#0d0887"
             ],
             [
              0.1111111111111111,
              "#46039f"
             ],
             [
              0.2222222222222222,
              "#7201a8"
             ],
             [
              0.3333333333333333,
              "#9c179e"
             ],
             [
              0.4444444444444444,
              "#bd3786"
             ],
             [
              0.5555555555555556,
              "#d8576b"
             ],
             [
              0.6666666666666666,
              "#ed7953"
             ],
             [
              0.7777777777777778,
              "#fb9f3a"
             ],
             [
              0.8888888888888888,
              "#fdca26"
             ],
             [
              1,
              "#f0f921"
             ]
            ],
            "type": "heatmap"
           }
          ],
          "heatmapgl": [
           {
            "colorbar": {
             "outlinewidth": 0,
             "ticks": ""
            },
            "colorscale": [
             [
              0,
              "#0d0887"
             ],
             [
              0.1111111111111111,
              "#46039f"
             ],
             [
              0.2222222222222222,
              "#7201a8"
             ],
             [
              0.3333333333333333,
              "#9c179e"
             ],
             [
              0.4444444444444444,
              "#bd3786"
             ],
             [
              0.5555555555555556,
              "#d8576b"
             ],
             [
              0.6666666666666666,
              "#ed7953"
             ],
             [
              0.7777777777777778,
              "#fb9f3a"
             ],
             [
              0.8888888888888888,
              "#fdca26"
             ],
             [
              1,
              "#f0f921"
             ]
            ],
            "type": "heatmapgl"
           }
          ],
          "histogram": [
           {
            "marker": {
             "pattern": {
              "fillmode": "overlay",
              "size": 10,
              "solidity": 0.2
             }
            },
            "type": "histogram"
           }
          ],
          "histogram2d": [
           {
            "colorbar": {
             "outlinewidth": 0,
             "ticks": ""
            },
            "colorscale": [
             [
              0,
              "#0d0887"
             ],
             [
              0.1111111111111111,
              "#46039f"
             ],
             [
              0.2222222222222222,
              "#7201a8"
             ],
             [
              0.3333333333333333,
              "#9c179e"
             ],
             [
              0.4444444444444444,
              "#bd3786"
             ],
             [
              0.5555555555555556,
              "#d8576b"
             ],
             [
              0.6666666666666666,
              "#ed7953"
             ],
             [
              0.7777777777777778,
              "#fb9f3a"
             ],
             [
              0.8888888888888888,
              "#fdca26"
             ],
             [
              1,
              "#f0f921"
             ]
            ],
            "type": "histogram2d"
           }
          ],
          "histogram2dcontour": [
           {
            "colorbar": {
             "outlinewidth": 0,
             "ticks": ""
            },
            "colorscale": [
             [
              0,
              "#0d0887"
             ],
             [
              0.1111111111111111,
              "#46039f"
             ],
             [
              0.2222222222222222,
              "#7201a8"
             ],
             [
              0.3333333333333333,
              "#9c179e"
             ],
             [
              0.4444444444444444,
              "#bd3786"
             ],
             [
              0.5555555555555556,
              "#d8576b"
             ],
             [
              0.6666666666666666,
              "#ed7953"
             ],
             [
              0.7777777777777778,
              "#fb9f3a"
             ],
             [
              0.8888888888888888,
              "#fdca26"
             ],
             [
              1,
              "#f0f921"
             ]
            ],
            "type": "histogram2dcontour"
           }
          ],
          "mesh3d": [
           {
            "colorbar": {
             "outlinewidth": 0,
             "ticks": ""
            },
            "type": "mesh3d"
           }
          ],
          "parcoords": [
           {
            "line": {
             "colorbar": {
              "outlinewidth": 0,
              "ticks": ""
             }
            },
            "type": "parcoords"
           }
          ],
          "pie": [
           {
            "automargin": true,
            "type": "pie"
           }
          ],
          "scatter": [
           {
            "fillpattern": {
             "fillmode": "overlay",
             "size": 10,
             "solidity": 0.2
            },
            "type": "scatter"
           }
          ],
          "scatter3d": [
           {
            "line": {
             "colorbar": {
              "outlinewidth": 0,
              "ticks": ""
             }
            },
            "marker": {
             "colorbar": {
              "outlinewidth": 0,
              "ticks": ""
             }
            },
            "type": "scatter3d"
           }
          ],
          "scattercarpet": [
           {
            "marker": {
             "colorbar": {
              "outlinewidth": 0,
              "ticks": ""
             }
            },
            "type": "scattercarpet"
           }
          ],
          "scattergeo": [
           {
            "marker": {
             "colorbar": {
              "outlinewidth": 0,
              "ticks": ""
             }
            },
            "type": "scattergeo"
           }
          ],
          "scattergl": [
           {
            "marker": {
             "colorbar": {
              "outlinewidth": 0,
              "ticks": ""
             }
            },
            "type": "scattergl"
           }
          ],
          "scattermapbox": [
           {
            "marker": {
             "colorbar": {
              "outlinewidth": 0,
              "ticks": ""
             }
            },
            "type": "scattermapbox"
           }
          ],
          "scatterpolar": [
           {
            "marker": {
             "colorbar": {
              "outlinewidth": 0,
              "ticks": ""
             }
            },
            "type": "scatterpolar"
           }
          ],
          "scatterpolargl": [
           {
            "marker": {
             "colorbar": {
              "outlinewidth": 0,
              "ticks": ""
             }
            },
            "type": "scatterpolargl"
           }
          ],
          "scatterternary": [
           {
            "marker": {
             "colorbar": {
              "outlinewidth": 0,
              "ticks": ""
             }
            },
            "type": "scatterternary"
           }
          ],
          "surface": [
           {
            "colorbar": {
             "outlinewidth": 0,
             "ticks": ""
            },
            "colorscale": [
             [
              0,
              "#0d0887"
             ],
             [
              0.1111111111111111,
              "#46039f"
             ],
             [
              0.2222222222222222,
              "#7201a8"
             ],
             [
              0.3333333333333333,
              "#9c179e"
             ],
             [
              0.4444444444444444,
              "#bd3786"
             ],
             [
              0.5555555555555556,
              "#d8576b"
             ],
             [
              0.6666666666666666,
              "#ed7953"
             ],
             [
              0.7777777777777778,
              "#fb9f3a"
             ],
             [
              0.8888888888888888,
              "#fdca26"
             ],
             [
              1,
              "#f0f921"
             ]
            ],
            "type": "surface"
           }
          ],
          "table": [
           {
            "cells": {
             "fill": {
              "color": "#EBF0F8"
             },
             "line": {
              "color": "white"
             }
            },
            "header": {
             "fill": {
              "color": "#C8D4E3"
             },
             "line": {
              "color": "white"
             }
            },
            "type": "table"
           }
          ]
         },
         "layout": {
          "annotationdefaults": {
           "arrowcolor": "#2a3f5f",
           "arrowhead": 0,
           "arrowwidth": 1
          },
          "autotypenumbers": "strict",
          "coloraxis": {
           "colorbar": {
            "outlinewidth": 0,
            "ticks": ""
           }
          },
          "colorscale": {
           "diverging": [
            [
             0,
             "#8e0152"
            ],
            [
             0.1,
             "#c51b7d"
            ],
            [
             0.2,
             "#de77ae"
            ],
            [
             0.3,
             "#f1b6da"
            ],
            [
             0.4,
             "#fde0ef"
            ],
            [
             0.5,
             "#f7f7f7"
            ],
            [
             0.6,
             "#e6f5d0"
            ],
            [
             0.7,
             "#b8e186"
            ],
            [
             0.8,
             "#7fbc41"
            ],
            [
             0.9,
             "#4d9221"
            ],
            [
             1,
             "#276419"
            ]
           ],
           "sequential": [
            [
             0,
             "#0d0887"
            ],
            [
             0.1111111111111111,
             "#46039f"
            ],
            [
             0.2222222222222222,
             "#7201a8"
            ],
            [
             0.3333333333333333,
             "#9c179e"
            ],
            [
             0.4444444444444444,
             "#bd3786"
            ],
            [
             0.5555555555555556,
             "#d8576b"
            ],
            [
             0.6666666666666666,
             "#ed7953"
            ],
            [
             0.7777777777777778,
             "#fb9f3a"
            ],
            [
             0.8888888888888888,
             "#fdca26"
            ],
            [
             1,
             "#f0f921"
            ]
           ],
           "sequentialminus": [
            [
             0,
             "#0d0887"
            ],
            [
             0.1111111111111111,
             "#46039f"
            ],
            [
             0.2222222222222222,
             "#7201a8"
            ],
            [
             0.3333333333333333,
             "#9c179e"
            ],
            [
             0.4444444444444444,
             "#bd3786"
            ],
            [
             0.5555555555555556,
             "#d8576b"
            ],
            [
             0.6666666666666666,
             "#ed7953"
            ],
            [
             0.7777777777777778,
             "#fb9f3a"
            ],
            [
             0.8888888888888888,
             "#fdca26"
            ],
            [
             1,
             "#f0f921"
            ]
           ]
          },
          "colorway": [
           "#636efa",
           "#EF553B",
           "#00cc96",
           "#ab63fa",
           "#FFA15A",
           "#19d3f3",
           "#FF6692",
           "#B6E880",
           "#FF97FF",
           "#FECB52"
          ],
          "font": {
           "color": "#2a3f5f"
          },
          "geo": {
           "bgcolor": "white",
           "lakecolor": "white",
           "landcolor": "#E5ECF6",
           "showlakes": true,
           "showland": true,
           "subunitcolor": "white"
          },
          "hoverlabel": {
           "align": "left"
          },
          "hovermode": "closest",
          "mapbox": {
           "style": "light"
          },
          "paper_bgcolor": "white",
          "plot_bgcolor": "#E5ECF6",
          "polar": {
           "angularaxis": {
            "gridcolor": "white",
            "linecolor": "white",
            "ticks": ""
           },
           "bgcolor": "#E5ECF6",
           "radialaxis": {
            "gridcolor": "white",
            "linecolor": "white",
            "ticks": ""
           }
          },
          "scene": {
           "xaxis": {
            "backgroundcolor": "#E5ECF6",
            "gridcolor": "white",
            "gridwidth": 2,
            "linecolor": "white",
            "showbackground": true,
            "ticks": "",
            "zerolinecolor": "white"
           },
           "yaxis": {
            "backgroundcolor": "#E5ECF6",
            "gridcolor": "white",
            "gridwidth": 2,
            "linecolor": "white",
            "showbackground": true,
            "ticks": "",
            "zerolinecolor": "white"
           },
           "zaxis": {
            "backgroundcolor": "#E5ECF6",
            "gridcolor": "white",
            "gridwidth": 2,
            "linecolor": "white",
            "showbackground": true,
            "ticks": "",
            "zerolinecolor": "white"
           }
          },
          "shapedefaults": {
           "line": {
            "color": "#2a3f5f"
           }
          },
          "ternary": {
           "aaxis": {
            "gridcolor": "white",
            "linecolor": "white",
            "ticks": ""
           },
           "baxis": {
            "gridcolor": "white",
            "linecolor": "white",
            "ticks": ""
           },
           "bgcolor": "#E5ECF6",
           "caxis": {
            "gridcolor": "white",
            "linecolor": "white",
            "ticks": ""
           }
          },
          "title": {
           "x": 0.05
          },
          "xaxis": {
           "automargin": true,
           "gridcolor": "white",
           "linecolor": "white",
           "ticks": "",
           "title": {
            "standoff": 15
           },
           "zerolinecolor": "white",
           "zerolinewidth": 2
          },
          "yaxis": {
           "automargin": true,
           "gridcolor": "white",
           "linecolor": "white",
           "ticks": "",
           "title": {
            "standoff": 15
           },
           "zerolinecolor": "white",
           "zerolinewidth": 2
          }
         }
        }
       }
      }
     },
     "metadata": {},
     "output_type": "display_data"
    }
   ],
   "source": [
    "# Graficar los embedddings en 3D\n",
    "\n",
    "bbc_vecs, bbc_labels = reduce_dimensions(bbc_w2v_model,3)\n",
    "\n",
    "fig = px.scatter_3d(x=bbc_vecs[:MAX_WORDS,0], y=bbc_vecs[:MAX_WORDS,1], z=bbc_vecs[:MAX_WORDS,2],text=bbc_labels[:MAX_WORDS])\n",
    "fig.update_traces(marker_size = 2)\n",
    "# fig.show(renderer=\"colab\") # esto para plotly en colab\n",
    "fig.show()"
   ]
  },
  {
   "cell_type": "markdown",
   "metadata": {},
   "source": [
    "A continuación, se analizarán gráficamente algunos de los ejemplos expuestos en la sección \"Prueba de términos de interés en el espacio de embeddings\""
   ]
  },
  {
   "cell_type": "markdown",
   "metadata": {},
   "source": [
    "![alt text](image-2.png)"
   ]
  },
  {
   "cell_type": "markdown",
   "metadata": {},
   "source": [
    "Aquí se puede ver de forma gráfica una fuerte relación entre los términos Ucrania, Rusia, Israel, Gaza y guerra. Tal como se expuso anteriormente, sabemos que estas relaciones son correctas, ya que estos países se encuentran en guerra actualmente.\n",
    "\n",
    "\n",
    "Analicemos otro ejemplo:"
   ]
  },
  {
   "cell_type": "markdown",
   "metadata": {},
   "source": [
    "![alt text](image-3.png)"
   ]
  },
  {
   "cell_type": "markdown",
   "metadata": {},
   "source": [
    "En este caso, se puede observar una clara relación entre los términos Manchester, United, City, Chelsea, Liverpool, West y Premier League. Estos términos se relacionan fuertemente con el fútbol inglés, tal como se expuso en el ejemplo de similaridad con el término \"manchester\"."
   ]
  },
  {
   "cell_type": "markdown",
   "metadata": {},
   "source": [
    "Cabe aclarar que no se ven exactamente los mismos términos que en los ejemplos analizados en la sección \"Prueba de términos de interés en el espacio de embeddings\". Esto se debe a la reducción de dimensiones y de puntos a la hora de realizar los gráficos. De todas formas, los gráficos resultan también una herramienta valiosa para verificar que el nivel de relación entre los términos cercanos es igualmente muy bueno."
   ]
  },
  {
   "cell_type": "markdown",
   "metadata": {},
   "source": [
    "#### 4. Conclusiones"
   ]
  },
  {
   "cell_type": "markdown",
   "metadata": {},
   "source": [
    "En resumen, los resultados obtenidos demuestran la eficacia y la capacidad del modelo Word2Vec de Gensim para capturar relaciones semánticas entre palabras en un contexto específico. Se ha podido observar de forma clara que las relaciones entre las palabras similares para el contexto de noticias de la BBC son muy buenas.\n",
    "\n",
    "Se concluye finalmente que el modelo Word2Vec resulta una herramienta efectiva para generar embeddings que representen una relación semántica correcta entre las palabras de un corpus determinado."
   ]
  }
 ],
 "metadata": {
  "colab": {
   "collapsed_sections": [],
   "provenance": []
  },
  "kernelspec": {
   "display_name": "Python 3 (ipykernel)",
   "language": "python",
   "name": "python3"
  },
  "language_info": {
   "codemirror_mode": {
    "name": "ipython",
    "version": 3
   },
   "file_extension": ".py",
   "mimetype": "text/x-python",
   "name": "python",
   "nbconvert_exporter": "python",
   "pygments_lexer": "ipython3",
   "version": "3.10.12"
  }
 },
 "nbformat": 4,
 "nbformat_minor": 4
}
